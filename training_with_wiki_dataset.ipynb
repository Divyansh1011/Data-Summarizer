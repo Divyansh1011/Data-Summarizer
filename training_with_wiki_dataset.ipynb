{
 "cells": [
  {
   "cell_type": "code",
   "execution_count": 1,
   "id": "615fda71",
   "metadata": {},
   "outputs": [
    {
     "name": "stderr",
     "output_type": "stream",
     "text": [
      "[nltk_data] Downloading package punkt to /home/divyansh/nltk_data...\n",
      "[nltk_data]   Package punkt is already up-to-date!\n"
     ]
    }
   ],
   "source": [
    "import argparse\n",
    "import glob\n",
    "import os\n",
    "import json\n",
    "import time\n",
    "import logging\n",
    "import random\n",
    "import re\n",
    "from itertools import chain\n",
    "from string import punctuation\n",
    "\n",
    "import nltk\n",
    "nltk.download('punkt')\n",
    "from nltk.tokenize import sent_tokenize\n",
    "\n",
    "import pandas as pd\n",
    "import numpy as np\n",
    "import torch\n",
    "import pytorch_lightning as pl\n",
    "from torch.utils.data import Dataset, DataLoader\n",
    "from pytorch_lightning.loggers import WandbLogger\n",
    "from nlp import load_metric\n",
    "\n",
    "from transformers import (\n",
    "    AdamW,\n",
    "    T5ForConditionalGeneration,\n",
    "    T5Tokenizer,\n",
    "    get_linear_schedule_with_warmup\n",
    ")"
   ]
  },
  {
   "cell_type": "code",
   "execution_count": 2,
   "id": "1c5b0aca",
   "metadata": {},
   "outputs": [
    {
     "name": "stderr",
     "output_type": "stream",
     "text": [
      "\u001b[34m\u001b[1mwandb\u001b[0m: Currently logged in as: \u001b[33mdivyansh_1011\u001b[0m (\u001b[33mbuild_neo\u001b[0m). Use \u001b[1m`wandb login --relogin`\u001b[0m to force relogin\n"
     ]
    },
    {
     "data": {
      "text/html": [
       "Tracking run with wandb version 0.12.17"
      ],
      "text/plain": [
       "<IPython.core.display.HTML object>"
      ]
     },
     "metadata": {},
     "output_type": "display_data"
    },
    {
     "data": {
      "text/html": [
       "Run data is saved locally in <code>/home/divyansh/Divyansh/projects/TextSummarizer/wandb/run-20220607_134833-3fs6klfh</code>"
      ],
      "text/plain": [
       "<IPython.core.display.HTML object>"
      ]
     },
     "metadata": {},
     "output_type": "display_data"
    },
    {
     "data": {
      "text/html": [
       "Syncing run <strong><a href=\"https://wandb.ai/build_neo/wikohow-t5/runs/3fs6klfh\" target=\"_blank\">hardy-wildflower-10</a></strong> to <a href=\"https://wandb.ai/build_neo/wikohow-t5\" target=\"_blank\">Weights & Biases</a> (<a href=\"https://wandb.me/run\" target=\"_blank\">docs</a>)<br/>"
      ],
      "text/plain": [
       "<IPython.core.display.HTML object>"
      ]
     },
     "metadata": {},
     "output_type": "display_data"
    }
   ],
   "source": [
    "import wandb\n",
    "from pytorch_lightning.loggers import WandbLogger\n",
    "from pytorch_lightning import Trainer\n",
    "\n",
    "import wandb\n",
    "YOUR_API_KEY = '1f727919afa59f54d78e3232b21fcf774d2fb392'\n",
    "os.environ[\"WANDB_API_KEY\"] = YOUR_API_KEY\n",
    "wandb_logger = WandbLogger(project='wikohow-t5')"
   ]
  },
  {
   "cell_type": "code",
   "execution_count": 3,
   "id": "0158bfd0",
   "metadata": {},
   "outputs": [
    {
     "name": "stdout",
     "output_type": "stream",
     "text": [
      "acronym_identification, ade_corpus_v2, adversarial_qa, aeslc, afrikaans_ner_corpus, ag_news, ai2_arc, air_dialogue, ajgt_twitter_ar, allegro_reviews, allocine, alt, amazon_polarity, amazon_reviews_multi, amazon_us_reviews, ambig_qa, americas_nli, ami, amttl, anli, app_reviews, aqua_rat, aquamuse, ar_cov19, ar_res_reviews, ar_sarcasm, arabic_billion_words, arabic_pos_dialect, arabic_speech_corpus, arcd, arsentd_lev, art, arxiv_dataset, ascent_kb, aslg_pc12, asnq, asset, assin, assin2, atomic, autshumato, babi_qa, banking77, bbaw_egyptian, bbc_hindi_nli, bc2gm_corpus, beans, best2009, bianet, bible_para, big_patent, billsum, bing_coronavirus_query_set, biomrc, biosses, blbooks, blbooksgenre, blended_skill_talk, blimp, blog_authorship_corpus, bn_hate_speech, bnl_newspapers, bookcorpus, bookcorpusopen, boolq, bprec, break_data, brwac, bsd_ja_en, bswac, c3, c4, cail2018, caner, capes, casino, catalonia_independence, cats_vs_dogs, cawac, cbt, cc100, cc_news, ccaligned_multilingual, cdsc, cdt, cedr, cfq, chr_en, cifar10, cifar100, circa, civil_comments, clickbait_news_bg, climate_fever, clinc_oos, clue, cmrc2018, cmu_hinglish_dog, cnn_dailymail, coached_conv_pref, coarse_discourse, codah, code_search_net, code_x_glue_cc_clone_detection_big_clone_bench, code_x_glue_cc_clone_detection_poj104, code_x_glue_cc_cloze_testing_all, code_x_glue_cc_cloze_testing_maxmin, code_x_glue_cc_code_completion_line, code_x_glue_cc_code_completion_token, code_x_glue_cc_code_refinement, code_x_glue_cc_code_to_code_trans, code_x_glue_cc_defect_detection, code_x_glue_ct_code_to_text, code_x_glue_tc_nl_code_search_adv, code_x_glue_tc_text_to_code, code_x_glue_tt_text_to_text, com_qa, common_gen, common_language, common_voice, commonsense_qa, competition_math, compguesswhat, conceptnet5, conll2000, conll2002, conll2003, conllpp, consumer-finance-complaints, conv_ai, conv_ai_2, conv_ai_3, conv_questions, coqa, cord19, cornell_movie_dialog, cos_e, cosmos_qa, counter, covid_qa_castorini, covid_qa_deepset, covid_qa_ucsd, covid_tweets_japanese, covost2, cppe-5, craigslist_bargains, crawl_domain, crd3, crime_and_punish, crows_pairs, cryptonite, cs_restaurants, cuad, curiosity_dialogs, daily_dialog, dane, danish_political_comments, dart, datacommons_factcheck, dbpedia_14, dbrd, deal_or_no_dialog, definite_pronoun_resolution, dengue_filipino, dialog_re, diplomacy_detection, disaster_response_messages, discofuse, discovery, disfl_qa, doc2dial, docred, doqa, dream, drop, duorc, dutch_social, dyk, e2e_nlg, e2e_nlg_cleaned, ecb, ecthr_cases, eduge, ehealth_kd, eitb_parcc, electricity_load_diagrams, eli5, eli5_category, emea, emo, emotion, emotone_ar, empathetic_dialogues, enriched_web_nlg, eraser_multi_rc, esnli, eth_py150_open, ethos, eu_regulatory_ir, eurlex, euronews, europa_eac_tm, europa_ecdc_tm, europarl_bilingual, event2Mind, evidence_infer_treatment, exams, factckbr, fake_news_english, fake_news_filipino, farsi_news, fashion_mnist, fever, few_rel, financial_phrasebank, finer, flores, flue, food101, fquad, freebase_qa, gap, gem, generated_reviews_enth, generics_kb, german_legal_entity_recognition, germaner, germeval_14, giga_fren, gigaword, glucose, glue, gnad10, go_emotions, gooaq, google_wellformed_query, grail_qa, great_code, greek_legal_code, guardian_authorship, gutenberg_time, hans, hansards, hard, harem, has_part, hate_offensive, hate_speech18, hate_speech_filipino, hate_speech_offensive, hate_speech_pl, hate_speech_portuguese, hatexplain, hausa_voa_ner, hausa_voa_topics, hda_nli_hindi, head_qa, health_fact, hebrew_projectbenyehuda, hebrew_sentiment, hebrew_this_world, hellaswag, hendrycks_test, hind_encorp, hindi_discourse, hippocorpus, hkcancor, hlgd, hope_edi, hotpot_qa, hover, hrenwac_para, hrwac, humicroedit, hybrid_qa, hyperpartisan_news_detection, iapp_wiki_qa_squad, id_clickbait, id_liputan6, id_nergrit_corpus, id_newspapers_2018, id_panl_bppt, id_puisi, igbo_english_machine_translation, igbo_monolingual, igbo_ner, ilist, imdb, imdb_urdu_reviews, imppres, indic_glue, indonli, indonlu, inquisitive_qg, interpress_news_category_tr, interpress_news_category_tr_lite, irc_disentangle, isixhosa_ner_corpus, isizulu_ner_corpus, iwslt2017, jeopardy, jfleg, jigsaw_toxicity_pred, jigsaw_unintended_bias, jnlpba, journalists_questions, kan_hope, kannada_news, kd_conv, kde4, kelm, kilt_tasks, kilt_wikipedia, kinnews_kirnews, klue, kor_3i4k, kor_hate, kor_ner, kor_nli, kor_nlu, kor_qpair, kor_sae, kor_sarcasm, labr, lama, lambada, large_spanish_corpus, laroseda, lc_quad, lener_br, lex_glue, liar, librispeech_asr, librispeech_lm, limit, lince, linnaeus, liveqa, lj_speech, lm1b, lst20, m_lama, mac_morpho, makhzan, masakhaner, math_dataset, math_qa, matinf, mbpp, mc4, mc_taco, md_gender_bias, mdd, med_hop, medal, medical_dialog, medical_questions_pairs, menyo20k_mt, meta_woz, metooma, metrec, miam, mkb, mkqa, mlqa, mlsum, mnist, mocha, moroco, movie_rationales, mrqa, ms_marco, ms_terms, msr_genomics_kbcomp, msr_sqa, msr_text_compression, msr_zhen_translation_parity, msra_ner, mt_eng_vietnamese, muchocine, multi_booked, multi_eurlex, multi_news, multi_nli, multi_nli_mismatch, multi_para_crawl, multi_re_qa, multi_woz_v22, multi_x_science_sum, multidoc2dial, multilingual_librispeech, mutual_friends, mwsc, myanmar_news, narrativeqa, narrativeqa_manual, natural_questions, ncbi_disease, nchlt, ncslgr, nell, neural_code_search, news_commentary, newsgroup, newsph, newsph_nli, newspop, newsqa, newsroom, nkjp-ner, nli_tr, nlu_evaluation_data, norec, norne, norwegian_ner, nq_open, nsmc, numer_sense, numeric_fused_head, oclar, offcombr, offenseval2020_tr, offenseval_dravidian, ofis_publik, ohsumed, ollie, omp, onestop_english, onestop_qa, open_subtitles, openai_humaneval, openbookqa, openslr, openwebtext, opinosis, opus100, opus_books, opus_dgt, opus_dogc, opus_elhuyar, opus_euconst, opus_finlex, opus_fiskmo, opus_gnome, opus_infopankki, opus_memat, opus_montenegrinsubs, opus_openoffice, opus_paracrawl, opus_rf, opus_tedtalks, opus_ubuntu, opus_wikipedia, opus_xhosanavy, orange_sum, oscar, para_crawl, para_pat, parsinlu_reading_comprehension, pass, paws-x, paws, pec, peer_read, peoples_daily_ner, per_sent, persian_ner, pg19, php, piaf, pib, piqa, pn_summary, poem_sentiment, polemo2, poleval2019_cyberbullying, poleval2019_mt, polsum, polyglot_ner, prachathai67k, pragmeval, proto_qa, psc, ptb_text_only, pubmed, pubmed_qa, py_ast, qa4mre, qa_srl, qa_zre, qangaroo, qanta, qasc, qasper, qed, qed_amara, quac, quail, quarel, quartz, quora, quoref, race, re_dial, reasoning_bg, recipe_nlg, reclor, red_caps, reddit, reddit_tifu, refresd, reuters21578, riddle_sense, ro_sent, ro_sts, ro_sts_parallel, roman_urdu, ronec, ropes, rotten_tomatoes, russian_super_glue, s2orc, samsum, sanskrit_classic, saudinewsnet, sberquad, scan, scb_mt_enth_2020, scene_parse_150, schema_guided_dstc8, scicite, scielo, scientific_papers, scifact, sciq, scitail, scitldr, search_qa, sede, selqa, sem_eval_2010_task_8, sem_eval_2014_task_1, sem_eval_2018_task_1, sem_eval_2020_task_11, sent_comp, senti_lex, senti_ws, sentiment140, sepedi_ner, sesotho_ner_corpus, setimes, setswana_ner_corpus, sharc, sharc_modified, sick, silicone, simple_questions_v2, siswati_ner_corpus, smartdata, sms_spam, snips_built_in_intents, snli, snow_simplified_japanese_corpus, so_stacksample, social_bias_frames, social_i_qa, sofc_materials_articles, sogou_news, spanish_billion_words, spc, species_800, speech_commands, spider, squad, squad_adversarial, squad_es, squad_it, squad_kor_v1, squad_kor_v2, squad_v1_pt, squad_v2, squadshifts, srwac, sst, stereoset, story_cloze, stsb_mt_sv, stsb_multi_mt, style_change_detection, subjqa, super_glue, superb, svhn, swag, swahili, swahili_news, swda, swedish_medical_ner, swedish_ner_corpus, swedish_reviews, swiss_judgment_prediction, tab_fact, tamilmixsentiment, tanzil, tapaco, tashkeela, taskmaster1, taskmaster2, taskmaster3, tatoeba, ted_hrlr, ted_iwlst2013, ted_multi, ted_talks_iwslt, telugu_books, telugu_news, tep_en_fa_para, text2log, thai_toxicity_tweet, thainer, thaiqa_squad, thaisum, the_pile, the_pile_books3, the_pile_openwebtext2, the_pile_stack_exchange, tilde_model, time_dial, times_of_india_news_headlines, timit_asr, tiny_shakespeare, tlc, tmu_gfm_dataset, told-br, totto, trec, trivia_qa, tsac, ttc4900, tunizi, tuple_ie, turk, turkic_xwmt, turkish_movie_sentiment, turkish_ner, turkish_product_reviews, turkish_shrinked_ner, turku_ner_corpus, tweet_eval, tweet_qa, tweets_ar_en_parallel, tweets_hate_speech_detection, twi_text_c3, twi_wordsim353, tydiqa, ubuntu_dialogs_corpus, udhr, um005, un_ga, un_multi, un_pc, universal_dependencies, universal_morphologies, urdu_fake_news, urdu_sentiment_corpus, vctk, vivos, web_nlg, web_of_science, web_questions, weibo_ner, wi_locness, wider_face, wiki40b, wiki_asp, wiki_atomic_edits, wiki_auto, wiki_bio, wiki_dpr, wiki_hop, wiki_lingua, wiki_movies, wiki_qa, wiki_qa_ar, wiki_snippets, wiki_source, wiki_split, wiki_summary, wikiann, wikicorpus, wikihow, wikipedia, wikisql, wikitext, wikitext_tl39, wili_2018, wino_bias, winograd_wsc, winogrande, wiqa, wisesight1000, wisesight_sentiment, wmt14, wmt15, wmt16, wmt17, wmt18, wmt19, wmt20_mlqe_task1, wmt20_mlqe_task2, wmt20_mlqe_task3, wmt_t2t, wnut_17, wongnai_reviews, woz_dialogue, wrbsc, x_stance, xcopa, xcsr, xed_en_fi, xglue, xnli, xor_tydi_qa, xquad, xquad_r, xsum, xsum_factuality, xtreme, yahoo_answers_qa, yahoo_answers_topics, yelp_polarity, yelp_review_full, yoruba_bbc_topics, yoruba_gv_ner, yoruba_text_c3, yoruba_wordsim353, youtube_caption_corrections, zest, 0n1xus/codexglue, 0n1xus/pytorrent-standalone, AConsApart/anime_subtitles_DialoGPT, AHussain0418/day2_data, AHussain0418/day4data, AHussain0418/demo_data, AI-Sweden/SuperLim, AI-it/khs_service_test, AI-it/korean-hate-speech, ARKseal/YFCC14M_subset_webdataset, ARTeLab/fanpage, ARTeLab/ilpost, ARTeLab/mlsum-it, ASCCCCCCCC/amazon_zh, ASCCCCCCCC/amazon_zh_simple, Abdo1Kamr/Arabic_Hadith, Abirate/code_net_dataset, Abirate/code_net_dev_dataset, Abirate/code_net_test_final_dataset, Abirate/english_quotes, Abirate/french_book_reviews, AdWeeb/DravidianMT, Adnan/Urdu_News_Headlines, AhmadSawal/qa, AhmedSSoliman/CoNaLa, Aisha/BAAD16, Aisha/BAAD6, Akila/ForgottenRealmsWikiDataset, Akshith/aa, Akshith/g_rock, Akshith/test, AlekseyDorkin/extended_tweet_emojis, AlekseyKorshuk/comedy-scripts, AlekseyKorshuk/horror-scripts, AlexMaclean/all-deletion-compressions, AlexMaclean/wikipedia-deletion-compressions, AlexZapolskii/zapolskii-amazon, AlgoveraAI/CryptoPunks, Aliseyfi/event_token_type, Alvenir/nst-da-16khz, AndrewMcDowell/de_corpora_parliament_processed, Annabelleabbott/real-fake-news-workshop, Annielytics/DoctorsNotes, Anurag-Singh-creator/task, Anurag-Singh-creator/tasks, ApiInferenceTest/asr_dummy, Arnold/hausa_common_voice, AryanLala/autonlp-data-Scientific_Title_Generator, Atsushi/fungi_diagnostic_chars_comparison_japanese, Atsushi/fungi_indexed_mycological_papers_japanese, Atsushi/fungi_trait_circus_database, Avishekavi/Avi, BSC-TeMU/SQAC, BSC-TeMU/ancora-ca-ner, BSC-TeMU/sts-ca, BSC-TeMU/tecla, BSC-TeMU/viquiquad, BSC-TeMU/xquad-ca, Babelscape/rebel-dataset, Babelscape/wikineural, BatuhanYilmaz/github-issues, Baybars/parla_text_corpus, BeIR/beir-corpus, BeIR/beir, BenjaminGalliot/pangloss, Binbin/my_dataset, BlakesOrb6/Fred-Flintstone, Bosio/pacman, Bosio/pacman_descriptions, BritishLibraryLabs/EThOS-PhD-metadata, CAGER/rick, CALM/arwiki, CAiRE/ASCEND, CShorten/KerasBERT, CShorten/ZillowPrize, ChadxxxxHall/Inter-vision, Champion/vpc2020_clear_anon_speech, Check/a_re_gi, Check/region_1, Check/region_2, Check/region_3, Check/region_4, Check/region_5, Check/region_6, Check/region_7, Check/region_8, Check/region_9, Check/regions, Check/vverify, Cheranga/test, ChristophSchuhmann/MS_COCO_2017_URL_TEXT, Chun/dataset, Chuu/Vhh, CodedotAI/code-clippy-tfrecords, CodedotAI/code_clippy, CodedotAI/code_clippy_github, Crives/haha, Cropinky/flatearther, Cropinky/rap_lyrics_english, Cropinky/wow_fishing_bobber, Cyberfish/pos_tagger, Cyberfish/text_error_correction, CyranoB/polarity, DDSC/angry-tweets, DDSC/dkhate, DDSC/europarl, DDSC/lcc, DDSC/partial-danish-gigaword-no-twitter, DDSC/reddit-da-asr-preprocessed, DDSC/reddit-da, DDSC/twitter-sent, DELith/github-issues, DSCI511G1/COP26_Energy_Transition_Tweets, DanL/scientific-challenges-and-directions-dataset, Daniele/dante-corpus, Darren/data, Datatang/accented_english, Datatang/accented_mandarin, Datatang/chinese_dialect, Datatang/mandarin_chinese, Datatang/mixed_speech_chinese_english, Datatang/multi_language, Datatang/multi_language_conversation, Davlan/conll2003_de_noMISC, Davlan/conll2003_noMISC, Davlan/masakhanerV1, DelgadoPanadero/Pokemon, DeskDown/ALTDataset, DeskDown/ALTDataset_en-to-fil-vi-id-ms-ja-khm, DiFronzo/Human_Activity_Recognition, Dmitriy612/1, DoctorSlimm/yipee, Doohae/klue-mrc-bm25, Doohae/modern_music_re, DoyyingFace/github-embeddings-doy, DoyyingFace/github-issues-doy, DrishtiSharma/as_opus100_processed, DrishtiSharma/bg_opus100_processed, DrishtiSharma/br_opus100_processed, DrishtiSharma/hi_opus100_processed, DrishtiSharma/kk_opus100_processed, DrishtiSharma/mr_opus100_processed, DrishtiSharma/or_opus100_processed, DrishtiSharma/sl_opus100_processed, DrishtiSharma/sr_opus100_processed, Dumiiii/common-voice-romaniarss, EMBO/biolang, EMBO/sd-nlp, ESZER/H, Emanuel/UD_Portuguese-Bosque, Emma121/testtest, Emon/sobuj, Enes3774/data, Exr0n/wiki-entity-similarity, Eymen3455/xsum_tr, FIG-Loneliness/FIG-Loneliness, FL33TW00D/test-dataset, FRTNX/cosuju, FRTNX/worldbank-projects, Felix-ML/quoteli3, Finnish-NLP/mc4_fi_cleaned, Firoj/HumAID, Francois/futures_es, Fraser/mnist-text-default, Fraser/mnist-text-no-spaces, Fraser/mnist-text-small, Fraser/news-category-dataset, Fraser/dream-coder, Fraser/python-lines, Fraser/python-state-changes, Fraser/short-jokes, Fraser/wiki_sentences, GEM/ART, GEM/BiSECT, GEM/CrossWOZ, GEM/OrangeSum, GEM/RiSAWOZ, GEM/RotoWire_English-German, GEM/SIMPITIKI, GEM/SciDuet, GEM/Taskmaster, GEM/cochrane-simplification, GEM/common_gen, GEM/conversational_weather, GEM/cs_restaurants, GEM/dart, GEM/dstc10_track2_task2, GEM/e2e_nlg, GEM/indonlg, GEM/mlb_data_to_text, GEM/mlsum, GEM/opusparcus, GEM/references, GEM/schema_guided_dialog, GEM/sportsett_basketball, GEM/squad_v2, GEM/surface_realisation_st_2020, GEM/totto, GEM/turku_hockey_data2text, GEM/turku_paraphrase_corpus, GEM/viggo, GEM/web_nlg, GEM/wiki_auto_asset_turk, GEM/wiki_cat_sum, GEM/wiki_lingua, GEM/xlsum, GEM/xsum, GEM-submissions/GEM__bart_base_schema_guided_dialog__1645547915, GEM-submissions/lewtun__hugging-face-test-t5-base.outputs.json-36bf2a59__1645558682, GEM-submissions/lewtun__hugging-face-test-t5-base.outputs.json-36bf2a59__1645559101, GEM-submissions/ratishsp, GEM-submissions/submission-scores, GV05/shlomit_speech, Gabriel/quora_swe, GalacticAI/Noirset, Gauravadlakha1509/new_one, GeoffVdr/cv8_trainval_processed, GonzaloA/fake_news, Graphcore/gqa-lxmert, Graphcore/gqa, Graphcore/vqa-lxmert, Graphcore/vqa, Graphcore/wikipedia-bert-128, Graphcore/wikipedia-bert-512, GroNLP/ik-nlp-22_pestyle, GroNLP/ik-nlp-22_slp, GroNLP/ik-nlp-22_transqe, GroNLP/ik-nlp-22_winemag, Gwangho/NCBI-Sars-Cov-2, HHousen/ParaSCI, HHousen/msrp, HHousen/quora, HUPD/hupd, Halilyesilceng/autonlp-data-nameEntityRecognition, HarleyQ/WitcherDialogue, HarrisDePerceptron/sv_corpora_parliament_processed, HarrisDePerceptron/ur_corpora_pib, Harveenchadha/bol-models, Harveenchadha/indic-voice, HarveyBWest/mybot, Hellisotherpeople/DebateSum, Helsinki-NLP/tatoeba_mt, HenryAI/KerasAPIReference.txt, HenryAI/KerasBERTv1-Data, HenryAI/KerasCodeExamples.txt, HenryAI/KerasDeveloperGuides.txt, Huertas97/autonlp-data-mami-semeval-20-21, Husain/intent-classification-en-fr, IFSTalfredoswald/MBTI, IGESML/pubmed_neg, Iftoo95/Arabic_Sentiment_and_Topics, IlyaGusev/gazeta, IlyaGusev/headline_cause, Intel/WEC-Eng, IsaacBot/GP-Sentiment, Ishwar/Senti, Iskaj/dutch_corpora_parliament_processed, JIWON/nil_dataset, JIsanan/war-ceb-wikipedia, Jack0508/TED2020_kor, Jack0508/TED2020_vi, Jack0508/TED2020vi_kor, Jack0508/demo, Jack0508/eng_vi_demo, Jack0508/test, Jack0508/vi-ko-TED-txt, Jean-Baptiste/wikiner_fr, Jeska/autonlp-data-vaccinfaq, Jeska/vaccinchat, JesseParvess/book_snippets_asr, LysandreJik/demo1, LysandreJik/demo2, LysandreJik/demo3, LysandreJik/demo4, LysandreJik/glue-mnli-train, LysandreJik/push-to-hub, LysandreJik/pushe-to-hub, LysandreJik/pushed-to-hub, LysandreJik/pushedd-to-hub, LysandreJik/random_repo, LysandreJik/stargazers, LysandreJik/temp-repo-valid, LysandreJik/test-16336477963335, LysandreJik/test-16336478042515, LysandreJik/test-16336479967338, LysandreJik/test-16336480189315, LysandreJik/test-16336486877862, LysandreJik/test-16340052901609, LysandreJik/test-16340052972855, LysandreJik/test-16344347220590, LysandreJik/test-16344347234752, LysandreJik/test-16344349332219, LysandreJik/test-16344349440339, LysandreJik/test-16344351925697, LysandreJik/test-16344360501144, LysandreJik/test-16344361893586, LysandreJik/test-16344362261113, LysandreJik/test-16344362895458, LysandreJik/test-16344364230608, LysandreJik/test-16344364547167, LysandreJik/test-16344367190179, LysandreJik/test-16344368182003, JonathanSum/en_corpora_parliament_processed, JonathanSum/github-issues, JonathanSum/sv_corpora_parliament_processed, JustinE/Test, KBLab/overlim, KBLab/sucx3_ner, KETI-AIR/aihub, KETI-AIR/klue, KETI-AIR/kor_corpora, KETI-AIR/korquad, KETI-AIR/nikl, KTH/martin, KTH/nst, KTH/speechdat, KTH/waxholm, Karavet/ARPA-Armenian-Paraphrase-Corpus, Karavet/ILUR-news-text-classification-corpus, Karavet/pioNER-Armenian-Named-Entity, Khanoooo/autonlp-data-Corona, Khondoker/SentNoB, Kili/plastic_in_river, Kira-Asimov/gender_clinical_trial, LIAMF-USP/arc-retrieval-c4, Langame/waiting-messages, Language/Fren, Language/trans, Lenn/github-issues, LeoCordoba/CC-NEWS-ES-titles, LeoCordoba/CC-NEWS-ES, LeverageX/book-summarization, LeverageX/klue-mrc, LeverageX/klue-re, Linda/test1111, Llamacha/Monolingual-cha, Llamacha/monolingual-quechua-iic, LoganKells/amazon_product_reviews_video_games, Lucylulu/amazon, Lucylulu/imdb, LuisG07/es_corpora_parliament_processed, Lumos/yahoo_hga, MBAH/MOVIESON, MKK/Dhivehi-English, Mahalakshmi/ta_lm_processed, Mansooreh/sharif-emotional-speech-dataset, MarianaSahagun/test, MarkusDressel/cord, Marzipan/QA4PC, Mateo/test_dataset, Mateo/testdataset, McGill-NLP/mlquestions, Mcy/random_uselesstestsequence, Melinoe/TheLabTexts, MickyMike/large_c_corpus, Motahar/github-issues, Mrleo1nid/Test_ru_dataset, Mulin/my_third_dataset, NLPC-UOM/English-Tamil-Parallel-Corpus, NLPC-UOM/Sinhala-POS-Data, NTUYG/RAGTest, NYTK/HuCOLA, NYTK/HuCoPA, NYTK/HuRC, NYTK/HuSST, NYTK/HuWNLI, NahedAbdelgaber/evaluating-student-writing, Narsil/asr_dummy, Narsil/conversational_dummy, Narsil/image_dummy, Narsil/test_data, Nathanael/NPS, Navigator/dodydard-marty, NbAiLab/NCC, NbAiLab/NCC_small_100, NbAiLab/NCC_small_divided, NbAiLab/NPSC, NbAiLab/NPSC_test, NbAiLab/NPSC_test2, NbAiLab/bokmaal_admin, NbAiLab/norec_agg, NbAiLab/norne, NbAiLab/norwegian_parliament, NikolajW/NPS_nonNormalized-Cased, NishinoTSK/leishmaniaV2, NishinoTSK/leishmaniav1, Nuwaisir/Quran_speech_recognition_kaggle, Ofrit/tmp, Omar2027/caner_replicate, OmarN121/train, PDJ107/riot-data, Paul/hatecheck, PaulLerner/triviaqa_for_viquae, PaulLerner/triviaqa_splits_for_viquae, PaulLerner/viquae_dataset, PaulLerner/viquae_images, PaulLerner/viquae_wikipedia, Pengfei/asfwe, Pengfei/test, Pengfei/test1, PereLluis13/parla_text_corpus, PereLluis13/spanish_speech_text, Perkhad/corejur, PlanTL-GOB-ES/SQAC, PlanTL-GOB-ES/cantemist-ner, PlanTL-GOB-ES/pharmaconer, Plim/common_voice_7_0_fr_processed, Plim/fr_corpora_parliament_processed, Plim/fr_wikipedia_processed, Plim/language_model_fr, Pongsaky/Wiki_SCG, Pratik/Gujarati_OpenSLR, Pyjay/emotion_nl, Pyke/patent_abstract, QA/abk-eng, R0bk/XFUN, RBG-AI/CoRePooL, Recognai/ag_news_corrected_labels, Recognai/corrected_labels_ag_news, Recognai/gutenberg_spacy-ner, Recognai/imdb_spacy-ner, Recognai/news, Recognai/sentiment-banking, Recognai/veganuary, Remesita/tagged_reviews, Renukswamy/Patent_sentiment_analysis, RohanAiLab/persian_blog, RohanAiLab/persian_daily_news, RohanAiLab/persian_news_dataset, RollingMuffin/test_scripts, Romrawin/mn-sim, RuudVelo/commonvoice_mt_8_processed, RuudVelo/commonvoice_nl_8_processed, RuudVelo/nl_corpora_parliament_processed, SCourthial/test, Sabokou/qg_squad_modified, Sabokou/qg_squad_modified_dev, SajjadAyoubi/persian_qa, Sam2021/Arguement_Mining_CL2017, Samip/func, SaulLu/Natural_Questions_HTML, SaulLu/Natural_Questions_HTML_Toy, SaulLu/Natural_Questions_HTML_reduced_all, SaulLu/test, SaulLu/toy_struc_dataset, SebastianS/github-issues, SergeiGKS/wikiner_fr_job, Serhii/Custom_SQuAD, SetFit/20_newsgroups, SetFit/TREC-QC, SetFit/ag_news, SetFit/amazon_counterfactual, SetFit/amazon_counterfactual_en, SetFit/amazon_polarity, SetFit/bbc-news, SetFit/emotion, SetFit/enron_spam, SetFit/ethos, SetFit/ethos_binary, SetFit/go_emotions, SetFit/hate_speech18, SetFit/hate_speech_offensive, SetFit/imdb, SetFit/insincere-questions, SetFit/sst2, SetFit/sst5, SetFit/student-question-categories, SetFit/subj, SetFit/toxic_conversations, SetFit/tweet_eval_stance, SetFit/tweet_sentiment_extraction, SetFit/yelp_review_full, Shanna/Jamaica, ShinyQ/PPKM_Pemerintah, ShreyaR/DepressionDetection, Shushant/ContaminationQA, Shushant/NepaliSentiment, Shushant/nepali, SkelterLabsInc/JaQuAD, Smiling/webnovels-en, SoLID/shellcode_i_a32, SocialGrep/one-million-reddit-confessions, SocialGrep/one-million-reddit-jokes, SocialGrep/one-million-reddit-questions, SocialGrep/one-year-of-r-india, SocialGrep/reddit-crypto-aug-2021, SocialGrep/reddit-nonewnormal-complete, SocialGrep/reddit-wallstreetbets-aug-2021, SocialGrep/ten-million-reddit-answers, SocialGrep/the-2022-trucker-strike-on-reddit, SocialGrep/the-reddit-covid-dataset, SocialGrep/top-american-universities-on-reddit, SophieTr/reddit_clean, Sunbird/salt-dataset, SuperAI2-Machima/ThaiQA_LST20, TRoboto/masc, TRoboto/names, TaahaKazi/FCE, Taekyoon/test_none_state, Tahsin-Mayeesha/Bengali-SQuAD, Tatyana/ru_sentiment_dataset, Terry0107/RiSAWOZ, TestCher/Testi, Tevatron/msmarco-passage-corpus, Tevatron/msmarco-passage, Tevatron/scifact-corpus, Tevatron/scifact, Tevatron/wikipedia-curated-corpus, Tevatron/wikipedia-curated, Tevatron/wikipedia-nq-corpus, Tevatron/wikipedia-nq, Tevatron/wikipedia-squad-corpus, Tevatron/wikipedia-squad, Tevatron/wikipedia-trivia-corpus, Tevatron/wikipedia-trivia, Tevatron/wikipedia-wq-corpus, Tevatron/wikipedia-wq, TheBlindBandit/SpongeNot, TimTreasure4/Test, Trainmaster9977/957, Trainmaster9977/zbakuman, TristanBehrens/js-fakes-4bars, TurkuNLP/register_mc4, TurkuNLP/register_oscar, TurkuNLP/turku_hockey_data2text, TurkuNLP/turku_paraphrase_corpus, Tyler/wikimatrix_collapsed, UMU/spanish-saticorpus-2021, Usin2705/test, VJGamer/test, VadorMazer/skyrimdialogstest, Valahaar/wsdmt, Vishnu393831/VICTORY_dataset, Vishva/UniFAQ_DataSET, Voxcroft/alffa_amharic, Voxcroft/alffa_wolof, Wiedy/be, Wiedy/wav2vec2-large-xls-r-300m-tr-colab, Wikidepia/IndoParaCrawl, Wikidepia/IndoSQuAD, Wikidepia/mc4-filter, WillFerreiraSantos/halos, Wuhu0/output, WyrdCurt/AO4W, Xenova/sponsorblock-768, Xenova/sponsorblock, XiangPan/iflytek, XiangPan/snli_break, XiangXiang/clt, Xinghua/test, Yatoro/github-issues, Yatoro/github_issues, Yeva/arm-summary, YuAnthony/chid, YuAnthony/tnews, Yves/fhnw_swiss_parliament, Zaid/coqa_expanded, Zaid/quac_expanded, Zoe10/ner_dataset, abhishek/autonlp-data-imdb_eval, abhishek/autonlp-data-prodigy-10, abidlabs/crowdsourced-notes, abidlabs/crowdsourced-speech-demo, abidlabs/crowdsourced-speech, abidlabs/crowdsourced-speech2, abidlabs/crowdsourced-speech3, abidlabs/crowdsourced-speech4, abidlabs/crowdsourced-speech5, abidlabs/crowdsourced-speech6, abidlabs/crowdsourced-speech7, abidlabs/test-audio-1, abidlabs/test-audio-13, abidlabs/test-image-13, abidlabs/test-image-classifier-dataset, abidlabs/test-translation-dataset, abidlabs/voice-verification-adversarial-dataset, abwicke/C-B-R, abwicke/koplo, adalbertojunior/MININER, adalbertojunior/punctuation-ptbr-light, adalbertojunior/punctuation-ptbr, adamlin/FewShotWoz, adamlin/companion, adamlin/coqa_squad, adamlin/daily_dialog, adamlin/domain_classification, adamlin/mail-classification, adamlin/multiwoz_dst, adamlin/qa_verification, adamlin/roc_story, adamlin/rs, adamlin/weibo_ner, addy88/nq-question-answeronly, addy88/sanskrit-asr-84-eval, addy88/sanskrit-asr-84, afasafen/mydataset, afasafen/newDataSet, ai4bharat/samanantar, aidystark/Yt, ajmbell/test-dataset, akhaliq/test, akumar33/manufacturing, albertvillanova/carbon_24, albertvillanova/datasets-tests-compression, albertvillanova/dummy_libri2mix, albertvillanova/legal_contracts, albertvillanova/lm_en_dummy0, albertvillanova/lm_en_dummy1, albertvillanova/lm_en_dummy2, albertvillanova/lm_en_dummy3, albertvillanova/lm_en_dummy4, albertvillanova/pmc_open_access, albertvillanova/sat, albertvillanova/tests-public-raw-jsonl, albertvillanova/tests-raw-jsonl, albertvillanova/tmp-tests-zip, albertvillanova/tmp-tests, alexantonov/chuvash_parallel, aliabd/crowdsourced-calculator-demo, aliabd/crowdsourced-speech4, aliabd/hello-world, alireza655/alireza655, alistvt/coqa-flat, alistvt/coqa-stories, alistvt/coqa, alittleie/mis_238, allegro/klej-allegro-reviews, allegro/klej-cbd, allegro/klej-cdsc-e, allegro/klej-cdsc-r, allegro/klej-dyk, allegro/klej-nkjp-ner, allegro/klej-polemo2-in, allegro/klej-polemo2-out, allegro/klej-psc, allegro/polish-question-passage-pairs, allegro/summarization-allegro-articles, allegro/summarization-polish-summaries-corpus, allenai/c4, allenai/scico, alperbayram/TwitterDuygu, alperiox/autonlp-data-user-review-classification, alvp/autonlp-data-alberti-stanza-names, alvp/autonlp-data-alberti-stanzas-finetuning, ami-wav2vec2/ami_multi_headset_segmented_and_chunked, ami-wav2vec2/ami_multi_headset_segmented_and_chunked_and_concatenated, ami-wav2vec2/ami_multi_headset_segmented_and_chunked_dummy, ami-wav2vec2/ami_single_headset_segmented, ami-wav2vec2/ami_single_headset_segmented_and_chunked, ami-wav2vec2/ami_single_headset_segmented_and_chunked_and_concatenated, ami-wav2vec2/ami_single_headset_segmented_and_chunked_dummy, ami-wav2vec2/ami_single_headset_segmented_dummy, aminedjebbie/Multi-Arabic-dialects, andrepreira/outros2021, anechaev/med_history, anechaev/ru_med_history, animesh/autonlp-data-peptides, antoiloui/bsard, antoinegk/HealthChallenge_dataset, anton-l/common_language, anton-l/superb, anton-l/superb_demo, anton-l/superb_dummy, anukaver/EstQA, anuragshas/bg_opus100_processed, anuragshas/ha_cc100_processed, anuragshas/ha_opus100_processed, anuragshas/hi_opus100_processed, anuragshas/lv_opus100_processed, anuragshas/mr_cc100_processed, anuragshas/mt_opus100_processed, anuragshas/pa_cc100_processed, anuragshas/sk_opus100_processed, anuragshas/sl_opus100_processed, anuragshas/ur_opus100_processed, anushakamath/sv_corpora_parliament_processed_v0, anzorq/kbd-ru-1.67M-temp, anzorq/kbd-ru-jsonl-tmp, anzorq/kbd-ru-temp, arch-raven/MAMI, arjunth2001/online_privacy_qna, artemis13fowl/github-issues, artyeth/Dorian, aryanpatke/github-issues, asahi417/qg_jaquad, asahi417/qg_squad, aseifert/merlin, aseifert/pie-synthetic, ashraq/dhivehi-corpus, asi/wikitext_fr, asoroa/bsbasque, astarostap/antisemitic-tweets, astarostap/antisemitic_tweets, astarostap/autonlp-data-antisemitism-2, astremo/friendly_JA_corpus, astrideducation/cefr-combined-no-cefr-test, atelders/politweets, athar/QA, ausgequetschtem/jtrddfhfgh, austin/rheum_abstracts, autonlp/autonlp-benchmark-gem-GEM__references-GEM-submissions__lewtun__hugging-face-test-t5-base.outputs.json-36bf2a59__1645527851-778, avadesian/dddd, avanishcobaltest/datasetavanish, averyanalex/panorama, azuur/es_corpora_parliament_processed, azuur/gn_wiki_cleaned, badranx/opus_raw, batterydata/battery-device-data-qa, bavard/personachat_truecased, be4rr/github-issues, beacon/test, bemanningssitua/dplremjfjfj, benjaminbeilharz/better_daily_dialog, benjaminbeilharz/empathetic_dialogues_for_lm, benjaminbeilharz/librivoxdeen, berkergurcay/2020-10K-Reports, bertin-project/mc4-es-sampled, bertin-project/mc4-sampling, bhadresh-savani/web_split, bhavnicksm/sentihood, bhigy/buckeye_asr, bigscience/P3, bigscience-catalogue-data-dev/lm_code_github-eval_subset, bigscience-historical-texts/HIPE2020_sent-split, bigscience-historical-texts/hipe2020, bingzhen/test2, birgermoell/sv_corpora_parliament_processed, bitmorse/kickstarter_2022-2021, biu-nlp/qa_align, biu-nlp/qa_discourse, biu-nlp/qa_srl2018, biu-nlp/qa_srl2020, biu-nlp/qamr, biu-nlp/qanom, blinoff/medical_qa_ru_data, bobbydylan/top2k, bondarchukb/autonlp-data-iab_classification, braincode/braincode, brunodorneles/ner, bryantpwhite/Medieval_Sermons_in_French, bryantpwhite/Medieval_Texts_in_French, bs-modeling-metadata/OSCAR_Entity_13_000, bs-modeling-metadata/c4_newslike_url_only, bs-modeling-metadata/website_metadata_c4, bs-modeling-metadata/wiki_dump, bsc/ancora-ca-ner, bsc/sts-ca, bsc/tecla, bsc/viquiquad, bsc/xquad-ca, bstad/github-issues, bwu2018/anime-tagging-dataset, caca/zscczs, cahya/persona_empathetic, cakiki/args_me, cakiki/arxiv-metadata, cakiki/en_wiki_quote, cakiki/paperswithcode, caltonji/harrypotter_squad_v2, caltonji/harrypotter_squad_v2_2, calvpang/github-issues, cameronbc/synthtiger, cassandra-themis/QR-AN, castorini/afriberta-corpus, castorini/mr-tydi-corpus, castorini/mr-tydi, castorini/msmarco_v1_doc_doc2query-t5_expansions, castorini/msmarco_v1_doc_segmented_doc2query-t5_expansions, castorini/msmarco_v1_passage_doc2query-t5_expansions, castorini/msmarco_v2_doc_doc2query-t5_expansions, castorini/msmarco_v2_doc_segmented_doc2query-t5_expansions, castorini/msmarco_v2_passage_doc2query-t5_expansions, castorini/nq_gar-t5_expansions, castorini/triviaqa_gar-t5_expansions, caythuoc/caoduoclieu, cbrew475/hwu66, ccccccc/hdjw_94ejrjr, ccdv/arxiv-classification, ccdv/arxiv-summarization, ccdv/cnn_dailymail, ccdv/govreport-summarization, ccdv/patent-classification, ccdv/pubmed-summarization, cdleong/piglatin-mt, cdleong/temp_africaNLP_keyword_spotting_for_african_languages, cdminix/iwslt2011, cdminix/mgb1, cem/dnm, cem/film, cemigo/taylor_vs_shakes, cemigo/test-data, cestwc/adapted-msrcomp, cestwc/adapted-paranmt5m, cestwc/adapted-sentcomp, cestwc/adapted-synonym, cestwc/adapted-wikismall, cestwc/adapted-wordnet, cestwc/asrc, cestwc/cnn_dailymail-metaeval100, cestwc/cnn_dailymail-snippets, cestwc/cnn_dailymail-test50, cestwc/conjnli, cestwc/sac-approx-1, cestwc/sac-na, cestwc/sac, cfilt/iitb-english-hindi, cgarciae/point-cloud-mnist, chau/ink_test01, chenghao/mc4_eu_dedup, chenghao/mc4_sw_dedup, chenghao/scielo_books, chenyuxuan/wikigold, cheulyop/dementiabank, cheulyop/ksponspeech, chitra/contradiction, chitra/contradictionNLI, chmanoj/ai4bharat__samanantar_processed_te, chopey/dhivehi, clarin-pl/aspectemo, clarin-pl/cst-wikinews, clarin-pl/kpwr-ner, clarin-pl/multiwiki_90k, clarin-pl/nkjp-pos, clarin-pl/polemo2-official, classla/FRENK-hate-en, classla/FRENK-hate-hr, classla/FRENK-hate-sl, classla/copa_hr, classla/hr500k, classla/janes_tag, classla/reldi_hr, classla/reldi_sr, classla/setimes_sr, classla/ssj500k, clem/autonlp-data-french_word_detection, clips/mfaq, clips/mqa, cnrcastroli/aaaa, coala/kkk, codeceejay/ng_accent, cointegrated/ru-paraphrase-NMT-Leipzig, collectivat/tv3_parla, comodoro/pscr, comodoro/vystadial2016, congpt/dstc23_asr, corypaik/coda, corypaik/prost, coyotte508/dataset, craffel/openai_lambada, crich/cider, cristinakuo/latino40, crystina-z/inlang-mrtydi-corpus, crystina-z/inlang-mrtydi, crystina-z/mbert-mrtydi-corpus, crystina-z/mbert-mrtydi, csarron/image-captions, csebuetnlp/xlsum, csebuetnlp/xnli_bn, csikasote/bemba_train_dev_sets_processed, csikasote/bemba_trainset_processed, csikasote/bembaspeech_plus_jw_processed, cstrathe435/Task2Dial, ctgowrie/chessgames, ctu-aic/csfever, ctu-aic/csfever_nli, ctu-aic/ctkfacts_nli, cyko/books, cylee/github-issues, dalle-mini/YFCC100M_OpenAI_subset, dalle-mini/open-images, dalle-mini/wit, damlab/HIV_FLT, damlab/HIV_PI, damlab/HIV_V3_bodysite, damlab/HIV_V3_coreceptor, dansbecker/hackernews_hiring_posts, darentang/generated, darentang/sroie, darkraipro/recipe-instructions, dasago78/dasago78dataset, dataset/wikipedia_bn, davanstrien/19th-century-ads, davanstrien/ads-im-test, davanstrien/ads-test, davanstrien/beyond_test, davanstrien/embellishments, davanstrien/hipe2020, davanstrien/hmd_newspapers, davanstrien/kitten, davanstrien/manuscript_iiif_test, davanstrien/snorkel_genre, davanstrien/test_iiif, davanstrien/test_push_to_hub_image, davanstrien/testpush, david-wb/zeshel, davidwisdom/reddit-randomness, dcfidalgo/test, debajyotidatta/biosses, debatelab/aaac, debatelab/deepa2, deepset/germandpr, deepset/germanquad, dennlinger/klexikon, deokgu/fooddetection, dev/untitled_imgs, dfgvhxfgv/fghghj, DFKI-SLT/few-nerd, DFKI-SLT/mobie, dgao/librispeech_nc_test, dgknrsln/Yorumsepeti, diiogo/annotations, diiogo/assin2-sts, diiogo/brwac-clean, diiogo/harem-seletivo, diiogo/harem-total, diiogo/ocr-galdino, diiogo/oscar, diiogo/squad-pt, dispenst/jhghdghfd, dispix/test-dataset, diwank/silicone-merged, dk-crazydiv/huggingface-modelhub, dlb/plue, dog/punks, dongpil/test, dragosnicolae555/RoITD, dram-conflict/horror-scripts, dvilasuero/ag_news_error_analysis, dvilasuero/ag_news_training_set_losses, dvilasuero/test-dataset, dweb/squad_with_cola_scores, dynabench/dynasent, dynabench/qa, eason929/test, ebrigham/asr_files, ebrigham/autonlp-data-csat_classification_fr, ebrigham/labels, ebrigham/multi_sentiment, echarlaix/gqa-lxmert, echarlaix/gqa, echarlaix/vqa-lxmert, echarlaix/vqa, edbeeching/decision_transformer_atari_dqn_replay, edbeeching/decision_transformer_gym_replay, edbeeching/github-issues, edfews/szdfcszdf, edge2992/github-issues, edge2992/rri-short, edge2992/rri_short, edsas/fgrdtgrdtdr, edsas/grttyi, ehcalabres/ravdess_speech, ejjaffe/onion_headlines_2_sources, eliza-dukim/load_klue_re, elonmuskceo/persistent-space-dataset, elonmuskceo/wordle, elricwan/bert_data, emre/Open_SLR108_Turkish_10_hours, emrecan/stsb-mt-turkish, enelpol/czywiesz, ervis/aaa, ervis/qqq, erwanlc/cocktails_recipe, erwanlc/cocktails_recipe_no_brand, espejelomar/code_search_net_python_10000_examples, eugenesiow/BSD100, eugenesiow/Div2k, eugenesiow/PIRM, eugenesiow/Set14, eugenesiow/Set5, eugenesiow/Urban100, evageon/IADD, ewdrtfwe/54refyghrtf, facebook/multilingual_librispeech, fastjt/fasst, fatvvs/autonlp-data-entity_model_conll2003, fededeleon/CriteriosClasificacion, fengzhang/fzTestDatasets, fhamborg/news_sentiment_newsmtsc, fighterhitx/test, fihtrotuld/asu, flax-community/code_clippy_data, flax-community/conceptual-12m-mbart-50-multilingual, flax-community/conceptual-12m-multilingual-marian-128, flax-community/conceptual-12m-multilingual-marian-es, flax-community/conceptual-12m-multilingual-marian, flax-community/conceptual-captions-12, flax-community/dummy-oscar-als-32, flax-community/german-common-voice-processed, flax-community/german_common_crawl, flax-community/multilingual-vqa, flax-community/norwegian-clean-dummy, flax-community/swahili-safi, flax-sentence-embeddings/Gender_Bias_Evaluation_Set, flax-sentence-embeddings/paws-jsonl, flax-sentence-embeddings/stackexchange_math_jsonl, flax-sentence-embeddings/stackexchange_title_best_voted_answer_jsonl, flax-sentence-embeddings/stackexchange_title_body_jsonl, flax-sentence-embeddings/stackexchange_titlebody_best_and_down_voted_answer_jsonl, flax-sentence-embeddings/stackexchange_titlebody_best_voted_answer_jsonl, flax-sentence-embeddings/stackexchange_xml, flexthink/librig2p-nostress-space, flexthink/librig2p-nostress, flexthink/ljspeech, florentgbelidji/test-3, florentgbelidji/test-covid, florentgbelidji/test-dataset, florianbussmann/FUNSD-vu2020revising, florianbussmann/train_tickets-yu2020pick, flxclxc/encoded_drug_reviews, formermagic/github_python_1m, formu/CVT, fractalego/QA_to_statements, frahman/github-issues, frtna/deneme, frtna/es_it_Results-base-OPUS_Tatoeba, frtna/jwt300_mt, frtna/opensubtitles_mt, frtna/sabahaKKarsi, frtna/ted_mt, frtna/test, frtna/test2, fulai/DuReader, fuliucansheng/coco, fuliucansheng/minicoco, fuliucansheng/mininlp, fuliucansheng/pascal_voc, fuyun1107/clip-for-vlp, fvillena/cantemist, fvillena/spanish_diagnostics, gabella/demo_data_raw, gagan3012/fake-news, gagan3012/grover-data, gagan3012/vizwiz, gar1t/test, gayanin/pubmed-gastro-maskfilling, gayanin/pubmed-gastro-paraphrasing, gayanin/pubmed-gastro-summarisation, gcaillaut/citeseer, gcaillaut/cora, gcaillaut/frwiki_good_pages_el, gcaillaut/pubmed, geekydevu/mlquestions, geninhu/vi_opus100_processed, geninhu/vi_vivos-cv-tts-fpt_processed, german-nlp-group/german_common_crawl, gfigueroa/wikitext_processed, gfissore/arxiv-abstracts-2021, ghadeermobasher/BC5CDR-Chemical-Disease, ghadeermobasher/CRAFT-Chem, ghomasHudson/ao3_style_change, ghomasHudson/character_id, ghomasHudson/hotpotExtended, ghomasHudson/long_contra_pro, ghomasHudson/muld, ghomasHudson/vlsp, gigant/african_accented_french, gigant/m-ailabs_speech_dataset_fr, gigant/ro_corpora_parliament_processed, gigant/romanian_speech_synthesis_0_8_1, gj1997/trial, gmnlp/tico19, gorkemgoknar/tr_ted_talk_translated, gpt3mix/rt20, gpt3mix/sst2, gsarti/change_it, gsarti/clean_mc4_it, gsarti/flores_101, gsarti/itacola, gsarti/wmt_vat, guoqiang/cuge, gusu/mymodel1, habu24/fdz, hartzeer/kdfjdshfje, henrychess/gutenberg-fulltext-dirty-locc, herbievore/test, hf-internal-testing/cats_vs_dogs_sample, hf-internal-testing/fixtures_ade20k, hf-internal-testing/fixtures_docvqa, hf-internal-testing/fixtures_image_utils, hf-internal-testing/fixtures_nlvr2, hf-internal-testing/fixtures_ocr, hf-internal-testing/fixtures_sintel, hf-internal-testing/librispeech_asr_demo, hf-internal-testing/librispeech_asr_dummy, hf-internal-testing/test-dataset, hf-internal-testing/transformers-metadata, hf-test/sv_corpora_parliament_processed, hfface/poopi, holodata/sensai, holylovenia/recam, hong/autonlp-data-zoo_test, honghungle/dataset, howardmiddleton382/esuyertusutr, howardmiddleton382/wgweagwege, huggingFaceUser02/air21_grp13_inference_results, huggingFaceUser02/air21_grp13_tokenized_results, huggingartists/100-gecs, huggingartists/21-savage, huggingartists/25-17, huggingartists/50-cent, huggingartists/5nizza, huggingartists/5opka, huggingartists/6ix9ine, huggingartists/aaron-watson, huggingartists/abba, huggingartists/adele, huggingartists/agata-christie, huggingartists/aikko, huggingartists/aimer, huggingartists/ajr, huggingartists/alan-walker, huggingartists/andre-3000, huggingartists/arash, huggingartists/architects, huggingartists/arctic-monkeys, huggingartists/ariana-grande, huggingartists/ariya, huggingartists/armin-van-buuren, huggingartists/as-i-lay-dying, huggingartists/asdfgfa, huggingartists/asper-x, huggingartists/baklan, huggingartists/big-baby-tape, huggingartists/big-russian-boss, huggingartists/bill-wurtz, huggingartists/billie-eilish, huggingartists/billy-talent, huggingartists/bladee, huggingartists/bob-dylan, huggingartists/bones, huggingartists/booker, huggingartists/boris-grebenshikov, huggingartists/braii, huggingartists/bring-me-the-horizon, huggingartists/bruce-springsteen, huggingartists/bryan-adams, huggingartists/burzum, huggingartists/bushido-zho, huggingartists/cardi-b, huggingartists/chester-bennington, huggingartists/chief-keef, huggingartists/cocomelon, huggingartists/coin, huggingartists/coldplay, huggingartists/dababy, huggingartists/david-bowie, huggingartists/ddt, huggingartists/death-grips, huggingartists/deep-purple, huggingartists/denderty, huggingartists/dermot-kennedy, huggingartists/dj-artem-artemov, huggingartists/doja-cat, huggingartists/drake, huggingartists/dua-lipa, huggingartists/duran-duran, huggingartists/dzhizus, huggingartists/ed-sheeran, huggingartists/egor-kreed, huggingartists/egor-letov, huggingartists/elton-john, huggingartists/eminem, huggingartists/enigma, huggingartists/enya, huggingartists/epic-rap-battles-of-history, huggingartists/face, huggingartists/fascinoma, huggingartists/fear-factory, huggingartists/florence-the-machine, huggingartists/freddie-dredd, huggingartists/freelancer, huggingartists/galenskaparna-and-after-shave, huggingartists/ghost, huggingartists/ghostemane, huggingartists/ghostmane, huggingartists/gizmo, huggingartists/gorillaz, huggingartists/green-day, huggingartists/grigory-leps, huggingartists/grimes, huggingartists/gspd, huggingartists/gunna, huggingartists/hillsong-worship, huggingartists/hyuna, huggingartists/i-dont-know-how-but-they-found-me, huggingartists/idktime, huggingartists/imagine-dragons, huggingartists/jah-khalib, huggingartists/jim-morrison, huggingartists/john-k-samson, huggingartists/john-lennon, huggingartists/joji, huggingartists/joni-mitchell, huggingartists/justin-bieber, huggingartists/kanye-west, huggingartists/kasta, huggingartists/katy-perry, huggingartists/kehlani, huggingartists/kendrick-lamar, huggingartists/kesha, huggingartists/king-krule, huggingartists/kipelov, huggingartists/kishlak, huggingartists/kizaru, huggingartists/kojey-radical, huggingartists/krechet, huggingartists/krept-and-konan-bugzy-malone-sl-morisson-abra-cadabra-rv-and-snap-capone, huggingartists/kurt-cobain, huggingartists/lady-gaga, huggingartists/lazy-jay, huggingartists/led-zeppelin, huggingartists/lil-baby, huggingartists/lil-nas-x, huggingartists/lil-peep, huggingartists/lil-skies, huggingartists/lil-uzi-vert, huggingartists/linkin-park, huggingartists/little-big, huggingartists/lizer, huggingartists/logic, huggingartists/lorde, huggingartists/loud-luxury, huggingartists/loverance, huggingartists/lovv66, huggingartists/lumen, huggingartists/lyapis-trubetskoy, huggingartists/macan, huggingartists/machine-gun-kelly, huggingartists/madonna, huggingartists/marillion, huggingartists/maroon-5, huggingartists/mashina-vremeni, huggingartists/mating-ritual, huggingartists/max-korzh, huggingartists/mayot, huggingartists/mc-ride, huggingartists/melanie-martinez, huggingartists/metallica, huggingartists/mf-doom, huggingartists/michael-jackson, huggingartists/mikhail-gorshenev, huggingartists/mikhail-krug, huggingartists/miyagi, huggingartists/mnogoznaal, huggingartists/morgenshtern, huggingartists/mumiy-troll, huggingartists/muse, huggingartists/nautilus-pompilius, huggingartists/nervy, huggingartists/nicki-minaj, huggingartists/nirvana, huggingartists/noize-mc, huggingartists/oasis, huggingartists/obladaet, huggingartists/og-buda, huggingartists/ot-rus, huggingartists/our-last-night, huggingartists/oxxxymiron, huggingartists/peter-paul-and-mary, huggingartists/pharaoh, huggingartists/phish, huggingartists/pink-floyd, huggingartists/placebo, huggingartists/platina, huggingartists/pop-smoke, huggingartists/post-malone, huggingartists/pyrokinesis, huggingartists/queen, huggingartists/radiohead, huggingartists/rage-against-the-machine, huggingartists/ramil, huggingartists/rammstein, huggingartists/red-hot-chili-peppers, huggingartists/rex-orange-county, huggingartists/rihanna, huggingartists/rocket, huggingartists/sam-kim, huggingartists/scriptonite, huggingartists/sektor-gaza, huggingartists/selena-gomez, huggingartists/sergei-letov, huggingartists/shadowraze, huggingartists/sia, huggingartists/sid-sriram, huggingartists/skillet, huggingartists/slava-kpss, huggingartists/slava-marlow, huggingartists/snoop-dogg, huggingartists/sqwore, huggingartists/sugar-ray, huggingartists/suicideoscope, huggingartists/sum-41, huggingartists/sundara-karma, huggingartists/system-of-a-down, huggingartists/t-fest, huggingartists/tanzy-minus, huggingartists/taylor-swift, huggingartists/tedeschi-trucks-band, huggingartists/the-69-eyes, huggingartists/the-avalanches, huggingartists/the-beatles, huggingartists/the-gazette, huggingartists/the-grateful-dead, huggingartists/the-king-and-the-jester, huggingartists/the-notorious-big, huggingartists/the-sugarcubes, huggingartists/the-the-pigs, huggingartists/the-velvet-underground, huggingartists/the-weeknd, huggingartists/tiamat, huggingartists/till-lindemann, huggingartists/tom-waits, huggingartists/tony-raut-and-garry-topor, huggingartists/tool, huggingartists/totpoc, huggingartists/travis-scott, huggingartists/twenty-one-pilots, huggingartists/tyler-the-creator, huggingartists/upsahl, huggingartists/v-x-v-prince, huggingartists/van-morrison, huggingartists/veggietales, huggingartists/viktor-tsoi, huggingartists/vladimir-vysotsky, huggingartists/xxxtentacion, huggingartists/young-thug, huggingartists/yung-lean, huggingartists/yung-plague, huggingartists/zemfira, huggingface/DataMeasurementsFiles, huggingface/cats-image, huggingface/documentation-images, huggingface/label-files, huggingface/task-page-images, huggingface/transformers-metadata, huggingface-course/codeparrot-ds-train, huggingface-course/codeparrot-ds-valid, husnu/tquad-v1v2, husnu/tquad2, huyongquan/d2, hyeonduck/whiteboard_abuse_dataset, hyeonduck/your_dataset_name, ia-bentebib/conv_ai_2_fr, ia-bentebib/conv_ai_3_fr, ia-bentebib/daily_dialog_fr, ia-bentebib/diafrag, ia-bentebib/dialog_re_fr, ia-bentebib/doc2dial_fr, ia-bentebib/empathetic_dialogues_fr, iamshsdf/sssssssssss, iarfmoose/qa_evaluator, iarfmoose/question_generator, image-search-2/unsplash_lite_image_dataset, imthanhlv/binhvq_dedup, imthanhlv/binhvq_news21_raw, imvladikon/knesset_meetings_corpus, indonesian-nlp/id_newspapers_2018, indonesian-nlp/id_personachat, iohadrubin/mtop, iohadrubin/smcalflow, ixxi/my_v1, jacobbieker/open-crab-sample, jaimin/wav2vec2-large-xlsr-gujarati-demo, jakeazcona/short-text-labeled-emotion-classification, jakeazcona/short-text-multi-labeled-emotion-classification, jakemarcus/MATH, jamescalam/climate-fever-similarity, jamol1741/test_dataset, jcmc/ga-IE_opus_dgt_train, jcmc/ga_mc4_processed, jdepoix/junit_test_completion, jeffboudier/testing3, jegormeister/dutch-snli, jel/covid, jeree/fr_corpora_parliament_processed, jfarray/TFM, jfrenz/legalglue, jgammack/MTL-abstracts, jgammack/SAE-door-abstracts, jgammack/THESES-abstracts, jglaser/binding_affinity, jhonparra18/spanish_billion_words_clean, jhqwqq/2, jianhong/dateset1, jianhong/dateset2, jiminsun/atc0_demo, jimregan/clarinpl_sejmsenat, jimregan/clarinpl_studio, jimregan/foinse, jimregan/lasid, jinmang2/KorQuADv1, jinmang2/common-sense-mrc, jinmang2/load_klue_re, jinmang2/medical-mask, jinmang2/pred, jiyoojeong/targetizer, jlh/coco, jmamou/augmented-glue-sst2, joelito/ler, joelito/sem_eval_2010_task_8, johnpaulbin/autonlp-data-asag-v2, jonfd/ICC, jozierski/ecomwebtexts-pl, jpcorb20/multidogo, jsfactory/mental_health_reddit_posts, ju-bezdek/conll2003-SK-NER, julien-c/dummy-dataset-from-colab, julien-c/persistent-space-dataset, julien-c/reactiongif, juliensimon/autonlp-data-song-lyrics-demo, juliensimon/autonlp-data-song-lyrics, juniorrios/roi_leish_test, juny116/few_glue, justinqbui/covid_fact_checked_google_api, justinqbui/covid_fact_checked_polifact, k-halid/ar, k0t1k/test, kaka10/fgfgfgfg, karinev/lanuitdudroit, kartikay/review-summarizer, katanaml/cord, katoensp/VR-OP, kaushikacharya/github-issues, kenlevine/CUAD, keshan/clean-si-mc4, keshan/large-sinhala-asr-dataset, keshan/multispeaker-tts-sinhala, keshan/wit-dataset, kevinassobo/sales_2015_dataset, kevinjesse/ManyTypes4TypeScript, kevinlu1248/personificationgen, khalidsaifullaah/detecThreats, khanbaba/online_love, khursani8/sani, kiamehr74/CoarseWSD-20, kingabzpro/Rick-bot-flags, kingabzpro/ar_corpora_parliament_processed, kingabzpro/ga_corpora_parliament_processed, kingabzpro/pan_corpora_parliament_processed, kingabzpro/savtadepth-flags, kingabzpro/tt_corpora_parliament_processed, kiyoung2/aistage-mrc, kiyoung2/temp, kleinay/qa_srl, kmfoda/booksum, kmfoda/name_finder_v1, kmyoo/klue-tc-dev, knilakshan20/wikigold, kowndinya23/bert-dataset, krandiash/beethoven, krandiash/sc09, krandiash/youtubemix, kresnik/librispeech_asr_test, kresnik/zeroth_korean, kroshan/BioASQ, kroshan/qa_evaluator, kudo-research/mustc-en-es-text-only, kyryl0s/ukbbc, laion/filtered-wit, laion/laion400m, laion/laion_100m_vqgan_f8, lara-martin/Scifi_TV_Shows, larcane/ko-WIT, laugustyniak/abusive-clauses-pl, lavis-nlp/german_legal_sentences, layboard/layboard.in, lc-col/sv_corpora_parliament_processed, leiping/jj, leiping/teeee, leoapolonio/AMI_Meeting_Corpus, leonadase/fdner, leonadase/mycoll3, lewtun/asr-preds-test, lewtun/asr_dummy, lewtun/benchmark-test, lewtun/binary_classification_dummy, lewtun/bulk-superb-s3p-superb-49606, lewtun/drug-reviews, lewtun/gem-multi-dataset-predictions, lewtun/gem-sub-03, lewtun/gem-test-predictions, lewtun/gem-test-references, lewtun/github-issues-test, lewtun/github-issues, lewtun/mnist-preds, lewtun/my-awesome-dataset, lewtun/s3prl-sd-dummy, lewtun/test, lewtun/text_classification_dummy, lgrobol/openminuscule, lhoestq/conll2003, lhoestq/custom_squad, lhoestq/demo1, lhoestq/squad, lhoestq/test, lhoestq/test2, lhoestq/test_commit_descriptions, lhoestq/test_zip_txt, lhoestq/tmp, lhoestq/wikipedia_bn, liam168/nlp_c4_sentiment, lidia/202111, lijingxin/github-issues, lijingxin/squad_zen, lijingxin/squad_zh_1, limjiayi/hateful_memes_expanded, lincoln/newsquadfr, linhd-postdata/pulpo, linhd-postdata/stanzas, liweili/c4_200m, lkarjun/Malayalam-Articles, lkiouiou/o9ui7877687, lkndsjkndgskjngkjsndkj/jsjdjsdvkjvszlhdskb, llangnickel/long-covid-classification-data, lohanna/testedjkcxkf, lorsorlah/Dadedadedam, loveguruji609/dfdfsdfsdfsdfsdfsd, lpsc-fiuba/melisa, lsb/ancient-latin-passages, lsb/million-english-numbers, lucien/sciencemission, lucien/voacantonesed, lucien/wsaderfffjjjhhh, lucio/common_voice_eval, lukasmasuch/my-test-repo-3, lukasmasuch/my-test-repo-4, lukasmasuch/test-2, lukasmasuch/test-3, lukasmasuch/test, lukesjordan/worldbank-project-documents, luofengge/mydata, luofengge/testDataset, luomingshuang/GRID_audio, luomingshuang/GRID_text, luomingshuang/grid_lip_160_80, luozhouyang/dureader, luozhouyang/kgclue-knowledge, luozhouyang/question-answering-datasets, lvwerra/abc-test, lvwerra/abc, lvwerra/codeparrot-clean-train, lvwerra/codeparrot-clean-valid, lvwerra/codeparrot-clean, lvwerra/codeparrot-valid-clean-minimal, lvwerra/codeparrot-valid, lvwerra/github-alphacode, lvwerra/github-code, lvwerra/important_dataset, lvwerra/lm_ar_wikipedia, lvwerra/red-wine, lvwerra/repo-images, lvwerra/test, lysandre/image-to-text, lysandre/my-cool-dataset, m3hrdadfi/recipe_nlg_lite, mad/IndonesiaNewsDataset, maindadwitiya/weather_dataset, maji/npo_mission_statement_ucf, majod/CleanNaturalQuestionsDataset, makanan/umich, malay-huggingface/pembalakan, mammut/mammut-corpus-venezuela-test-set, mammut/mammut-corpus-venezuela, manandey/OSCAR_Entity_Toy, manandey/entity_experiments, manifoldix/sg_testset_fhnw, manifoldix/swg_parliament_fhnw, manishk31/Demo, manu/fr_corpora_parliament_processed-lowercased, illuin/fr_corpora_parliament_processed, marinone94/nst_no, marinone94/nst_sv, mariosasko/PetImages, mariosasko/dummy_imagenet, mariosasko/dummy_dataset, mariosasko/dummy_test, markscrivo/OddsOn, martodaniel/terere, masked-neuron/amazon, masked-neuron/ccd, masked-neuron/qb, mattchurgin/sv_corpora_parliament_processed, matteopilotto/github-issues, maximedb/mcqa_light, maximedb/mfaq_light, maximedb/paws-x-all, maximedb/vaccinchat, maximedb/vaccinchat_retrieval, maximedb/wow, maxmoynan/SemEval2017-Task4aEnglish, mbateman/github-issues, medzaf/test, meghanabhange/chaii, meghanabhange/hilm141021, meghanabhange/hitalm141021, meghanabhange/hitalmsandbox, meghanabhange/talm141021, merty/nateraw-food101-copy, merve/coco, merve/folk-mythology-tales, merve/poetry, merve/qqp, metaeval/blimp_classification, metaeval/colors, metaeval/crowdflower, metaeval/ethics, metaeval/linguisticprobing, metaeval/recast, metalearning/kaggale-nlp-tutorial, metamong1/summarization_optimization, metopedia/autonlp-data-Multiple-Source-Language-Consensus-Reconstruction-o, michaelbenayoun/wikipedia-bert-128, microsoft/codexglue_method_generation, midas/citeulike180, midas/cstr, midas/duc2001, midas/inspec, midas/inspec_ke_tagged, midas/kdd, midas/kp20k, midas/kpcrowd, midas/kptimes, midas/krapivin, midas/ldke3k_medium, midas/ldke3k_small, midas/ldkp10k, midas/ldkp3k, midas/ldkp3k_small, midas/nus, midas/oagkx, midas/openkp, midas/pubmed, midas/semeval2010, midas/semeval2010_ke_tagged, midas/semeval2017, midas/semeval2017_ke_tagged, midas/test_ldkp, midas/www, mideind/icelandic-common-crawl-corpus-IC3, mideind/icelandic-error-corpus-IceEC, miesnerjacob/github-issues, mikeee/model-z, mirari/sv_corpora_parliament_processed, mishig/sample_images, mksaad/Arabic_news, ml6team/cnn_dailymail_nl, ml6team/xsum_nl, mldmm/glass_alloy_composition, mmcquade11-test/reuters-for-summarization-two, mmm-da/rutracker_anime_torrent_titles, mnaylor/evaluating-student-writing, mnemlaghi/widdd, mohamed-illiyas/wav2vec2-base-lj-demo-colab, morganchen1007/1215, morganchen1007/1216, morganchen1007/1216_00, morganchen1007/test_1213_00, moshew/my_raft, mostol/wiktionary-ipa, moumeneb1/French_arpa_lm, moumeneb1/filtered, moumeneb1/filtered_300, moumeneb1/fr_lm_dataset, moumeneb1/large_vocabulary_dataset, moumeneb1/osc_processed_lm, moumeneb1/testing, moxi43/github-issues, mozilla-foundation/common_voice_1_0, mozilla-foundation/common_voice_2_0, mozilla-foundation/common_voice_3_0, mozilla-foundation/common_voice_4_0, mozilla-foundation/common_voice_5_0, mozilla-foundation/common_voice_5_1, mozilla-foundation/common_voice_6_0, mozilla-foundation/common_voice_6_1, mozilla-foundation/common_voice_7_0, mozilla-foundation/common_voice_8_0, mpierrau/sv_corpora_parliament_processed, mr-robot/ec, mrm8488/fake-news, mrm8488/goemotions, mrojas/abbreviation, mrojas/body, mrojas/disease, mrojas/family, mrojas/finding, mrojas/medication, mrojas/procedure, mrp/Thai-Semantic-Textual-Similarity-Benchmark, msarmi9/korean-english-multitarget-ted-talks-task, msivanes/github-issues, mswedrowski/multiwiki_90k, mtfelix/datasetdemo, mtlew/0001_Angry_test, muhtasham/autonlp-data-Doctor_DE, mulcyber/europarl-mono, munggok/mc4-id, mustafa12/db_ee, mustafa12/edaaaas, mustafa12/thors, mvarma/medwiki, mvip/tr_corpora_parliament_processed_non_hatted, nateraw/auto-cats-and-dogs, nateraw/auto-exp-2, nateraw/beans, nateraw/beans_old, nateraw/blahblah, nateraw/bulk-dummy, nateraw/cats-and-dogs, nateraw/cats_vs_dogs, nateraw/dummy-csv-dataset, nateraw/filings-10k, nateraw/food101, nateraw/food101_old, nateraw/huggingpics-data-2, nateraw/huggingpics-data, nateraw/image-folder, nateraw/imagefolder, nateraw/imagenette, nateraw/img-demo, nateraw/rock_paper_scissors, nateraw/sync_food101, nateraw/test, nateraw/wit, nathanlsl/news, naver-clova-conversation/klue-tc-dev-tsv, naver-clova-conversation/klue-tc-tsv, naver-clova-conversation-ul/klue-tc-dev, navjordj/nak_nb, ncats/EpiSet4BinaryClassification, ncats/EpiSet4NER-v1, ncats/GARD_EpiSet4TextClassification, ncduy/github-issues, ncduy/mt-en-vi, ncoop57/athena_data, ncoop57/csnc_human_judgement, ncoop57/rico_captions, neelalex/raft-predictions, newsha/PQuAD, nferruz/UR50_2021_04, nferruz/UR50_2021_04_text, ngdiana/hu_severity, ngdiana/uaspeech, ngdiana/uaspeech_severity, ngdiana/uaspeech_severity_high, ngdiana/uaspeech_severity_low, nickmuchi/fin_dataset, nickmuchi/financial-classification, nickmuchi/trade-the-event-finance, nid989/FNC-1, nielsr/FUNSD_layoutlmv2, nielsr/XFUN, nielsr/funsd, nlpconnect/dpr-nq-reader-v2, nlpconnect/dpr-nq-reader, nlpconnect/ms_marco_subset_v2.1, nlpufg/brwac-pt, nlpufg/brwac, nlpufg/oscar-pt, nlpyeditepe/tr-qnli, nlpyeditepe/tr_rte, nntadotzip/iuQAchatbot, notional/notional-python, nouamanetazi/ar_common_voice_processed, nouamanetazi/ar_opus100_processed, ntagg/data1, nthngdy/bananas, nthngdy/ccnews_split, nthngdy/openwebtext_split, ntutexas/amazon, nucklehead/ht-voice-dataset, nykodmar/cs_corpora_parliament_processed, oelkrise/CRT, openclimatefix/eumetsat_uk_hrv, openclimatefix/gfs, openclimatefix/goes-l2, openclimatefix/goes-mrms, openclimatefix/goes, openclimatefix/hrrr, openclimatefix/nimrod-uk-1km, osanseviero/codeparrot-train, osanseviero/llama_test, osanseviero/test, oscar-corpus/OSCAR-2109, ought/raft-submission, ought/raft, outman/test, papluca/language-identification, pariajm/sharif_emotional_speech_dataset, parivartanayurveda/Malesexproblemsayurvedictreatment, pasinit/scotus, pasinit/xlwic, patrickvonplaten/ami_single_headset_segmented_and_chunked, patrickvonplaten/common_voice_6_tr, patrickvonplaten/common_voice_processed_turkish, patrickvonplaten/helena_coworking, patrickvonplaten/librispeech_asr_dummy, patrickvonplaten/librispeech_local, patrickvonplaten/librispeech_local_dummy, patrickvonplaten/scientific_papers_dummy, patrickvonplaten/sensitive_data_sv, pdesoyres/test, peixian/equity_evaluation_corpus, peixian/rtGender, pelican/test_100, persiannlp/parsinlu_entailment, persiannlp/parsinlu_query_paraphrasing, persiannlp/parsinlu_reading_comprehension, persiannlp/parsinlu_sentiment, persiannlp/parsinlu_translation_en_fa, persiannlp/parsinlu_translation_fa_en, peterbonnesoeur/autonlp-data-test_text_summarization, peterhsu/github-issues, philschmid/prompted-germanquad, philschmid/test_german_squad, phoelti/squad_dev, phongdtd/VinDataVLSP, phongdtd/youtube_casual_audio, phonlab-tcd/cngv1, phonlab-tcd/corpuscrawler-ga, piEsposito/br-quad-2.0, piEsposito/br_quad_20, piEsposito/squad_20_ptbr, pierreant-p/jcvd-or-linkedin, pierreguillou/lener_br_finetuning_language_model, pierreguillou/test_datasetdict, pierresi/cord, pietrolesci/ag_news, pmc/open_access, polinaeterna/dummy_dataset, MLCommons/ml_spoken_words, polinaeterna/test_opus, poperson1205/mrtydi-v1.1-korean-fixed, prajin/ne_corpora_parliament_processed, princeton-nlp/datasets-for-simcse, pritamdeka/cord-19-abstract, pritamdeka/cord-19-fulltext, priya3301/Graduation_admission, priya3301/tes, priya3301/test, proffttega/ILLUMINATI, proffttega/doc, proffttega/join_illuminati_to_become_rich, proffttega/persian_daily_news, project2you/asr, projecte-aina/ancora-ca-ner, projecte-aina/casum, projecte-aina/catalan_general_crawling, projecte-aina/catalan_government_crawling, projecte-aina/catalan_textual_corpus, projecte-aina/parlament_parla, projecte-aina/sts-ca, projecte-aina/teca, projecte-aina/tecla, projecte-aina/vilaquad, projecte-aina/vilasum, projecte-aina/viquiquad, projecte-aina/xquad-ca, psrpsj/stop_words, pstroe/cc100-latin, pulmo/chest_xray, qa4pc/QA4PC, qanastek/ANTILLES, qanastek/ELRC-Medical-V2, qanastek/EMEA-V3, qanastek/WMT-16-PubMed, qfortier/instagram_ny, quarter100/boolq_log, quis/vnexpress-train, qwant/squad_fr, radhakri119/sv_corpora_parliament_processed, ragarwal/args-me-pairs, rahular/itihasa, rajeshradhakrishnan/malayalam_2020_wiki, rajeshradhakrishnan/malayalam_news, rajeshradhakrishnan/malayalam_wiki, ramitsurana/sanskrit, ramybaly/conll2012, ramybaly/nerd, ranim/Algerian-Arabic, ranpox/xfund, rays2pix/example, rays2pix/example_dataset, rbawden/DiaBLa, readerbench/ChatLinks, rewardsignal/reddit_writing_prompts, rgismondi/code-fill-dataset, robz/test, rocca/sims4-faces, ronaldvanos/testdata, rony/soccer-dialogues, rookieguy12/dataset, rosettarandd/rosetta_balcanica, roskoN/dailydialog, roskoN/dstc8-reddit-corpus, rubenwol/multi_news_qasrl, rubrix/cleanlab-label_errors, rubrix/imdb_spacy-ner, rubrix/sentiment-banking, rucyang/sales, rwebe/rwebe, s-myk/test, s3h/arabic-gec, s3h/arabic-grammar-corrections, s3h/custom-qalb-classification, s3h/customized-qalb-v2, s3h/customized-qalb, s3h/gec-arabic, s3h/gec-cleaned, s3h/gec-token-classification, s3h/poc-gec, safik/github-issues-comments, safik/github-issues, sagnikrayc/mctest, sagnikrayc/quasar, sagteam/author_profiling, sajadk/IranianCarLicencePlate, salesken/Paraphrase_category_detection, samarlune/Holy_Coran, samgin/FooReview, samgin/star_tagging, samirt8/fr_corpora_parliament_processed, samjgorman/sample, sammy786/finnish_traindata, sanyu/aw, sanyu/er, sanyu/hh, sanyu/vb, sarulab-speech/bvcc-voicemos2022, sc2qa/sc2q_commoncrawl, sc2qa/sc2q_commoncrawl_large, sc2qa/sc2qa_commoncrawl, sdfufygvjh/fgghuviugviu, seamew/ChnSentiCorp, seamew/Hotel, seamew/THUCNews, seamew/THUCNewsText, seamew/THUCNewsTitle, seamew/Weibo, seanbethard/autonlp-data-summarization_model, sebastiaan/test-cefr, sebastian-hofstaetter/tripclick-training, sentence-transformers/embedding-training-data, sentence-transformers/msmarco-hard-negatives, sentence-transformers/parallel-sentences, sentence-transformers/reddit-title-body, seregadgl/test_set, sevbqewre/vebdesbdty, severo/autonlp-data-sentiment_detection-3c8bcd36, severo/dummy_gated, severo/embellishments, severo/wit, seyia92coding/steam_games_2019.csv, sh110495/klue-nli, sh110495/kor-domain-language, sh110495/kor-namuwiki1, sh110495/kor-namuwiki2, sh110495/kor-namuwiki3, sh110495/kor-namuwiki4, sh110495/kor-namuwiki5, sh110495/kor-namuwiki6, sh110495/kor-wikipedia, sh110495/kor_newspaper1, sh110495/kor_newspaper10, sh110495/kor_newspaper2, sh110495/kor_newspaper3, sh110495/kor_newspaper4, sh110495/kor_newspaper5, sh110495/kor_newspaper6, sh110495/kor_newspaper7, sh110495/kor_newspaper8, sh110495/kor_newspaper9, sh110495/korquad, shahp7575/sia_pile_sample, shahp7575/sia_tp_sample, shahrukhx01/questions-vs-statements, shaina/covid19, shanya/website_metadata_c4_toy, shao/git_data, shao/test, sharejing/BiPaR, sheryylli/utr_total_reads, shivam/hindi_pib_processed, shivam/marathi_pib_processed, shivam/marathi_samanantar_processed, shivam/test-translation-2, shivam/test-translation, shivam/test, shivkumarganesh/CoLA, shivmoha/squad-unanswerable, shivmoha/squad_adversarial_manual, shpotes/ms_coco, shpotes/tfcol, sia-precision-education/pile_cpp, sia-precision-education/pile_js, sia-precision-education/pile_python, sia-precision-education/sia_pile_sample, sijpapi/batch13, sijpapi/funsd, sijpapi/funsds, sil-ai/bloom-lm, silentzone/test, sine/zzz, sismetanin/rureviews, smallv0221/my-test, softcatala/Europarl-catalan, softcatala/Softcatala-Web-Texts-Dataset, softcatala/Tilde-MODEL-Catalan, softcatala/ca_text_corpus, softcatala/catalan-dictionary, softcatala/open-source-english-catalan-corpus, solomonk/reddit_mental_health_posts, spacemanidol/ms_marco_doc2query, spacemanidol/msmarco_passage_ranking, spasis/datasets-github-issues, spasis/github-issues, ssasaa/gghghgh, sshleifer/pseudo_bart_xsum, stas/c4-en-10k, stas/openwebtext-10k, stas/oscar-en-10k, stas/wmt14-en-de-pre-processed, stas/wmt16-en-ro-pre-processed, stevhliu/demo, stiel/skjdhjkasdhasjkd, subiksha/OwnDataset, superb/superb-data, susumu2357/squad_v2_sv, svakulenk0/qrecc, svakulenk0/spoken_kgqa, svalabs/all-nli-german-translation-wmt19, svalabs/ms-marco-german-translation-wmt19, svanhvit/iceErrorCorpus, svanhvit/icelandic-ner-MIM-GOLD-NER, tals/test, tanay/embed, tanfiona/causenet_wiki, tarudesu/UIT-ViCTSD, tasosk/airlines, tau/fs, tau/mrqa, tau/scientific_papers, tau/scrolls, tesemnikov-av/toxic_dataset_classification, tesemnikov-av/toxic_dataset_ner, testOrganization01/test05, teven/all_wikipedia_passages, teven/c4_15M, teven/github_all_lang_filtered, teven/matched_passages_wikidata, teven/mpww, teven/mpww_all_passages, teven/prompted_examples, teven/pseudo_crawl_en_seeds, teven/stackexchange, tharindu/MOLD, tharindu/SOLID, thiemowa/argumentationreviewcorpus, thiemowa/empathyreviewcorpus, thomwolf/codeparrot-train, thomwolf/codeparrot-valid, thomwolf/codeparrot, thomwolf/github-dataset, thomwolf/github-python, thomwolf/very-good-dataset, thomwolf/very-test-dataset-2, thomwolf/very-test-dataset, tianxing1994/temp, toddmorrill/github-issues, toloka/CrowdSpeech, toloka/VoxDIY-RusNews, tommy19970714/common_voice, toriving/kosimcse, toriving/talktalk-sentiment-210713-multi-singleturn-custom-multiturn, tranduyquang2205/vietnamese_dataset, transformersbook/codeparrot-train, transformersbook/codeparrot-valid, transformersbook/codeparrot, trnt/github-issues, ttj/metadata_arxiv, turingbench/TuringBench, uasoyasser/rgfes, ubamba98/ro_cv7_processed, ucberkeley-dlab/measuring-hate-speech, uit-nlp/vietnamese_students_feedback, ujjawal1612/quora, unicamp-dl/mmarco, unicamp-dl/mrobust, usc-isi/WikiConvert, uva-irlab/canard_quretec, uva-irlab/trec-cast-2019-multi-turn, uyeongjae/load_klue_re_agmented, valurank/hate-multi, valurank/offensive-multi, vanadhi/finlitqa, vannacute/AmazonReviewHelpfulness, vannora/pdata, vannynakamura/leish, vasilis/et_corpora_parliament_processed, vasudevgupta/amazon-ml-hack, vasudevgupta/bigbird-tokenized-natural-questions, vasudevgupta/data, vasudevgupta/fairseq-ljspeech, vasudevgupta/gsoc-librispeech, vasudevgupta/natural-questions-validation, vasudevgupta/prml_data_contest, vasudevgupta/temperature-distribution-2d-plate, vasudevgupta/temperature-distribution-3d-cylinder, iitm-ddp/iiith-indic-speech, vblagoje/lfqa, vblagoje/lfqa_support_docs, vblagoje/wikipedia_snippets_streamed, vctc92/sdsd, vctc92/test, vera-pro/ShadowLink, versae/bibles, versae/modernisa, versae/norwegian-t5-dataset-debug, versae/norwegian-t5-dataset-debug2, versae/norwegian-t5-dataset-debug3, vershasaxena91/datasets, vershasaxena91/squad_multitask, vesteinn/IC3, vesteinn/icelandic-ner-MIM-GOLD-NER, vesteinn/icelandic-qa-NQiI, victor/autonlp-data-imdb-reviews-sentiment, vidhur2k/multilingual-hate-speech, vincentclaes/mit_indoor_scenes, vishnun/huggingpics-data, vivekverma239/question-generation, vkhangpham/github-issues, vs4vijay/VizDS, vumichien/common_voice_large, vumichien/common_voice_large_jsut_jsss_css10, vumichien/ja_opus100_processed, w-nicole/childes_data, w-nicole/childes_data_no_tags, w-nicole/childes_data_no_tags_, w-nicole/childes_data_with_tags, w-nicole/childes_data_with_tags_, w11wo/imdb-javanese, wanagenst/maslow-six-choices, wanagenst/maslow-stories, wanagenst/plutchik-nine-choices, wanagenst/plutchik-stories, wanagenst/reiss-stories, wanagenst/reiss-twenty-choices, wardenga/lsoie, warwickai/financial_phrasebank_mirror, webek18735/ddvoacantonesed, webek18735/dhikhscook, webimmunization/COVID-19-vaccine-attitude-tweets, webis/args_me, webis/conclugen, webis/ms-marco-anchor-text, weijieliu/senteval_cn, wesamhaddad14/testdata, wicho/stylekqc-style, wifis/ouivirtual, wikilee/ADFA_Mapping, wikimedia/wikipedia, wikimedia/wikisource, winvoker/turkish-sentiment-analysis-dataset, wisdomify/story, wmt/europarl, wmt/news-commentary, wmt/uncorpus, wmt/wikititles, wmt/wmt10, wmt/wmt13, wmt/wmt14, wmt/wmt15, wmt/wmt16, wmt/wmt17, wmt/wmt18, wmt/wmt19, wpicard/nostradamus-propheties, wza/USTT, wzkariampuzha/EpiClassifySet, wzkariampuzha/EpiExtract4GARD, wzywzy/telegram_summary, x-tech/cantonese-mandarin-translations, xiaj/ds_test, xiaj/test0919, xiaobendanyn/demo, xiaobendanyn/nyt10, xiaobendanyn/tacred, xkang/github-issues, xuyeliu/notebookCDG, yabramuvdi/wfh-problematic, yannobla/Sunshine, yazdipour/text-to-sparql-kdwd, ydshieh/coco_dataset_script, yerevann/sst2, yharyarias/tirads_tiroides, yhavinga/mc4_nl_cleaned, yluisfern/PBU, yo/devparty, yonesuke/Ising2D, yonesuke/Vicsek, yonesuke/kuramoto, ysharma/rickandmorty, yuanchuan/annotated_reference_strings, yuchenlin/OntoRock, yuvalkirstain/asset, yuvalkirstain/contract_nli-debug, yuvalkirstain/contract_nli_t5, yuvalkirstain/contract_nli_t5_lm, yuvalkirstain/qasper_t5, yuvalkirstain/qasper_t5_lm, yuvalkirstain/qmsum_t5, yuvalkirstain/qmsum_t5_lm, yuvalkirstain/quality, yuvalkirstain/quality_debug, yuvalkirstain/quality_squad, yuvalkirstain/quality_squad_debug, yuvalkirstain/quality_t5, yuvalkirstain/quality_t5_lm, yuvalkirstain/scrolls_t5, yuvalkirstain/squad_full_doc, yuvalkirstain/squad_seq2seq, yuvalkirstain/squad_t5, yuvalkirstain/summ_screen_fd_t5, yuvalkirstain/summ_screen_fd_t5_lm, yxchar/ag-tlm, yxchar/amazon-tlm, yxchar/chemprot-tlm, yxchar/citation_intent-tlm, yxchar/hyp-tlm, yxchar/imdb-tlm, yxchar/rct-20k-tlm, yxchar/sciie-tlm, yzha/ctc-score, z-uo/female-LJSpeech-italian, z-uo/male-LJSpeech-italian, z-uo/squad-it, zapsdcn/ag, zapsdcn/amazon, zapsdcn/chemprot, zapsdcn/citation_intent, zapsdcn/hyperpartisan_news, zapsdcn/imdb, zapsdcn/rct-20k, zapsdcn/sciie, zf-org/org_dataset, zfaB4Hmm/test, zhangruihan1/face-recognition-validation, zhangruihan1/face-recognition, zhangruihan1/fr-cfp_fp, zhoujun/hitab, zhufy/xquad_split, zj88zj/PubMed_200k_RCT, zj88zj/SCIERC, zloelias/kinopoisk-reviews-short, zloelias/kinopoisk-reviews, zloelias/lenta-ru-short, zloelias/lenta-ru, zlucia/casehold, zwang199/autonlp-data-traffic_nlp_binary, mvip/tr_corpora_parliament_processed, maydogan/TRSAv1, mohamed-illiyas/wav2vec-malayalam-data, NLPC-UOM/Sinhala-Stopword-list, Emma121/aaaaa, omar-sharif/BAD-Bengali-Aggressive-Text-Dataset, davanstrien/embellishments-sample, vocab-transformers/wiki-en-passages-20210101, loretoparisi/spoken-punctuation, qanastek/ECDC, rubrix/gutenberg_spacy-ner, prk/testsq, Sakonii/nepalitext-language-model-dataset, SuperAI2-Machima/Yord_ThaiQA_LST20, Wittgensteinian/KR3, GEM-submissions/Leo__bart-large__1645784880, GEM-submissions/lewtun__hugging-face-test-t5-base.outputs.json-36bf2a59__1645800191, GEM-submissions/Leo__mbart-large-cc25__1645802644, mariosasko/test_multi_dir_dataset, jonatli/youtube-sponsor, abdusahmbzuai/masc, abdusahmbzuai/masc_dev, Jiejie/asr_book_lm, cloverhxy/DADER-source, benjaminbeilharz/daily_dialog_w_turn_templates, arjundd/meddlr-data, andstor/smart_contracts, alperbayram/HaberTweetlerininDuyguAnaliziVeSiniflandirma, alperbayram/Tweet_Siniflandirma, Niciu/test-squad, stjokerli/TextToText_mnli, leetdavid/market-positivity-bert-tokenized, stjokerli/TextToText_cb, stjokerli/TextToText_rte, SetFit/qqp, stjokerli/TextToText_copa, stjokerli/TextToText_boolq, davanstrien/iiif_labeled, diwank/hinglish-dump, GEM-submissions/lewtun__hugging-face-test-t5-base.outputs.json-36bf2a59__1646049378, GEM-submissions/lewtun__hugging-face-test-t5-base.outputs.json-36bf2a59__1646049424, GEM-submissions/lewtun__hugging-face-test-t5-base.outputs.json-36bf2a59__1646049601, GEM-submissions/lewtun__hugging-face-test-t5-base.outputs.json-36bf2a59__1646049876, GEM-submissions/lewtun__hugging-face-test-t5-base.outputs.json-36bf2a59__1646050898, GEM-submissions/lewtun__hugging-face-test-t5-base.outputs.json-36bf2a59__1646051364, GEM-submissions/lewtun__hugging-face-test-t5-base.outputs.json-36bf2a59__1646052073, SetFit/rte, GEM-submissions/lewtun__this-is-a-test__1646052811, SetFit/mnli, SetFit/mrpc, SetFit/qnli, shibing624/nli_zh, SetFit/wnli, SetFit/mnli_mm, luketheduke/stsb, SetFit/stsb, davanstrien/crowdsourced-keywords, philschmid/germeval18, davanstrien/iiif_manuscripts_label_ge_50, crystina-z/msmarco-passage, nateraw/punks, csarron/4m-img-caps, imflash217/github-issues, puffy310/yandset, mohamed-illiyas/wav2vec-malayalam-new-data, stjokerli/TextToText_mnli_seqio, stjokerli/TextToText_cb_seqio, stjokerli/TextToText_boolq_seqio, stjokerli/TextToText_rte_seqio, stjokerli/TextToText_copa_seqio, izzy-lazerson/sv_corpora_parliament_processed, shibing624/source_code, leetdavid/celera, polinaeterna/benchmark, polinaeterna/benchmark_dataset, s50227harry/test1, giganticode/java-cmpx, Niciu/github-issues, Niciu/test-cre-dataset-issues, orisuchy/Descriptive_Sentences_He, csarron/25m-img-caps, lbox/lbox_open, wietsedv/stsbenchmark, huggingface-course/documentation-images, giganticode/java-cmpx-v1, GEM-submissions/lewtun__this-is-a-test__1646230987, coastalcph/fairlex, fancyerii/test, ArnavL/finetune_preprocessed_yelp, huggan/anime-faces, GEM-submissions/lewtun__this-is-a-test__1646314818, GEM-submissions/lewtun__this-is-a-test__1646316929, v-card/lol, fuliucansheng/wheat, segments/sidewalk-semantic, davanstrien/testhugit, testst/dsdfasdfsaf, firzens/authors, NLPC-UOM/Sinhala-Tamil-Aligned-Parallel-Corpus, NLPC-UOM/AnanyaSinhalaNERDataset, openclimatefix/gfs-reforecast, nlpaueb/finer-139, GEM-submissions/ratishsp__seqplan__1646397329, GEM-submissions/ratishsp__seqplan__1646397829, Alvenir/alvenir_asr_da_eval, google/xtreme_s, anjandash/java-8m-methods-v1, PhilSad/data-guided-scp-gptj-lit, elkarhizketak, ruanchaves/hashset_distant_sampled, ruanchaves/hashset_distant, chiarab/covid-tweet-sentiment, ruanchaves/hashset_manual, ruanchaves/stan_large, ruanchaves/stan_small, ruanchaves/boun, ruanchaves/dev_stanford, ruanchaves/test_stanford, batterydata/paper-abstracts, Davis/Swahili-tweet-sentiment, codyburker/yelp_review_sampled, OrfeasTsk/TriviaQA, ruanchaves/loyola, AhmedSSoliman/QRCD, mbartolo/synQA, Paulosdeanllons/sedar, ruanchaves/bt11, ruanchaves/nru_hse, ruanchaves/binkley, ruanchaves/jhotdraw, ruanchaves/lynx, ruanchaves/snap, crystina-z/nocs-mrtydi, crystina-z/nocs-mrtydi-corpus, rocca/emojis, Siyam/mydata, flxclxc/english-norwegian-bible-set, Carlisle/msmarco-passage-non-abs, Carlisle/msmarco-passage-abs, wypoon/github-issues, gustavecortal/fr_covid_news, teven/hal_tests, Cyberfish/multiwoz2.1, Jiejie/asr_book_lm_v1.1, mateiut1/sv_corpora_parliament_processed, jackwyndham/gloru, flxclxc/en-no-semantic-search-set, m-newhauser/senator-tweets, FinScience/FS-distilroberta-fine-tuned, flxclxc/en_no_with_embeddings, Carlisle/msmacro-passage-non-abs-small, flxclxc/en_no_with_embeddings2, msollami-sf/processed_mnist, Sunghun/1, Sunghun/Example1, Sunghun/Example2, pensieves/mimicause, ayberkuckun/hu_corpora_parliament_processed, chiarab/tweet-text-full, chiarab/tweets-dict, helloway/data-test, FanFan/sentiment-amazon-test, yawnick/QMSum, nielsr/rvl-cdip-demo, z-uo/qasper-squad, lhoestq/test_none_image, jquiros/suicide, Noricum/der_standard_processed, nielsr/rvlcdip-demo, davanstrien/iiif_biblissima_w_image, shpotes/bosch-small-traffic-lights-dataset, Huseyin/tummul, Marianina/Example2, Carlosholivan/base, Marianina/sentiment-banking, franz96521/BilletesMexico, crystina-z/no-nonself-mrtydi, jquiros/clean, SocialGrep/the-antiwork-subreddit-dataset, laion/laion2B-en, christianloyal/loyal_clinc_MLE, crystina-z/no-nonself-mrtydi-corpus, laion/laion2B-multi, chiarab/jan-2021-unlabeled-full, chiarab/combined-train, chiarab/may-2020-unlabeled-full, hadehuang/testdataset, Suyogyart/nepali-20-newsgroup, fmplaza/EmoEvent, abdusahmbzuai/adi5, nortizf/risk_multilabel, khcy82dyc/zzzz, ai4bharat/IndicParaphrase, albertvillanova/wikipedia, rubrix/sst2_with_predictions, nthngdy/oscar-mini, laion/laion1B-nolang, ia-bentebib/tweet_eval_sentiment_fr, drAbreu/bc4chemd_ner, fuliucansheng/unitorch-datasets, Non-Residual-Prompting/C2Gen, FanFan/sentiment-amazon-clean, davanstrien/iiif_manuscripts_label_ge_100, christianloyal/loyal_clinc_MLE_unlabeled, damlab/uniprot, agemagician/u50_test, chiarab/vaccine-sentiment-clean, chiarab/vaccine-sentiment-clean-2, juched/spotifinders, ArnavL/TWTEval-Pretraining-Processed, juched/spotifinders-dataset, PaddlePaddle/dureader_robust, kyleinincubated/autonlp-data-cat33, Carlisle/msmacro-test-corpus, Carlisle/msmacro-test, Georgii/poetry-genre, joangaes/depression, ai4bharat/IndicHeadlineGeneration, ai4bharat/IndicSentenceSummarization, ai4bharat/IndicWikiBio, ai4bharat/IndicQuestionGeneration, aasd291809733/myself, Mulin/sg-holiday, gustavecortal/diverse_french_news, Azu/Handwritten-Mathematical-Expression-Convert-LaTeX, sasha/pii-oscar-sample, ruanchaves/reddit_china, Biomedical-TeMU/ProfNER_corpus_classification, Biomedical-TeMU/ProfNER_corpus_NER, yjernite/datasets_clusters, McGill-NLP/feedbackQA, Biomedical-TeMU/SPACCC_Sentence-Splitter, Biomedical-TeMU/SPACCC_Tokenizer, Biomedical-TeMU/CodiEsp_corpus, Mulin/weather-data, lstynerl/M1a1d, Khedesh/ArmanNER, gigant/horse2zebra, Khedesh/PeymaNER, asahi417/qa_wiki_t5_large, GEM-submissions/ratishsp__macro__1646998904, asahi417/qa_wiki_t5_base, asahi417/qa_wiki_t5_small, asahi417/qa_wiki_bart_base, asahi417/qa_wiki_bart_large, Kaveh8/movieimdbrating, Khedesh/ParsTwiNER, rubrix/big_patent_a_test_100, solomonk/reddit, GEM-submissions/v1-outputs-and-scores, GEM-submissions/v2-outputs-and-scores, crystina-z/no-nonself-title-mrtydi-corpus, Zeel/common, microsoft/CLUES, Unso/amazon_reviews_multi_de, Unso/amazon_reviews_multi_es, Unso/amazon_reviews_multi_fr, Unso/amazon_reviews_multi_ja, Unso/amazon_reviews_multi_zh, Unso/catalonia_independence_ca, Unso/catalonia_independence_es, Unso/muchocine_es, Unso/xglue_nc, rakkaalhazimi/hotel-review, jglaser/protein_ligand_contacts, Amba/mt5-small-finetuned-amazon-en-es_books_dataset, Amba/mt5-small-finetuned-amazon-en-es_tokenized_datasets, Mudrock/huggingpics-data, lanesket/r-lang-dataset, SetFit/catalonia_independence_ca, SetFit/catalonia_independence_es, SetFit/xglue_nc, SetFit/amazon_reviews_multi_de, SetFit/amazon_reviews_multi_es, SetFit/amazon_reviews_multi_ja, SetFit/amazon_reviews_multi_zh, SetFit/amazon_reviews_multi_fr, SetFit/muchocine_es, Unso/myfirstds, multiIR/toy_data, rocca/top-reddit-posts, willcai/wav2vec2_common_voice_accents, chiarab/just-vaccine, gj1997/trial2, carbon12/evaluating_student_writing, chiarab/final-train, Parmann/speech_classification, chiarab/add-10, chiarab/dct-keyword-all, chiarab/vaccine-keyword-all, gj1997/trial3, chiarab/sorted-with-10-lessneu, chiarab/dct-keyword-us, chiarab/dct-keyword-uk, stjokerli/TextToText_wic_seqio, stjokerli/TextToText_multirc_seqio, stjokerli/TextToText_record_seqio, zhiweitong/wiki_dpr-qg, stjokerli/TextToText_wsc_seqio, stjokerli/TextToText_axg_seqio, stjokerli/TextToText_axb_seqio, Amba/bert-finetuned-ner_raw_datasets, Amba/bert-finetuned-ner_tokenized_datasets, raphaelmerx/lfqa-id, weizhey/asap_review, lewtun/top_quark_tagging, chiarab/canada, chiarab/dct-keyword-canada, chiarab/uk, chiarab/us, wanyu/IteraTeR_full_sent, chiarab/vax-keyword-canada, chiarab/vax-keyword-uk, chiarab/vax-keyword-us, Evan/spaCy-github-issues, wanyu/IteraTeR_full_doc, wanyu/IteraTeR_human_sent, wanyu/IteraTeR_human_doc, benjaminbeilharz/ed-for-lm, joypersicanon/ph-en-text, reatiny/chinese-spam-10000, alkzzz/palui, GEM-submissions/lewtun__this-is-a-test__1647246406, GEM-submissions/lewtun__mt5_xl__1647246454, ianomunga/MIAS, GEM-submissions/lewtun__this-is-a-test__1647247409, EMBO/BLURB, Jiejie/asr_book_lm_v2.0, GEM-submissions/lewtun__this-is-a-test__1647256250, wikitablequestions, gimmaru/github-issues, openclimatefix/uk_pv, GEM-submissions/lewtun__this-is-a-test__1647263213, marsyas/gtzan, GEM/xwikis, lvwerra/my_test, lvwerra/my_test_2, Jiejie/asr_book_lm_v2.1, EALeon16/poems, oscar-corpus/OSCAR-2201, PradeepReddyThathireddy/Inspiring_Content_Detection_Dataset, conll2012_ontonotesv5, anjandash/java-8m-methods-v2, victor/autonlp-data-tweet-sentiment, agemagician/uniref50, hazal/Turkish-Biomedical-corpus-trM, cgarciae/cartoonset, rubrix/go_emotions_training, Jiejie/asr_book_lm_v2.3, CLUTRR/v1, malteos/paperswithcode-aspects, tdklab/Hebrew_Squad_v1, kSaluja/tokens_data, Dayyan/bwns, Hiruni99/eng-sin-laws-and-acts, jeffboudier/testing, rubrix/research_titles_multi-label, rubrix/go_emotions_multi-label, elricwan/roberta-data, willcai/wav2vec2_common_voice_accents_3, gcaillaut/enwiki_el, crabz/stsb-sk, mfleck/german_extracted_text, ebrigham/agnewsadapted, yangdong/ecqa, davanstrien/newspaper_navigator_people, voidful/NMSQA, shpotes/SJTU, shpotes/ImVisible, LongNN/news_sum, tomekkorbak/test, tomekkorbak/pile-curse-small, jorge-henao/disco_poetry_spanish, Aclairs/ALBERTFINALYEAR, MatanBenChorin/temp, shivam/split-test, rubrix/research_papers_multi-label, wietsedv/udpos28, anthonny/hate_speech, nikit91/qald9, Cooool/kaggle, Cooool/nlp, Wang123/codeparrot-train, Wang123/codeparrot-valid, tomekkorbak/pile-curse-full_test, DrishtiSharma/MESD-Processed-Dataset, abidlabs/crowdsourced-test3, abidlabs/crowdsourced-test4, abidlabs/crowdsourced-test5, shivam/split, mrm8488/test2, mercerchen/fakenews-jsonl, Mionozmi/Ddy, franz96521/scientific_papers, Paulosdeanllons/ODS_BOE, MickyMike/cve_fixes, malteos/test-ds, malteos/test2, malteos/aspect-paper-embeddings, Guscerra/whatever, elena-soare/crawled-ecommerce, abdusahmbzuai/arabic_speech_massive, cfilt/iwn_wordlists, arun007/mydata, tomekkorbak/pile-debug, malteos/aspect-paper-metadata, hackathon-pln-es/parallel-sentences, fofiu/test-dataset, indonesian-nlp/eli5_id, tomekkorbak/pile-curse-chunk-1, tomekkorbak/pile-curse-chunk-0, tomekkorbak/pile-curse-chunk-3, tomekkorbak/pile-curse-chunk-2, tomekkorbak/pile-curse-chunk-5, tomekkorbak/pile-curse-chunk-6, tomekkorbak/pile-curse-chunk-4, tomekkorbak/pile-curse-chunk-16, tomekkorbak/pile-curse-chunk-15, tomekkorbak/pile-curse-chunk-14, tomekkorbak/pile-curse-chunk-13, tomekkorbak/pile-curse-chunk-8, tomekkorbak/pile-curse-chunk-9, tomekkorbak/pile-curse-chunk-20, tomekkorbak/pile-curse-chunk-7, tomekkorbak/pile-curse-chunk-24, tomekkorbak/pile-curse-chunk-18, tomekkorbak/pile-curse-chunk-17, tomekkorbak/pile-curse-chunk-21, tomekkorbak/pile-curse-chunk-22, tomekkorbak/pile-curse-chunk-10, tomekkorbak/pile-curse-chunk-26, tomekkorbak/pile-curse-chunk-11, tomekkorbak/pile-curse-chunk-27, tomekkorbak/pile-curse-chunk-12, tomekkorbak/pile-curse-chunk-25, tomekkorbak/pile-curse-chunk-19, tomekkorbak/pile-curse-chunk-29, tomekkorbak/pile-curse-chunk-23, tomekkorbak/pile-curse-chunk-28, tomekkorbak/pile-curse-full, scjnugacj/scjn_dataset_ner, kingabzpro/savtadepth-flags-V2, yhavinga/ccmatrix, JennyGub/PrivTest, indonesian-nlp/lfqa_id, artemis13fowl/sst-3, IIC/spanish_biomedical_crawled_corpus, scjnugacj/scjn_dataset_corpus_tesis, hackathon-pln-es/MESD, MatanBenChorin/our_dataset, vinaykudari/acled-token-summary, IIC/lfqa_spanish, TomTBT/pmc_open_access_xml, Heriot-WattUniversity/CANDOR-corpus, Heriot-WattUniversity/bAbi-Plus, Heriot-WattUniversity/switchboard, Heriot-WattUniversity/Groningen-Meaning-Bank, enimai/MuST-C-fr, voidful/asr_glue_train, dannyvas23/textosuicidios, abidlabs/Urdu-ASR-flags, abidlabs/Urdu-ASR-flags2, kingabzpro/Urdu-ASR-flags2, dannyvas23/notas_suicidios, Splend1dchan/phone-mnli, nathanaelc/commonvoice8, hazal/electronic-radiology-phd-thesis-trR, jacobbieker/hyperion-clouds, rubrix/frases_muchocine, monash_tsf, kingabzpro/Urdu-ASR-flags, nickmuchi/carla-selfdriving, xiongshunjie/ProDataset, polinaeterna/test_audiofolder, eleldar/github-issues, Cheltone/MyTwitter, nielsr/CelebA-faces, Dabs/bioasq, blo05/cleaned_wiki_en, CohleM/sample, fangyuan/lfqa_discourse, rubrix/frases_muchocine_NER, EALeon16/autonlp-data-pruebapoems, afrodp95/MEDDOPROF, hackathon-pln-es/comentarios_depresivos, hackathon-pln-es/poems-es, rubrix/muchocine_ner, rubrix/pococine_textcat, IIC/bioasq22_es, rubrix/muchocine_aspects, josearangos/spanish-calls-corpus-Home, josearangos/spanish-calls-corpus-Caribbean, Suyogyart/nepali-16-newsgroups, josearangos/spanish-calls-corpus-Friends, bigscience-biomedical/biosses, nedroden/nlcity, rubrix/muchocine_aspectos, archmagos/HourAI-data, emrecan/nli_tr_for_simcse, d0r1h/Real_vs_Fake, Carlos89apc/TraductorES_Kichwa, sayalaruano/FakeNewsCorpusSpanish, sayalaruano/FakeNewsSpanish_Kaggle1, sayalaruano/FakeNewsSpanish_Kaggle2, openclimatefix/mrms, mariosasko/dummy_pandas, erikacardenas300/Zillow-Text-Listings, jullarson/sdd, finiteautomata/legal-ner, raulminan/depresion-twitter-es, rahulkuruvilla/CovidTravelQA, nreimers/trec-covid, Mnauel/MESD, IsaacRodgz/Fake-news-latam-omdena, sichenzhong/squad_v2_back_trans_aug, asvs/tqa, sumedh/MeQSum, nthngdy/oscar-small, huggan/CelebA-faces, 10zinten/op_classical_corpus_bo, CohleM/CohleM, CohleM/Classification, grabbysingh/funsd, nreimers/trec-covid-generated-queries, peerapongch/aion-3-20220323, tau/multi_news, GEM-submissions/lewtun__this-is-a-test-name__1648048960, Rakesharma21/transliterate-eng-hi, huggan/edges2shoes, huggan/facades, albertvillanova/zip_zip, polinaeterna/test_encode_example, huggan/night2day, huggan/maps, huggan/cityscapes, huggan/ae_photos, RUC-DataLab/ER-dataset, doctorlan/bert-amz-c, crystina-z/msmarco-passage-dl19, crystina-z/msmarco-passage-dl20, tiennvcs/your_dataset_name, tartuNLP/liv4ever, sentence-transformers/NQ-retrieval, GEM-submissions/lewtun__this-is-a-test-name__1648111972, M-Quan/sv_corpora_parliament_processed, huggan/CelebA-HQ, Jira/mao, huggan/cartoon-faces, huggan/cats, Gare/Classical_Chinese_to_Modern_Chinese, Vipitis/Shadertoys-bimodal, ebrigham/NOS-news, GEM-submissions/lewtun__this-is-a-test-name__1648137608, wesamhaddad14/spanishNLP, Openmindedness/mc_chat_scraped_from_toxigon_anarchy, huggan/AFHQ, DrishtiSharma/MESD-Processed-Dataset-v2, beyond/20NG, Yaxin/amazon_reviews_multi, huggan/AFHQv2, DFKI-SLT/scidtb, huggan/metfaces, pietrolesci/nli_fever, pietrolesci/conj_nli, AhmedSSoliman/CoNaLa-Dataset, Fatima-Gh/GLARE, sosuke/dataset_for_ease, GEM-submissions/lewtun__this-is-a-test-name__1648220072, roman_urdu_hate_speech, JuanJoseMV/CIE10-classifier-Test_Dataset, facebook/winoground, nndhung/garlic, avacaondata/lfqa_squad, Splend1dchan/NMSQA_w2v2-st-ft, Gare/github-issues, benjamin/ner-uk, laion/laion2B-en-safety, laion/laion2B-multi-safety, laion/laion1B-nolang-safety, laion/laion5B-index, Marmoot/Fake_News_jpposadas, Marmoot/Kaggle_1, Georgii/russianPoetry, MorVentura/TRBLLmaker, medardodt/ESsnli, jglaser/pdbbind_complexes, ashishpapanai/inverted_vs_normal, Jiangjie/ekar_chinese, Jiangjie/ekar_english, atenglens/taiwanese_english_translation, nadhifikbarw/id_ohsuhmed, tomekkorbak/pile-toxic-chunk-0, UrukHan/wav2vec2-russian, T-202/github-issues, TzRain/AMPs, smilegate-ai/kor_unsmile, UrukHan/t5-russian-spell_I, UrukHan/t5-russian-spell_II, UrukHan/t5-russian-spell_III, stjokerli/TextToText_DocNLI_seqio, laion/conceptual-captions-12m-webdataset, leonadase/fdRE, IIC/spanish_biomedical_crawled_corpus_splitted, mrm8488/AnswerSum, IIC/ms_marco_es, stjokerli/TextToText_squad_seqio, sac3tf/roman_urdu, yawnick/QMSum-Summaries, adv_glue, sichenzhong/squad_v2_synonym_aug, carolina-c4ai/corpus-carolina, wrapper228/arxiv_data_extended, nobodylll/test_huggingface_dataset, laion/laion-synthetic-115m, gorkaartola/github-issues, IIC/msmarco_es, laion/laion2B-en-watermark, KeithHorgan98/autotrain-data-TweetClimateAnalysis, laion/water-vit-webdataset, Splend1dchan/NMSQA_w2v2-st-ft2, Pavithra/sampled-code-parrot-ds-train, Pavithra/sampled-code-parrot-ds-valid, M-Quan/sv_corpora_parliament_processe, hackathon-pln-es/Dataset-Acoso-Twitter-Es, Sampson2022/demo, abdusahmbzuai/arabic_speech_massive_sm, huggan/horse2zebra, tskolm/youtube_top_popular_videos_comments, huggan/monet2photo, huggan/cezanne2photo, huggan/ukiyoe2photo, huggan/vangogh2photo, huggan/apple2orange, huggan/iphone2dslr_flower, huggan/summer2winter_yosemite, huggan/grumpifycat, malay-huggingface/jelapang-padi, boris/gis_filtered, hackathon-pln-es/Fake_news_train, rzhang123/UScourt, marksverdhei/clickbait_title_classification, laion/laion2B-en-joined, laion/laion2B-multi-joined, laion/laion1B-nolang-joined, liza-alx/tokenized_data_yahoo, liza-alx/tokenized_data, laion/laion2B-multi-watermark, laion/laion1B-nolang-watermark, hackathon-pln-es/nli-es, sichenzhong/squad_v2_word2vec_aug, vumichien/pitch_japanese_data, Cptburgos/aircraft_reports, andreamorgar/spanish_poetry, blo05/cleaned_wiki_en_0-20, javilonso/mex_data, Splend1dchan/phone-squad, artemis13fowl/imdb, blo05/cleaned_wiki_en_20-40, ntt123/infore, omerm/test_dataset, MLCommons/peoples_speech, hackathon-pln-es/Axolotl-Spanish-Nahuatl, lislia/GDPR, MF-Rocket/MFRPC, sichenzhong/squad_v2_context_aug, sichenzhong/squad_v2_back_trans_synonym_aug, copenlu/sufficient_facts, simonchristensen1/GDPR, vlsb/autotrain-data-security-texts-classification-distilroberta, hackathon-pln-es/disco_spanish_poetry, nateraw/test-imagefolder-dataset, oscarfossey/NLP_Pole_emploi, su/jingdong, Atnafu/Parallel_dataset_for_Ethiopian_languages, DioLiu/Test1, DioLiu/Test2, NbAiLab/nb_bert, tomekkorbak/pile-nontoxic-chunk-0, r1ck/Corpus-Embedd, Splend1dchan/phone-squad-parquet, benwoodyear/guardian_crosswords, LeoFeng/MLHW_6, Samip/Scotch, tomekkorbak/pile-toxicity-balanced, huggan/CelebA-faces-with-attributes, rubrix/news, rubrix/news_test, rubrix/test_datasetdict, johnowhitaker/glid3_orbs, nntadotzips/vietjack_geography_original_labeled, arjundd/dosma-data, hackathon-pln-es/neutral-es, NbAiLab/nb_bert_debiased, KevinZ/psycholinguistic_eval, sichenzhong/squad_v2_back_trans_possib_aug, sichenzhong/squad_v2_back_trans_synonym_possib_aug, Ericblancosf/subtechnique, malay-huggingface/lane-detection, tan9/bioasq, HosseinGT/wider_face_background, tan9/pubmedQA, sfdkiaei/EAS, jimregan/psst, mariosasko/CelebA-faces-with-attributes, huggan/few-shot-obama, huggan/few-shot-grumpy-cat, huggan/few-shot-panda, huggan/few-shot-cat, huggan/few-shot-dog, huggan/few-shot-anime-face, huggan/pokemon, blo05/cleaned_wiki_en_40-60, huggan/few-shot-art-painting, huggan/few-shot-fauvism-still-life, huggan/few-shot-flat-colored-patterns, huggan/few-shot-moongate, huggan/few-shot-pokemon, huggan/few-shot-shells, huggan/few-shot-skulls, hackathon-pln-es/es_tweets_laboral, lislia/gdpr_train, metashift, jamescalam/stoic-corpus, PaulLerner/viquae_passages, nntadotzips/vietjack_geography_original_labeled_train_test, jglaser/pdb_protein_ligand_complexes, hackathon-pln-es/biomed_squad_es_v2, MalakhovIlya/RuNNE, DMetaSoul/chinese-semantic-textual-similarity, AykeeSalazar/violation-classification, copenlu/fever_gold_evidence, UrukHan/t5-russian-summarization, marksverdhei/wordnet-definitions-en-2021, hackathon-pln-es/spanish-poetry-dataset, hackathon-pln-es/spanish-to-quechua, aymen31/PlantVillage, abdulhady/ckb, blo05/cleaned_wiki_en_60-80, johnowhitaker/colorbs, fmmolina/eHealth-KD-Adaptation, Pavithra/sampled-code-parrot-train-100k, Pavithra/sampled-code-parrot-valid-100k, hackathon-pln-es/readability-es-caes, hackathon-pln-es/unam_tesis, hackathon-pln-es/scientific_papers_en, miracFence/scientific_papers_es, miracFence/scientific_papers_en_es, hackathon-pln-es/scientific_papers_es, hackathon-pln-es/scientific_papers_en_es, hackathon-pln-es/ITAMA-DataSet, ManRo/Sexism_Twitter_MeTwo, pragnakalp/squad_v2_french_translated, blo05/cleaned_wiki_en_80-100, ikekobby/40-percent-cleaned-preprocessed-fake-real-news, arch-raven/music-fingerprint-dataset, hackathon-pln-es/readability-es-hackathon-pln-public, huggan/inat_butterflies, elena-soare/datasaur_text2sql, huggingartists/olga-buzova, Nart/abkhaz_text, lislia/clean_policyQA_train, huggan/inat_butterflies_top10k, Danastos/squad_el_custom_wpl, Danastos/nq_el_custom, Danastos/newsqa_el_custom, damlab/human_hiv_ppi, Danastos/triviaqa_el_custom, nielsr/eurosat-demo, huggan/flowers-102-categories, met/mm, huggan/smithsonian-butterfly-lowres, met/Meti_ICT, SocialGrep/the-reddit-dataset-dataset, aaraki/github-issues, DioLiu/Test3, rafay/upside_down_detection_cifar100, jet-universe/jetclass, PolyAI/minds14, aaraki/github-issues2, ramnika003/autotrain-data-sentiment_analysis_project, met/AMH_MET, met/Meti_try, met/Met, Jeneral/fer2013, duskvirkus/dafonts-free, huggan/sim2real_gta5_to_cityscapes, javilonso/mex_data_augmented, galv/peoples-speech, julien-c/impressionists, Pavithra/sampled-code-parrot-ds-train-100, aayush9753/InterIIT-Bosch-MidPrep-AgeGenderClassificationInCCTV, gigant/wikiart-test, SocialGrep/the-reddit-place-dataset, Junior/data, Cheltone/augmented_50k, dnes1983/train.csv, dnes1983/train, Jianxin1111/juicycollection, aaraki/github-issues3, ChainYo/rvl-cdip, theproductboxes/packagingboxes, dalton72/turk-data-tw, israel/Amharic-News-Text-classification-Dataset, lulul/liludataset, huggan/wikiart, nealmgkr/tminer_hs, dalton72/twitter-sent, albertvillanova/mtet, Mateo/isic, truongpdd/KDD22task2, Chris1/cityscapes, tyfann/csgsql, StanBienaives/french-open-fiscal-texts, JeunesseAfricaine/sheng_nlu, dalton72/twitter-data-set-tr, Chris1/GTA5, Pavithra/sampled-code-parrot-ds-valid-100, met/MetaIct, Jeneral/fer-2013, ChainYo/rvl-cdip-questionnaire, ChainYo/rvl-cdip-invoice, ukr-models/Ukr-Synth, Cheltone/AugSent, openclimatefix/era5, ucl-snlp-group-11/guardian_crosswords, truongpdd/KDD22task2Full, bible-nlp/biblenlp-corpus, DINDAKHRNNNSA/VCLAS_M6, frascuchon/news_test, aaraki/github-issues1, MalakhovIlya/NEREL, mteb/reddit-clustering, yuxiangwang/flat_relation, NLPC-UOM/Sinhala-News-Category-classification, NLPC-UOM/Sinhala-News-Source-classification, Splend1dchan/NMSQA_wav2vev2-lv-60-espeak-cv-ft_phone, Danastos/squad_el_custom, tomekkorbak/pile-toxicity-balanced2, mteb/stackexchange-clustering, mteb/twentynewsgroups-clustering, skt/kobest_v1, victor/autotrain-data-test-21312, AlekseyKorshuk/fluf-world-scenes-and-sounds, LeoFeng/Text_classification, abhishek-shrm/github-issues, kniemiec/crack-segm, AlekseyKorshuk/dooggies, johnnydevriese/airplanes, finiteautomata/sa-es, i-am-neo/ami_shard_0of8_phrases_experiment, yzhou992/tokenize_wikitext103, Gautam9595/Squad_Translated, nateraw/quickdraw-sample, aaraki/github-issues5, deepakvk/squad2_valdn, AlekseyKorshuk/cryptopunks, deepakvk/squad2_valdn_paraphrased, openclimatefix/swedish-rainfall-radar, GEM-submissions/ratishsp__ent__1649421332, GEM-submissions/ratishsp__ncp_cc__1649422112, GEM-submissions/ratishsp__ent__1649422569, GEM-submissions/ratishsp__ncp_cc__1649422863, Gautam9595/Squad_dataset2, davanstrien/v4design_test, davanstrien/v4design_csv_only, juancopi81/github-issues, bergoliveira/pl-corpus, lm233/humor_train, McGill-NLP/TopiOCQA, alperiox/user-opinion-classification-hf-kili, nateraw/quickdraw, Danastos/qacombination_el_custom, ceyda/smithsonian_butterflies, eliwill/First_and_Last_Freedom, gdwangh/kaggle-nlp-getting-start, eliwill/Krishnamurti, Chris1/boredapeyachtclub, student/celebA, eliwill/Lincoln, student/MNIST, huggan/chebakia, krinal214/tydiqa_ben_tel, Guldeniz/flower_dataset, Guldeniz/trimaps_dataset, huggingnft/dooggies, krinal214/squad_ben_tel_que_only, krinal214/squad_ben_tel_context, Chris1/cryptopunks, huggingnft/cryptoadz-by-gremplin, huggingnft/cyberkongz, huggingnft/mini-mutants, huggingnft/theshiboshis, huggingnft/cryptopunks, huggingnft/nftrex, huggingnft/etherbears, huggingnft/alpacadabraz, huggingnft/trippytoadznft, huggingnft/boredapeyachtclub, MalakhovIlya/RuREBus, LQQ/github-issues, krinal214/squad_que_partial, lewtun/top_quark_tagging_old, Nabby/my_dataset, nsusemiehl/SciERC, arjundd/skm-tea-mini, Conrad747/Lg-En-Profession-Parallel-Corpus, DrishtiSharma/Anime-Face-Dataset, mattgmcadams/AirDrums, crystina-z/quora, crystina-z/quora-corpus, surdan/nerel_short, enimai/MuST-C-de, yogi/amazon, huggingface/semantic-segmentation-test-sample, westphal-jan/mnli_matched, csebuetnlp/squad_bn, openclimatefix/prepared-batches, lewtun/autoevaluate__emotion, AntoineLB/Frozen-lake-dataset, paul21/nq_dataset, Diva/AutomatedBlogSpot, arampacha/rsicd, Hasanmurad/github-issues, UrukHan/wav2vec2-ru-I, davanstrien/brill_one_label, dhirajprai/funsd, theojolliffe/github-issues, theojolliffe/welsh-trans-1, vendrick17/dark_fantasy, irenelizihui/Surfer100, Soulaimen/cerebra, raquiba/Sarcasm_News_Headline, dandelin/imagenet, nntadotzip/iuQAchatbot_ver12April2022, Splend1dchan/NMSQA_wav2vec2-large-960h-lv60-self, taln-ls2n/inspec, yarongef/human_proteome_singlets, Matthijs/snacks, mwong/fever-evidence-related, yuanjie/demo, arakesh/test9920, gsm8k, HFFErica/steamreviews, sbu_captions, yarongef/human_proteome_doublets, yarongef/human_proteome_triplets, mwong/climate-evidence-related, Pavithree/eli5, Splend1dchan/NMSQA_wav2vec2-large-10min-lv60-self, enimai/MuST-C-and-WMT16-de-en, Matthijs/snacks-detection, arakesh/PennFudanPedestrian-1024x512, arakesh/deepglobe-2448x2448, csteinmetz1/test-dataset, arakesh/uavid-15-hq-mixedres, mteb/quora-retrieval, bshaekos/Pasadena-Wind_Tunnel-ArtCenter_College_of_Design, mteb/cqadupstack-retrieval, peteroli/github-issues, openenvironments/blockgroupvoting, huggan/few-shot-universe, Soulaimen/layout, huggan/few-shot-aurora, Splend1dchan/slue-text, StinginAI/TestDataset, Sampson2022/test, HannahRoseKirk/HatemojiCheck, lwdragon/tets, ckdkambh/testDataSet, HannahRoseKirk/HatemojiBuild, ghomasHudson/hotpotExtendedAno, krinal214/tydiqa_Translated, huggan/smithsonian_butterflies_subset, krinal214/tydiqa_Translated_v2, javilonso/mex_data_title_with_opinion, SetFit/amazon_reviews_multi_en, vinaykudari/acled-information-extraction, enimai/MuST-C-it, bullmount/squad_it, Aanisha/NeonGAN_dataset, taln-ls2n/kp20k, patriziobellan/PET, Srini99/TamilQA, huggingnft/hapeprime, ajanco/pesp, truongpdd/task2Train, conceptual_captions, truongpdd/task2Test, Yaxin/codeSwitch, huggingnft/cryptoskulls, jason9693/APEACH, jason9693/autotrain-data-kor_hate_eval, daniel-dona/tfg-voice-1, javilonso/mex_data_title_with_opinion_augmented, craffel/tasky_or_not, miccull/met_museum, huggingnft/azuki, huggingnft/mutant-ape-yacht-club, Chris1/mutant-ape-yacht-club, XiangPan/waimai_10k, XiangPan/online_shopping_10_cats_62k, XiangPan/ChnSentiCorp_htl_8k, awacke1/data.csv, awacke1/autotrain-data-Persistence, bullmount/squad-it-exp, mwong/fever-claim-related, mwong/climate-claim-related, rocca/clip-keyphrase-embeddings, winryrb3/jcth_trans, nielsr/ade20k-demo, Peihao/test-dateset, UrukHan/wav2vec2-ru-II, UrukHan/wav2vec2-ru-III, UrukHan/wav2vec2-ru-IV, conceptual_12m, UrukHan/wav2vec2-ru-V, Chris1/hapeprime, Chris1/official-moar-by-joan-cornella, Chris1/the-art-of-seasons, Chris1/bored-ape-kennel-club, Chris1/clonex, Chris1/azuki, cestwc/cnn_dailymail_test_outputs, UrukHan/wav2vec2-ru-VI, eliwill/rhetLincoln, guipenedo/p3_sg_boolq_null, guipenedo/p3_sg_boolq_empty, guipenedo/p3_sg_cb_null, guipenedo/p3_sg_cb_empty, guipenedo/p3_sg_copa_null, guipenedo/p3_sg_copa_empty, guipenedo/p3_sg_multirc_null, guipenedo/p3_sg_multirc_empty, guipenedo/p3_sg_record_null, guipenedo/p3_sg_record_empty, guipenedo/p3_sg_rte_null, guipenedo/p3_sg_rte_empty, guipenedo/p3_sg_wic_null, guipenedo/p3_sg_wic_empty, guipenedo/p3_sg_wsc.fixed_null, guipenedo/p3_sg_wsc.fixed_empty, Peihao/sharestudy, yumingh/course_project, polinaeterna/jsonl_test, rasikabh/pile-pii, tomekkorbak/toxicity-debug, ajanco/deep, kniemiec/testupdxdxddsgsgdfsgxdate-crack-segmentation, XiangPan/CovidQCLS, student/CIFAR-10, mdm/yesay, student/FFHQ, krinal214/squad_translated_20k_mbart, huseinzol05/Malay-TTS-Yasmin, student/ImageNet-64, dl4phys/top_tagging, dl4phys/top_tagging_nsubjettiness, dl4phys/top_tagging_images, westphal-jan/mnli_entailment, horsbug98/squad_demo, surrey-nlp/PLOD-filtered, horsbug98/squad_ai4bharat_append, surrey-nlp/PLOD-unfiltered, horsbug98/squad_ai4bharat_ben_tel_train, necm77/negotiation_data, Paercky/Tweets, Paercky/autotrain-data-Tweets, huseinzol05/Malay-TTS-Osman, enimai/MuST-C-ru, Yaxin/Souhu, laion/laion5B-watermark-safety-ordered, horsbug98/ai4bharat_ben_tel_train, swardiantara/drone-ner, tomekkorbak/pile-toxicity-balanced2-filtered, Divyanshu/indicxnli, surafelkindu/Amharic_corpus, Pavithra/autopilot-sampled50k-train, Pavithra/autopilot-sampled50k-valid, rzhang123/US_Court_8_2, cestwc/shortcut, KevinZ/oLMpics, student/birds_400, student/CUB_birds_200_2011, agemagician/NetSurfP-SS3, multiIR/ccnews2016-8multi, nerpad/test, nerpad/test_model, unjustify/Justify, stevhliu/dummy, stepp1/tweet_emotion_intensity, SocialGrep/the-reddit-irl-dataset, Lexi/spanextract, wanyu/IteraTeR_v2, ciroy/mlcommons-test, gagan3012/k2t-training-data, Bingsu/Cat_and_Dog, Bingsu/KSS_Dataset, huggan/selfie2anime, hnchen/Session-search, huggingface/image-classification-test-sample, maxmoynan/C_flare, samwell/en_twi, google/fleurs, mteb/twitterurlcorpus-pairclassification, mteb/sprintduplicatequestions-pairclassification, mteb/twittersemeval2015-pairclassification, bigscience-historical-texts/Open_Medieval_French, mteb/askubuntudupquestions-reranking, taln-ls2n/wikinews-fr-100, mteb/scidocs-reranking, mteb/stackoverflowdupquestions-reranking, JEFFREY-VERDIERE/train_X_PJT_NLP, taln-ls2n/taln-archives, mteb/sickr-sts, mnazari/urmi-assyrian-voice, mteb/biosses-sts, SKYKISS/test, mteb/stsbenchmark-sts, arka0821/multi_document_summarization, asdAD222/segment_T, danrambado/SODA, kniemiec/crack-segmentation, kniemiec/test, kniemiec/sidewalk-imagery-test, Lexi/spanextract_no_qg, enoriega/biocreative_gene_mention, aspis/car_background_removal, truongpdd/us_train, truongpdd/test_us, truongpdd/train_jp, truongpdd/test_jp, truongpdd/train_es, truongpdd/test_es, bookbot/id_word2phoneme, hapandya/sqnnr, truongpdd/train_valid_jp, truongpdd/train_valid_us, truongpdd/train_valid_es, Khalsuu/filipino_dataset_script, csebuetnlp/CrossSum, UmnatHCU/test, osanseviero/test123, naem1023/cstnet-tls1.3, javilonso/TEST_mex_data_title_with_opinion, nirmalkumar/old-old-old, nirmalkumar/cricket-commentary, mteb/sts12-sts, mteb/sts13-sts, mteb/sts14-sts, mteb/sts15-sts, mteb/sts16-sts, javilonso/PRED_TEST_mex_data_title_with_opinion, mwong/climatetext-claim-related-evaluation, NbAiLab/NST, mwong/climatetext-evidence-related-evaluation, Peihao/CURE-Pretrain, Fin/cat_bs, davanstrien/test_bl_fickr, Yaxin/SemEval2016, enoriega/GENIA-Term-Corpus, Ericblancosf/subtechnie2, KeithHorgan/TweetClimateAnalysisData, crisdev/comentarios, daniel-dona/tfg-voice-2, alisawuffles/WANLI, billray110/corpus-of-diverse-styles, Kateryna/eva_ru_forum_headlines, juliensimon/autotrain-data-petfinder-demo, ylacombe/xsum_factuality, cmotions/NL_restaurant_reviews, AntoineLB/FrozenLakeNotFrozen, mwong/climatetext-climate_evidence-claim-related-evaluation, mwong/climatetext-claim-climate_evidence-related-evaluation, mwong/climatetext-evidence-claim-pair-related-evaluation, mwong/climatetext-claim-evidence-pair-related-evaluation, mweiss/fashion_mnist_corrupted, visual_genome, yanekyuk/wikikey-full, Yaxin/SemEval2014, yanekyuk/wikikey-small, yanekyuk/wikikey-large, yanekyuk/wikikey-medium, tsantosh7/COVID-19_Annotations, lhoestq/tmp_zip_lfs, Yaxin/SemEval2015, pie/conll2003, rvl_cdip, Goud/Goud-sum, eleldar/sub_train-normal_tests-datasets, GEM-submissions/ratishsp__seqplan-sportsett__1650556902, pietrolesci/glue_diagnostics, patrickvonplaten/librispeech_asr_self_contained, truongpdd/dataset_mlm, truongpdd/dataset_clf, multiIR/testing_ko, adithya7/xlel_wd_dictionary, adithya7/xlel_wd, Lumos/imdb_test, lewtun/autoevaluate__conll2003, AntoineLB/FrozenLakeFrozen, pietrolesci/fracas, loretoparisi/tatoeba-sentences, lewtun/autoevaluate__imdb, pietrolesci/scitail, taln-ls2n/termith-eval, lewtun/autoevaluate__squad, lewtun/autoevaluate__xsum, lewtun/autoevaluate__ncbi_disease, lewtun/autoevaluate__go_emotions, surrey-nlp/SDU-test, multiIR/multi2016-9, taln-ls2n/semeval-2010-pre, pietrolesci/mpe, princeton-nlp/wikibook_fairseq_format, pietrolesci/add_one_rte, loubnabnl/tokenized-codeparrot-valid, AndresPitta/sg-reports_labeled, pietrolesci/recast_white, loubnabnl/tokenized-codeparrot-train, Pavithree/askHistorians, sbrandeis/gated-fields, Pavithree/askScience, deancgarcia/Diversity, ntcuong777/iuontology, johnowhitaker/vqgan1024_reconstruction, sbusso/fluf, Neku/meme, Pavithree/eli5_split, dnaveenr/cmu_mocap, AliceTears/thanadol_sin, Xiaowei/github-issues, Cassady/ASLG_PC12, ysharma/eurosat-demo, ntcuong777/iuontology_segmented, JEFFREY-VERDIERE/star_wars, JEFFREY-VERDIERE/Photos, johnowhitaker/vqgan1024_encs_sf, qanastek/MASSIVE, laion/clevr-webdataset, JEFFREY-VERDIERE/grasping_data_set, johnowhitaker/vqgan16k_reconstruction, chrishuber/kaggle_mnli, johnowhitaker/vqgan16k_encs_sf_190k, johnowhitaker/vqgan16k_encs_sf_200k, Reproducibility/naacl22_wikitext15M, Reproducibility/naacl22_wikitext15M_eval, aneof/train_multi, lanesket/r-asts, gagan3012/adab, IDKiro/RS-Haze, ozilfan8/Test, d0r1h/Shlokam, maximedb/paws-x-concat, lanesket/r-asts-val, gagan3012/OnlineKhatt, ahazeemi/librispeech10h, McGill-NLP/FaithDial, rosimeirecosta/c_corpus_br, Fhrozen/tau_srir_db, Carol99/multimodal_sarcasm_detection, d0r1h/ILC, NbAiLab/old_hesitate, GENG/word_data, pietrolesci/dialogue_nli, hnchen/hqcn, ceyda/test-privacy, pietrolesci/dnc, jordane95/msmarco-passage-query, jordane95/msmarco-passage-query-corpus, Meena/imdb_ratings_table, pietrolesci/stress_tests_nli, blo05/wiki_titles, pietrolesci/gen_debiased_nli, pietrolesci/gpt3_nli, BritishLibraryLabs/web_archive_classification, Yaxin/xlm-roberta-base-codeswitch-5languagess, drGOD/test, lanesket/r-asts-tokenized, pietrolesci/robust_nli, pietrolesci/robust_nli_li_ts, pietrolesci/robust_nli_is_sd, jamescalam/reddit-python, loubnabnl/tokenized-github-code-python, pietrolesci/joci, pietrolesci/breaking_nli, pietrolesci/copa_nli, cfilt/HiNER-original, cakiki/emotion-with-length, RohanAiLab/persian_blog_V2, tejasdev/training_data_NSPM, myvision/gender-classification, xap/covid19-sentiment-nepali, xap/testing, davanstrien/human_cats, PartiallyTyped/GTSRB, rosimeirecosta/c_corpus, AmirulOm/lottie-urls, Davincilee/closure_system_door_inner, Ericblancosf/lenssubtechnique, hrithikpiyush/acl-arc, eleldar/different_sub_normal_datasets, BigScienceBiasEval/crows_pairs_multilingual, albertxu/CrosswordQA, khalidalt/HuffPost, blinoff/kinopoisk, hady/kurdiabadulhady, inseq/dummy_enit, sxu/CANLI, agemagician/uniref90, loubnabnl/codeparrot-token-valid1, hrithikpiyush/scierc, ENM/prueba, ENM/dataset-prueba, saattrupdan/doc-nli, SocialGrep/the-reddit-nft-dataset, kensho/spgi, princeton-nlp/glue_fairseq_format, murdockthedude/sv_corpora_parliament_processed, aakanksha/udpos, fut501/ds1, spoiled/ecqa_explanation_classify, wza/TimeTravel, aps/bioasq_task_b, zaraTahhhir/urduprusdataset, Zaratahir123/urduprusdataset, junliang/symptom, janck/bigscience-lama, Calin/eurosat-demo, StanBienaives/jade-considerants, Zaratahir123/groupData, Zaratahir123/test, shreyasmani/whrdata2021, shweta2911/SCIERC, PolyAI/banking77, EAST/autotrain-data-Rule, osyvokon/pavlick-formality-scores, yerevann/common_voice_9_0, NLPC-UOM/Writing-style-classification, ibrahimmoazzam/mysprecordings, bigscience-catalogue-data/bias-shades, mrm8488/ImageNet1K-val, mrm8488/ImageNet1K-train, AmazonScience/massive, odellus/beerqa, loubnabnl/codeparrot-clean-valid-v2, TahaRazzaq/urduprusdataset, loubnabnl/codeparrot-clean-train-v2, mathigatti/spanish_imdb_synopsis, truongpdd/train_dataset, chrisjay/crowd-speech-africa, TalTechNLP/VoxLingua107, zzzzzzttt/subtrain, abidlabs/crowdsourced-speech-demo2, strombergnlp/danfever, JbIPS/stanford-dogs, strombergnlp/broad_twitter_corpus, strombergnlp/ipm_nel, strombergnlp/shaj, strombergnlp/polstance, strombergnlp/bornholmsk, strombergnlp/twitter_pos_vcb, strombergnlp/zulu_stance, Elfsong/clef_data, tomasmcz/word2vec_analogy, rockdrigoma/spanish-nahuatl-flagging, Zaratahir123/23100065, Zaratahir123/21030019, Zaratahir123/23100133, dwen/rocstories, Zaratahir123/Group2Data, BigScienceBiasEval/bias-shades, jamescalam/reddit-topics, talaugust/sci-definition, aps/dynasent, spoiled/pre-answer, spoiled/with_label, spoiled/with_random_label, smallv0221/dd, gusevski/factrueval2016, sh110495/kor-newspaper, multiIR/langfiles2018-6_sr, Mim/autotrain-data-procell-expert, doddle124578/speechcorpus, chaithanya/audio_files, nielsr/funsd-image-feature, nielsr/funsd-layoutlmv3, plasticfruits/wikihow_small, muibk/wmt21_metrics_task, rish16/cs4243-database-dict, iamholmes/tiny-imdb, Samip/scotch_try, mozilla-foundation/common_voice_9_0, jamescalam/world-cities-geo, aps/dynahate, dalle-mini/vqgan-pairs, Seledorn/SwissProt-EC, Seledorn/SwissProt-Pfam, Seledorn/SwissProt-GO, shahidul034/github-issues, samhellkill/spacekitty-v1, charly/test, JEFFREY-VERDIERE/Creditcard, loubnabnl/codeparrot-clean-train-filtered, lightonai/SwissProt-EC-leaf, andstor/smart_contracts_audit, bousejin/eurosat-demo, osyvokon/wiki-edits-uk, defector/autotrain-data-company, valentij/train.csv, valentij/test.csv, Filippo/osdg_cd, claytonsamples/eurosat-demo, Yaxin/myconll, Anon126/my-raft-submission, Rodion/uno_sustainable_development_goals, obokkkk/NMT_test, hongdijk/kor_nlu_hufsice2, gary109/crop14_balance, hongdijk/kor_nlu_hufs, skg/toxigen-data, kimtaehyuk11/klue, Diegomejia/ds1ucb, multiIR/cc_multi_2021-1_en, JEFFREY-VERDIERE/Cornell_Grasping_Dataset, google/wit, hnchen/ricr_data, lanesket/r-asts-splitted, jdrl96/sv_corpora_parliament_processed, Gifted/iris, Davincilee/door_inner_with_SAE, shanya/crd3, wikimedia/wit_base, imagenet-1k, nielsr/cord-layoutlmv3, pauli31/czech-subjectivity-dataset, ppate192/conll.eng.testa, Zaid/masader, wza/roc_stories, Apo/AKE20K_sky, carlosejimenez/snli_aug, Apo/ADE20K_sky_13labels, Apo/AKE20K_sky_13labels, Vardan/train, Erwin/coffee_reviews_corpus, bigscience-biomedical/progene, lanesket/r-asts-splitted-tokenized, NishinoTSK/Dissertacao, tne, carlosejimenez/qqp_aug, farazeftekhar/geojson, andstor/smart_contract_code_comments, orieg/elsevier-oa-cc-by, enoriega/keyword_pubmed, allenai/drug-combo-extraction, Ukhushn/home-depot, potatochocolate/csdbbbbbbbbb, vumichien/japanese_large_dataset, ntinouldinho/el_corpora_parliament_processed, Seledorn/SwissProt-EC-leaf_upd, Seledorn/SwissProt-EC-leaf_upt_again, cestwc/lsnli, Pavithree/askHistorians_last30, nielsr/test, nlpconnect/DocVQA, cncoleman/CA_LEA_Manuals, IsaacRodgz/DravidianCodeMix-Dataset, Alayt/gcode, Ericblancosf/autotrain-data-lenmiitrebest, ywchoi/biogpt3, textvqa, chrisvinsen/id_kenlm_language_model, jordane95/msmarco-passage-corpus-10-query-0.4, 00data00/data, sh110495/kor-newspaper-tokenized, ett, BK-V/arman, ghomasHudson/hotpotExtendedAnoLM, truthisneverlinear/eleventh-doctor-scripts, marwansalam/art_split_datasets, marwansalam/araucaria_split_datasets, marwansalam/araucaria_nolabel_split_datasets, boli-ai/vishal, JoesSattle/common_voice_specific_version, PoolC/news-corpus-mini, ablam/gcode, fgrezes/WIESP2022-NER, dlwh/wikitext_103_detokenized, dlwh/wikitext_2_detokenized, nateraw/gradio-guides-files, BennoKrojer/ImageCoDe, ashraq/youtube-transcription, nateraw/test-imagefolder-metadata, nateraw/test-imagefolder-metadata-csv, nateraw/test-imagefolder-metadata-2, zzzzzzttt/train, ntt123/viet-tts-dataset, searle-j/kote, crystina-z/mmarco-passage, filwsyl/video_understanding, mdroth/github-issues, medmcqa, Fhrozen/FSD50k, SetFit/amazon_massive_scenario_af-ZA, SetFit/amazon_massive_scenario_am-ET, SetFit/amazon_massive_scenario_ar-SA, SetFit/amazon_massive_scenario_az-AZ, SetFit/amazon_massive_scenario_bn-BD, SetFit/amazon_massive_scenario_cy-GB, SetFit/amazon_massive_scenario_da-DK, SetFit/amazon_massive_scenario_de-DE, SetFit/amazon_massive_scenario_el-GR, SetFit/amazon_massive_scenario_en-US, SetFit/amazon_massive_scenario_es-ES, SetFit/amazon_massive_scenario_fa-IR, SetFit/amazon_massive_scenario_fi-FI, SetFit/amazon_massive_scenario_fr-FR, SetFit/amazon_massive_scenario_he-IL, SetFit/amazon_massive_scenario_hi-IN, SetFit/amazon_massive_scenario_hu-HU, SetFit/amazon_massive_scenario_hy-AM, SetFit/amazon_massive_scenario_id-ID, SetFit/amazon_massive_scenario_is-IS, SetFit/amazon_massive_scenario_it-IT, SetFit/amazon_massive_scenario_ja-JP, SetFit/amazon_massive_scenario_jv-ID, SetFit/amazon_massive_scenario_ka-GE, SetFit/amazon_massive_scenario_km-KH, SetFit/amazon_massive_scenario_kn-IN, SetFit/amazon_massive_scenario_ko-KR, SetFit/amazon_massive_scenario_lv-LV, SetFit/amazon_massive_scenario_mn-MN, SetFit/amazon_massive_scenario_ms-MY, SetFit/amazon_massive_scenario_my-MM, SetFit/amazon_massive_scenario_nb-NO, SetFit/amazon_massive_scenario_nl-NL, SetFit/amazon_massive_scenario_pl-PL, SetFit/amazon_massive_scenario_pt-PT, SetFit/amazon_massive_scenario_ro-RO, SetFit/amazon_massive_scenario_ru-RU, SetFit/amazon_massive_scenario_sl-SL, SetFit/amazon_massive_scenario_sq-AL, SetFit/amazon_massive_scenario_sv-SE, SetFit/amazon_massive_scenario_sw-KE, SetFit/amazon_massive_scenario_ta-IN, SetFit/amazon_massive_scenario_te-IN, SetFit/amazon_massive_scenario_th-TH, SetFit/amazon_massive_scenario_tl-PH, SetFit/amazon_massive_scenario_tr-TR, SetFit/amazon_massive_scenario_ur-PK, SetFit/amazon_massive_scenario_vi-VN, SetFit/amazon_massive_scenario_zh-CN, SetFit/amazon_massive_scenario_zh-TW, SetFit/amazon_massive_intent_af-ZA, SetFit/amazon_massive_intent_am-ET, SetFit/amazon_massive_intent_ar-SA, SetFit/amazon_massive_intent_az-AZ, SetFit/amazon_massive_intent_bn-BD, SetFit/amazon_massive_intent_cy-GB, SetFit/amazon_massive_intent_da-DK, SetFit/amazon_massive_intent_de-DE, SetFit/amazon_massive_intent_el-GR, SetFit/amazon_massive_intent_en-US, SetFit/amazon_massive_intent_es-ES, SetFit/amazon_massive_intent_fa-IR, SetFit/amazon_massive_intent_fi-FI, SetFit/amazon_massive_intent_fr-FR, SetFit/amazon_massive_intent_he-IL, SetFit/amazon_massive_intent_hi-IN, SetFit/amazon_massive_intent_hu-HU, SetFit/amazon_massive_intent_hy-AM, SetFit/amazon_massive_intent_id-ID, SetFit/amazon_massive_intent_is-IS, SetFit/amazon_massive_intent_it-IT, SetFit/amazon_massive_intent_ja-JP, SetFit/amazon_massive_intent_jv-ID, SetFit/amazon_massive_intent_ka-GE, SetFit/amazon_massive_intent_km-KH, SetFit/amazon_massive_intent_kn-IN, SetFit/amazon_massive_intent_ko-KR, SetFit/amazon_massive_intent_lv-LV, SetFit/amazon_massive_intent_mn-MN, SetFit/amazon_massive_intent_ms-MY, SetFit/amazon_massive_intent_my-MM, SetFit/amazon_massive_intent_nb-NO, SetFit/amazon_massive_intent_nl-NL, SetFit/amazon_massive_intent_pl-PL, SetFit/amazon_massive_intent_pt-PT, SetFit/amazon_massive_intent_ro-RO, SetFit/amazon_massive_intent_ru-RU, SetFit/amazon_massive_intent_sl-SL, SetFit/amazon_massive_intent_sq-AL, SetFit/amazon_massive_intent_sv-SE, SetFit/amazon_massive_intent_sw-KE, SetFit/amazon_massive_intent_ta-IN, SetFit/amazon_massive_intent_te-IN, SetFit/amazon_massive_intent_th-TH, SetFit/amazon_massive_intent_tl-PH, SetFit/amazon_massive_intent_tr-TR, SetFit/amazon_massive_intent_ur-PK, SetFit/amazon_massive_intent_vi-VN, SetFit/amazon_massive_intent_zh-CN, SetFit/amazon_massive_intent_zh-TW, filwsyl/video_tags, taln-ls2n/kptimes, swcrazyfan/net-kjv, crabz/boolq_sk, vehnem/DBpedia, MauriceV2021/AuroraSDGsDataset, filwsyl/ascend, ai4bharat/Aksharantar, cradle-bio/FLIP_clusters, cradle-bio/FLIP_biggest_cluster_Q0PD48, polinaeterna/vox_lingua, pie/conll2002, pie/germeval_14, pie/german_legal_entity_recognition, pie/conllpp, pie/germaner, pie/ncbi_disease, pie/wikiann, pie/wnut_17, Rizwan125/AIByRizwan, strombergnlp/twitter_pos, kimcando/KOR-RE-natures-and-environments, avacaondata/randomq, nateraw/background-remover-files, d0r1h/customer_churn, NLPC-UOM/Student_feedback_analysis_dataset, Bingsu/arcalive_220506, zhiguoxu/test_data, deydebasmita91/Tweet, manirai91/ebiquity-v2, laion/laion-high-resolution, BeardedJohn/ubb-endava-assistant-ner, nadhifikbarw/id_ner_nimas, peandrew/conceptnet_en_simple, jeremyf/fanfiction_z, kejian/pile-severetoxicTEST-chunk-0, hidude562/textsources, hidude562/BadWikipedia, hsiehpinghan/github-issues, snoop2head/python-clone-det-test-dataset, peandrew/conceptnet_en_nomalized, parvezmrobin/MCMD, nateraw/imagenet-sketch, shzhang/tutorial_datasets_github_issues, johnowhitaker/imagewoof2-320, johnowhitaker/imagenette2-320, peandrew/dialy_dialogue_with_recoginized_concept_raw, sayanhf22/amazonfashionmeta, bananabot/engMollywoodSummaries, vinaykudari/acled-ie-actors, nguyenvulebinh/fsd50k, merve/pima-diabetes, lilitket/voxlingua107, kejian/pile-severetoxic-chunk-0, kejian/pile-severetoxic-balanced, avacaondata/covidqa_translated-intermediate, avacaondata/covidqa_translated, strombergnlp/rustance, FelixE/t4d01, deepakvk/conversational_dialogues_001, Fhrozen/AudioSet2K22, Maddy132/bottles, lukaszsaj/github-issues, ccdv/WCEP-10, HugoLaurencon/libri_light, IljaSamoilov/ERR-transcription-to-subtitles, Pavithree/eli5_75, mmillet/copy, theangrybuddhas/code, domischwimmbeck/germdata, jerpint/imagenette, dianatixi/NoticiasEcuador, Pengfei/test22, Eigen/twttone, milesbutler/consumer_complaints, CEBaB/CEBaB, domenicrosati/QA2D, mdroth/github_issues_300, fancyerii/github-issues, DFKI-SLT/brat, kejian/pile-severetoxic-random100k, kejian/pile-severetoxic-balanced2, Pavithree/eli5_55, SberDevices/Golos, drAbreu/sd-nlp-2, laugustyniak/political-advertising-pl, mteb/raw_arxiv, strombergnlp/offenseval_2020, MilaNLProc/honest, Maddy132/sample1, laurens88/laurensthesis, Pavithree/askHistorians_55, mteb/arxiv-clustering-s2s, Bolishetti/dataset, Pavithree/askScience_55, Pavithree/eli5Split_55, mteb/arxiv-clustering-p2p, lukaszsaj/github-issues-embeddings, tomekkorbak/cursing-debugging, mteb/raw_biorxiv, mteb/raw_medrxiv, polinaeterna/voxpopuli, leo19941227/g2p, allenai/mup, s3prl/g2p, Leyo/TGIF, anuragshas/bn_opus100_processed, bigscience/bloom-book-prompts, HFFErica/labelled, anuragshas/ur_opus100_processed_cv9, strombergnlp/nordic_langid, alisaqallah/emotion-with-length, HuggingFaceM4/howto100m, bigscience/collaborative_catalog, lk2/lk3, FollishBoi/autotrain-data-tpsmay22, eduardopds/github-issues, HuggingFaceM4/epic_kitchens_100, avacaondata/bioasq22-es, enoriega/odinsynth_dataset, enoriega/odinsynth_temp, YYan/csnc_retrieval, manirai91/yt-nepali-movie-reviews, NbAiLab/NST_hesitate, mteb/biorxiv-clustering-s2s, mteb/biorxiv-clustering-p2p, mteb/medrxiv-clustering-s2s, mteb/medrxiv-clustering-p2p, HuggingFaceM4/charades, RuiqianLi/Li_singlish, mteb/stackexchange-clustering-p2p, pere/italian_tweets_500k, strombergnlp/bornholmsk_parallel, mteb/reddit-clustering-p2p, strombergnlp/bajer_danish_misogyny, asahi417/qg_subjqa, Maddy132/customwb, mox/german_politicians_twitter_sentiment, HFFErica/triadiclabelled_dataset, LIUM/tedlium, MLRS/korpus_malti, elmurod1202/uzbek-sentiment-analysis, zArabi/ArmanNERPublic, selfishark/hf-issues-dataset-with-comments, yjernite/DataMeasurementsClusterCache, strombergnlp/named_timexes, strombergnlp/itu_faroese_danish, jontooy/Flickr8k-Image-Features, najoungkim/edge_probing_dep_ewt_line_by_line, rajeshvarma/sla, myradeng/cs230-news, domenicrosati/TruthfulQA, moon2610/feifei, bananabot/TrumpSpeeches, nateraw/hf-hub-walkthrough-assets, vijaygoriya/SentimentDetection, cradle-bio/TAPE_stability_clusters, danieleV9H/en_corpora_parliament_processed, ncats/EpiSet4NER-v2, reallycarlaost/emobank-single-binary, strombergnlp/rumoureval_2019, HugoLaurencon/libri_light_bytes, met/customAmhTig, nickmuchi/rugd-dataset-all, beery/Dutch-SQuAD, piotr-rybak/poleval-passage-retrieval, azminetoushikwasi/cristiano-ronaldo-all-club-goals-stats, cradle-bio/tape-fluorescence, cradle-bio/tape-fluorescence-processed, Roh/ryanspeech, thomagram/StyleNeRF_Datasets, HuggingFaceM4/webvid, colabtrial17/common_voice_ar_v9, HuggingFaceM4/something_something_v2, oaimli/PeerSum, SetFit/toxic_conversations_50k, pensieves/newsgroups, Leyo/ActivityNet_Captions, yulongchen/DialogSum, gaganpathre/amgerindaf, forcorpus/WikiCybersecurity, Jyotika02/lala, tomekkorbak/pile-pii, plncmm/cantemist, Evelyn18/becas, HuggingFaceM4/vatex, gagan3012/test, hxue3/autotrain-data-code_summarization, gagan3012/test1, Barik/testt, IsaacBot/SQuAD-single-sentence-QA, itsroadtrip/test-dataset, plncmm/pharmaconer, plncmm/clinical_trials, plncmm/nubes, mrojas/wl-disease, myradeng/cs230-news-unfiltered, morteza/cogtext, PoolC/news-corpus-divided, kevinmitnick/Monkey, reallycarlaost/emo-valence-5, hidude562/XS-word-rating, hoangtnm/VinBigdata-VLSP2020-100h, reallycarlaost/emobank, avacaondata/nqaes-intermediate, avacaondata/nqaes, pinecone/reddit-qa, nestoralvaro/data_prep_2021_12_26___t1_7.csv, SullenStudent/autotrain-data-Cyber_Security_Intelligence, ahmedlone123/sv_corpora_parliament_processed, iohadrubin/vqvae, Chr0my/freesound.org, nouamanetazi/test111, mteb/amazon_massive_scenario, mteb/amazon_massive_intent, fuliucansheng/kdd2022, Moo/korean-parallel-corpora, jk-gjom/covid19weibo, filwsyl/test, Nart/ab_ru_para, Sultannn/id_recipe, Kastuks/embeddings_bh, ntt123/vi-text, mwritescode/slither-audited-smart-contracts, wdc/products-2017, janniko/poki_pi_toki_tu, sharfo2/Wearable_Activity, augustoortiz/Test, NimaBoscarino/temp-dataset, VanessaSchenkel/en-pt, M-CLIP/ImageCaptions-7M-Translations, roshnir/mlqa-qa, zchengc/wsb, araanbranco/cryptoweebs, mdroth/transformers_issues_labels, J3romee/CLEAR, allenai/wmt22_african, erixxdp/csvData, zchengc/wsb_full, justram/wit_en, STAM/agricore, penguinwang96825/Bloomberg-News-Summarisation, HuggingFaceM4/ActivitiyNet_Captions, HuggingFaceM4/TGIF, HuggingFaceM4/librispeech_asr, mteb/banking77, EMBO/sd-nlp-non-tokenized, Iyanuoluwa/YOSM, godwinh/fongbe-asr, dcfidalgo/test_datasetdict, M-CLIP/ImageCaptions-7M-Embeddings, HuggingFaceM4/common_voice, erixxdp/set-date, saattrupdan/scala-sv, saattrupdan/scala-da, saattrupdan/scala-is, saattrupdan/scala-nb, saattrupdan/scala-nn, saattrupdan/scala-fo, erixxdp/dse, emilylearning/cond_ft_none_on_reddit__prcnt_na__test_run_True, erixxdp/xmio, nboudad/ASCED, emilylearning/cond_ft_subreddit_on_reddit__prcnt_na__test_run_True, emilylearning/cond_ft_none_on_wiki_bio__prcnt_na__test_run_True, emilylearning/cond_ft_birth_date_on_wiki_bio__prcnt_na__test_run_True, Yingda/test, justmywyw/datasets, PontifexMaximus/Persian-English, Gwangho/test, PontifexMaximus/En-as, wqq/autotrain-data-sino-wisdom, Daliny/ground, HuggingFaceM4/multilingual_librispeech, strombergnlp/x-stance, HuggingFaceM4/libri_light, veriga/dactilo, HuggingFaceM4/voxpopuli, spoiled/ecqa_classify_94, cestwc/cnn_dailymail-coref, cestwc/cnn_dailymail-coref1, rajeshvarma/QA_on_SLA, khalidalt/tydiqa-goldp, JorenGij/inventorytest, HuggingFaceM4/gigaspeech, hongcui/test, vk-mittal14/CryptoBubbles, nateraw/imagenet-sketch-data, rungalileo/20_Newsgroups_Fixed, aaraki/github-issues6, Yoonseong/climatebert_factcheck, brook/fullwiki-context, cynthiachan/test_repo, namnv1906/librispeech-100h, jordane95/wikipedia-nq-corpus-query, jdd/jddtest, statworx/haiku, EddieChen372/tokenized_react_files, HuggingFaceM4/yttemporal180m, Dus/tokenkorpus, mteb/sts17-crosslingual-sts, SoBytes/rubrix-test, mteb/mtop_intent, mteb/mtop_domain, avacaondata/modified_randomqa, GEM/FairytaleQA, SkolkovoInstitute/paradetox, jjjonathan14/mango, mteb/tatoeba-bitext-mining, jjjonathan14/mango1, jjjonathan14/mango2, mteb/bucc-bitext-mining, erixxdp/ndat, Ruohao/pcmr, aaraki/github-issues7, yzhou992/tiny_imageNet, readerbench/ConversationalAgent-Ro, NLPC-UOM/Sinhala-English-Code-Mixed-Code-Switched-Dataset, HuggingFaceM4/ego4d, paul21/nq_processed_v2, hongdijk/kluetest, reallycarlaost/emobank-w-valence, markscrivo/oddson2, strombergnlp/ans-stance, tomekkorbak/pile-chunk-toxicity-scored-3, imagenet_sketch, tomekkorbak/pile-toxicity-balanced3, spoiled/ecqa_model_generate_roberta, DigitalUmuganda/kinyarwanda-tts, DigitalUmuganda/common-voice-kinyarwanda-text-dataset, Rexhaif/ru-med-ner, scoup123/testing, scoup123/tr_movie_reviews_training, cpllab/syntaxgym_sentences, arize-ai/movie_reviews_with_context_drift, s3prl/flashlight, EddieChen372/jest_repos, EddieChen372/react_repos, BasToTheMax/ds-translate, Hongwei/CoQG, ccdv/mediasum, avacaondata/fullrandomq, charly/next_500, Shuchen/codeparrot-train, Shuchen/codeparrot-valid, conceptofmind/pile_cc, avacaondata/fullrandomv2, myradeng/testing, myradeng/cs-230-news-v2, rajistics/million-headlines, avacaondata/allq-parecidos, renatorangel/hedgies, feyzaakyurek/BBNLI, fnakamura/oscar_unshuffled_deduplicated_ja_1000, hidude562/Fake-and-real-words, fnakamura/oscar_unshuffled_deduplicated_ja_1000000, fnakamura/oscar_unshuffled_deduplicated_ja_100000, laion/laion2B-en-aesthetic-tags, laion/laion2B-multi-aesthetic-tags, laion/laion1B-nolang-aesthetic-tags, avacaondata/blindrandom, laion/laion2B-en-aesthetic, laion/laion2B-multi-aesthetic, laion/laion1B-nolang-aesthetic, zhangqiaobit/chinese_poetrys, mesolitica/ms-wiki, laion/laion5B-aesthetic-tags-kv, laion/laion-art, launch/gov_report, IngoStatworx/Py150ExceptionClassification, reallycarlaost/emobank_w, cestwc/paraphrase, launch/gov_report_qs, Rexhaif/xnli-en-ru, conceptofmind/pile_hacker_news, conceptofmind/pile_wikipedia_en, conceptofmind/pile_open_web_text_2, conceptofmind/pile_uspto_backgrounds, teven/mpww_filtered, conceptofmind/pile_dm_mathematics, conceptofmind/pile_open_subtitles, conceptofmind/pile_project_gutenberg, zhangqiaobit/tangshi, sijunhe/thchs30, mesolitica/rumi-jawi, myradeng/cs-230-news-v2-test-moderate, myradeng/cs-230-news-v2-test-liberal, myradeng/cs-230-news-v2-test-conservative, NLPC-UOM/document_alignment_dataset-Sinhala-Tamil-English, breezedeus/cnocr-wx-qr-code, NLPC-UOM/sentence_alignment_dataset-Sinhala-Tamil-English, ekinakyurek/ftrace, nielsr/video-demo, GEM-submissions/lewtun__this-is-a-test-name__1653295318, GEM-submissions/lewtun__this-is-a-test-name__1653295430, reannayang/FL_pavement, aflah/autotrain-data-Engage, mteb/emotion, teven/mpww_filtered_all_passages, reannayang/FL_pavement2, Danastos/qacombined_el, abdoutony207/en_ar_dt, myradeng/cs-230-news-v3, strombergnlp/ara-stance, elifaltintas/new_mimic, myradeng/cs-230-news-v3-test-moderate, myradeng/cs-230-news-v3-test-liberal, myradeng/cs-230-news-v3-test-conservative, angerhang/neurips_submission, cpllab/syntaxgym, Ilyao/BANK_SMS_SHORT_NUMB_TURKEY, elmurod1202/SimRelUz_semantic_evaluation_dataset, espnet/Libri-Trans-Spatialized_SLURP-Spatialized_dataset, jonas/osdg_sdg_data_processed, Rami/pandas_issue_label, juliensimon/amazon-shoe-reviews, resist/l, statworx/Py150ExceptionClassification, InfroLab/REBEL-RU, bloomberg/entsum, GroNLP/divemt, IsaacBot/Natural-Questions-Sentence-Highlight, Aniemore/resd, Fhrozen/dcase22_task3, ywchoi/biogpt2, haml/halml, Splend1dchan/NMSQA_features_wav2vec2-large-lv60, trashsock/hands-images, Etephyr/Project-Echo, taln-ls2n/pubmed, ajders/machine_translated_cnn_dailymail_da_small, supermario/autotrain-data-test-auto, Samirah/legalquestion, gzbang/datasetest, mariosasko/test_push_to_hub, Aniemore/cedr-m7, arampacha/librispeech39, duclee9x/speech_recognition_tdtu, Voicemod/librispeech40, yanekyuk/wikikey-tr, plncmm/wl, yanekyuk/wikikey-en, emilylearning/cond_ft_none_on_reddit__prcnt_20__test_run_False__xlm-roberta-base, dfstrans/elevator_data, thomasg26/fr_corpora_parliament_processed, emilylearning/cond_ft_subreddit_on_reddit__prcnt_20__test_run_False__xlm-roberta-base, emilylearning/cond_ft_none_on_reddit__prcnt_100__test_run_False__xlm-roberta-base, loubnabnl/repo-images, nouamanetazi/amazon_polarity, thomasg26/sv_corpora_parliament_processed, blinoff/healthcare_facilities_reviews, cradle-bio/meltome_cluster_split, evaluate/media, meetyildiz/toqad, myvision/filtered_synthetic, anvelezec/maderapp, mariodoebleriss/test_dataset, lexington/Sneakers, mteb/amazon_reviews_multi, erixxdp/final_dataset, Lehrig/GTZAN-Collection, mteb/amazon_polarity, nawalhmw/demo, awacke1/my-arrow-datasets, emilylearning/cond_ft_none_on_reddit__prcnt_na__test_run_True__xlm-roberta-base, seoyeon-22/test, ulysses-camara/ulysses-ner-br, spoiled/ecqa_classify_5, Jianxin1111/1111, taesiri/GamePhysics_Grand_Theft_Auto_V, idonov/test, mteb/imdb, emilylearning/cond_ft_subreddit_on_reddit__prcnt_100__test_run_False__xlm-roberta-base, mteb/amazon_counterfactual, Ashe/ceshi, LTress/lrl_transfer_hubert, Cheatham/unlabelled-EU-JAV-Italian, wrice/sv_corpora_parliament_processed, pinecone/yt-transcriptions, Yah216/APCD_only_meter_data, merionum/ru_paraphraser, sanchit-gandhi/ami_single_headset_segmented_and_chunked, Evelyn18/becasIncentivos, mteb/toxic_conversations_50k, yanekyuk/wikikey, mteb/tweet_sentiment_extraction, coreybrady/blackwoods, coreybrady/processedblackwoods, Aniemore/REPV, Aniemore/REPV-S, coreybrady/blackwoods-sentences, Evelyn18/becasv2, patrickvonplaten/diffusion_images, deepakvk/conversational_dialogues_001_holdout, ChristophSchuhmann/wikiart_with_BLIP_captions, mbazaNLP/kinyarwanda-tts-dataset, sileod/movie_recommendation, elham/vv, sileod/discourse_marker_qa, deepakvk/conversational_dialogues_001_iteration, blinoff/medical_institutions_reviews, wrice/sv_corpora_parliament_processed_punctuation, sude123/Twitter_Sentiment_Data_1, nickmuchi/fin-class-label, wrice/wikipedia-en-punctuated, Yah216/APCD-Poem_Rawiy_detection, Yah216/Poem_APCD_text_only, cat-state/clip-embeddings, dipesh/Intent-Classification-Commands, Abdelrahman-Rezk/Arabic_Poem_Comprehensive_Dataset_APCD, jet-universe/top_landscape, jet-universe/quark_gluon, gary109/sv_corpora_parliament_processed, mareloraby/Arabic_Poetry_Dataset, Lais/Sentiment-Analysis-on-Movie-Reviews, gary109/onset-singing_corpora_parliament_processed, diegorysr/sentiment-banking, autoevaluate/autoeval-staging-my-eval-project-f70-11, autoevaluate/autoeval-staging-my-eval-project-e83-22, jonas/undp_jobs_raw, 0x7194633/rupile, autoevaluate/autoeval-staging-my-eval-project-7d3-33, autoevaluate/autoeval-staging-eval-project-da7-44, autoevaluate/autoeval-staging-eval-project-7e3-55, diegorysr/sentiment-banking-pln, autoevaluate/autoeval-staging-eval-project-f04-87, autoevaluate/autoeval-staging-eval-project-62f-98, diversifix/inclusive_words, daniel-dona/dani-voice, Rexhaif/xsum_reduced, abdoutony207/en_ar_dataset, vcv/sentiment-banking, autoevaluate/autoeval-staging-eval-project-113-1312, autoevaluate/autoeval-staging-eval-project-664-1413, autoevaluate/autoeval-staging-eval-project-c8b-1514, autoevaluate/autoeval-staging-eval-project-0f1-1615, autoevaluate/autoeval-staging-eval-project-78d-1716, meghazisofiane/mt-ar-en-1, Rexhaif/xnli_ru, ashesicsis1/asr-sample, stfuowned/rick2, myvision/synthetic-dataset-archived, silver/lccc, jugonan202/pln_actividad02, taskydata/tasky_or_not, silver/mmchat, avacaondata/fullnovalid, silver/personal_dialog, MagedSaeed/ashaar, w4ngatang/squality, GEM/squality, jinmang2/tset, danielhou13/cogs402dataset, cat-state/mscoco-1st-caption, autoevaluate/autoeval-staging-eval-project-cca-1817, Rexhaif/cedr-full, meetyildiz/toqad-aug, aaraki/github-issues8, eabayed/EmiratiDialictShowsAudioTranscription, Wangchunshu/VLUE, juletxara/xquad_xtreme, Lehrig/Monkey-Species-Collection, momilla/flattened_contracts, anton-l/earnings21, DFKI-SLT/wikitext_linked, hongdijk/kluekornlu, cahya/paper_abstract, hongdijk/AUGAUG, IsaacBot/SQuADv1-QA-sentence-hl, mteb/mind_small, yananchen/few_nerd_seq2seq, mteb/sts22-crosslingual-sts, cestwc/lsnli-full-uncertain, prajdabre/MorisienMT, declare-lab/cicero, zdreiosis/ffa_grab_1, Rakesh111/hinglish, mbazaNLP/kinyarwanda-language-model-dataset, ibm/vira-intents, twnlp/mydataset, mikehemberger/topex_dataset, autoevaluate/autoeval-staging-eval-project-f37-6284624, cestwc/quora, mikehemberger/topex_dennis, autoevaluate/autoeval-staging-eval-project-42d-6294625, fpaulino/portuguese-tweets, biwi_kinect_head_pose, blinoff/restaurants_reviews, CShorten/Last-Week-on-ArXiv, myvision/yuanchuan-synthetic-dataset-final, LDD/data_new, jakka/warehouse_part1, mikehemberger/topex, martinolmos/discursos_peron, dcfidalgo/liar_sentiment, Rauljj95/Rubrix, angie-chen55/python-github-code, JoseMiguel/sa, aucterra/funsd_re, aleon215/sentiment-banking, muhtasham/tajik-corpus, nferruz/dataset_fastas, arize-ai/ecommerce_reviews_with_language_drift, steven123/Images, lyakaap/laion2B-japanese-subset, gary109/onset-chord_corpora_parliament_processed, clementgyj/FNLP, da3m0n/pln, OneFly/NER, martaculla/Rubrix, EddieChen372/Javsscript, tomekkorbak/pile-debug-value-test, autoevaluate/autoeval-staging-eval-project-a2c-1918, Ghostwolf/hindi-english, autoevaluate/autoeval-staging-eval-project-d70-286557, autoevaluate/autoeval-staging-eval-project-fb9-2019, autoevaluate/autoeval-staging-eval-project-2a17e273-2aec-4ed4-8a13-79c76c83bc88-289558, autoevaluate/autoeval-staging-eval-project-83a-6314631, enwik8, Taeham/wav2vec2-ksponspeech-train, Taeham/wav2vec2-ksponspeech-test, finiteautomata/xyz-test, tomekkorbak/python-github-code, dianalogan/Marketing-Budget-and-Actual-Sales-Dataset, tomekkorbak/pile-toxicity-balanced3-with-values, autoevaluate/autoeval-staging-eval-project-4f190364-464b-4671-814b-d1caf0cfcb39-6324632, STAM/agricore-datasets, cestwc/assumptions, binaya-s/en_corpora_parliament_processed, alejandro7548/Rubrix, ywchoi/biomed_textbooks, loubnabnl/apps, flxclxc/cellock_data, Non-Residual-Prompting/common_gen_dev2, Nurseiit/nedzhi, Splend1dchan/NMSQA_testupload, Attention/mailabs_fyw, autoevaluate/autoeval-staging-eval-project-052989f7-6394664, autoevaluate/autoeval-staging-eval-project-980f97b7-6404665, Splend1dchan/NMSQA_testupload2, autoevaluate/autoeval-staging-eval-project-21840630-6424667, LeboNLP/toxic-natural-utterances, koudeheld/beatles_lyrics, DWFlanagan/sentiment-banking, koudeheld/beatles_lyrics_dict, ChaiML/hellaswag, spasis/datasets-github-issues-2, asahi417/qg_squadshifts, marwansalam/semeval, benwri/GaryOut, asahi417/qg_esquad, asahi417/qg_fquad, asahi417/qg_ptquad, asahi417/qg_koquad, asahi417/qg_ruquad, asahi417/qg_itquad, asahi417/qg_dequad, juanastudillo/datos_caudal, mehnaazasad/arxiv-co-ga, psyche/korquad, Vlasta/human_cdna, theJainuineGuy/ravdess_test, autoevaluate/autoeval-staging-eval-project-5e17b7b4-6444668, AlixCF/sample, amartyobanerjee/github-issues, loulely/fr_corpora_parliament_processed, cmotions/Beatles_lyrics, flxclxc/cellock_embeddings, flxclxc/cellock_data_with_embeddings, CShorten/ArXiv-Title-Abstract, SoDehghan/dataset_for_supmpn, wgolding/test2, juancavallotti/bea-19-corruption, NLPC-UOM/Travel-Dataset-5000, NLPC-UOM/Sinhala-short-sentences, NLPC-UOM/Sinhala-news-clustering, NLPC-UOM/sinhala-sentiment-lexicon-generation, NLPC-UOM/Sinhala-Neuspellcorrector, NLPC-UOM/Tamil-Sinhala-short-sentence-similarity-deep-learning, NLPC-UOM/Sentiment-tagger, levinlab/neuroscience-to-dev-bio-translation, PLN-Activdad-2/sentiment-banking, yanekyuk/wikikey-fr, limsc/concept-recognition, limsc/mlm-tapt-requirements, limsc/sysmlv2-entity-extraction, limsc/fr-nfr-classification, limsc/nfr-subclass-classification, limsc/mlm-dapt-aeroastro, awghuku/infore25, crystina-z/mmarco, anton-l/earnings22, DaniDelgon/sentiment-banking, DaniDelgon/rubrix, cakiki/fr_wikipedia_unigrams, Zaid/metrecv2, TheoMrc/Zebrafish-AChE-Staining, cakiki/es_wikipedia_unigrams, pqknasvquolylkvlic/sentiment-banking, eduu16/Rubrix, juancavallotti/english-gec-tatoeba, cakiki/ar_wikipedia_unigrams, AlekseyKorshuk/persona-chat, cakiki/bn_wikipedia_unigrams, AllenGeng/OCaml_program_corpus, juancavallotti/bea-19-fine-tune, alexyanchag/demo, shpotes/pathfinder, wql/UIE_demo, cakiki/en_wikipedia_unigrams, cakiki/en_wikipedia_bigrams, buio/heart-disease, cakiki/fr_wikipedia_bigrams, cakiki/fr_wikipedia_trigrams, BlackSamorez/2ch_b_dialogues, BeIR/fiqa, BeIR/trec-covid, carblacac/twitter-sentiment-analysis, BeIR/trec-covid-qrels, BeIR/scifact, BeIR/nfcorpus, BeIR/msmarco, BeIR/nq, BeIR/hotpotqa, BeIR/arguana, BeIR/webis-touche2020, BeIR/quora, BeIR/dbpedia-entity, aomar85/QOURA_TEST, BeIR/scidocs, BeIR/fever, BeIR/climate-fever, BeIR/scifact-qrels, BeIR/nfcorpus-qrels, BeIR/msmarco-qrels, BeIR/hotpotqa-qrels, BeIR/fiqa-qrels, BeIR/arguana-qrels, BeIR/webis-touche2020-qrels, BeIR/quora-qrels, BeIR/dbpedia-entity-qrels, BeIR/scidocs-qrels, BeIR/fever-qrels, BeIR/climate-fever-qrels, Resteves/sentimento-red, cakiki/es_wikipedia_bigrams, cakiki/es_wikipedia_trigrams, Resteves/sentimento-red-validated, cakiki/ar_wikipedia_bigrams, cakiki/ar_wikipedia_trigrams, cakiki/bn_wikipedia_bigrams, cakiki/bn_wikipedia_trigrams, Resteves/ServiciosPublicos, alexyanchag/sentiment-banking, MarlaR/dalle, Splend1dchan/NMSQA_testupload3, misaelferrer/actividad2, misaelferrer/sentiment-banking, QuoQA-NLP/klue_mrc, yogeshkulkarni/MidcurveNN, awghuku/fosd, ziq/depression_tweet, akiyamasho/test, Adapting/empathetic_dialogues_v2, bekirbakar/sv_corpora_parliament_processed, bekirbakar/fi_corpora_parliament_processed, AlekseyKorshuk/hellaswag, quynhanh12345/potatoes, cakiki/en_wikipedia_trigrams, quynhanh12345/potatoes_test, quynhanh12345/sidewalk-imagery, jobarrio/sentiment-banking, cakiki/loam_1e_minus_02_unigrams_v1, sanchit-gandhi/earnings22_split, cakiki/loam-viz, BeIR/nq-qrels, osanseviero/hugging_eats, espnet/an4, pnrr/data-turkish-class, BeIR/arguana-generated-queries, BeIR/climate-fever-generated-queries, BeIR/dbpedia-entity-generated-queries, BeIR/fever-generated-queries, ziq/depression_advice, nateraw/imagefolder-metadata-test, nateraw/pascal-voc-2012, filwsyl/test1234, cakiki/loam_1e_minus_02_unigrams_v2, Tevatron/beir, Tevatron/beir-corpus\n"
     ]
    }
   ],
   "source": [
    "from nlp import list_datasets\n",
    "datasets_list = list_datasets()\n",
    "print(', '.join(dataset.id for dataset in datasets_list))"
   ]
  },
  {
   "cell_type": "code",
   "execution_count": 4,
   "id": "b3ec4bea",
   "metadata": {},
   "outputs": [],
   "source": [
    "    from nlp import load_dataset\n",
    "dataset = load_dataset('wikihow', 'all', data_dir='data/')\n"
   ]
  },
  {
   "cell_type": "code",
   "execution_count": 5,
   "id": "33123643",
   "metadata": {},
   "outputs": [
    {
     "name": "stdout",
     "output_type": "stream",
     "text": [
      "dict_keys(['train', 'validation', 'test'])\n"
     ]
    }
   ],
   "source": [
    "print(dataset.keys())"
   ]
  },
  {
   "cell_type": "code",
   "execution_count": 6,
   "id": "174af6c4",
   "metadata": {},
   "outputs": [
    {
     "name": "stdout",
     "output_type": "stream",
     "text": [
      "Size of training data (157252, 3)\n"
     ]
    }
   ],
   "source": [
    "print(\"Size of training data\", dataset['train'].shape)"
   ]
  },
  {
   "cell_type": "code",
   "execution_count": 7,
   "id": "05346315",
   "metadata": {},
   "outputs": [
    {
     "name": "stdout",
     "output_type": "stream",
     "text": [
      "size of validation data (5599, 3)\n"
     ]
    }
   ],
   "source": [
    "print(\"size of validation data\", dataset['validation'].shape)"
   ]
  },
  {
   "cell_type": "code",
   "execution_count": 8,
   "id": "193ffde6",
   "metadata": {},
   "outputs": [
    {
     "name": "stdout",
     "output_type": "stream",
     "text": [
      "size of the test dataset (5577, 3)\n"
     ]
    }
   ],
   "source": [
    "print(\"size of the test dataset\", dataset['test'].shape\n",
    "     )"
   ]
  },
  {
   "cell_type": "code",
   "execution_count": 9,
   "id": "c2eaaefd",
   "metadata": {},
   "outputs": [
    {
     "name": "stdout",
     "output_type": "stream",
     "text": [
      "dict_keys(['headline', 'text', 'title'])\n"
     ]
    }
   ],
   "source": [
    "print(dataset['train'][0].keys())"
   ]
  },
  {
   "cell_type": "code",
   "execution_count": 10,
   "id": "82098482",
   "metadata": {},
   "outputs": [
    {
     "name": "stdout",
     "output_type": "stream",
     "text": [
      "Example text It is possible to become a VFX artist without a college degree, but the path is often easier with one. VFX artists usually major in fine arts, computer graphics, or animation. Choose a college with a reputation for strength in these areas and a reputation for good job placement for graduates. The availability of internships is another factor to consider.Out of the jobs advertised for VFX artists, a majority at any given time specify a bachelor’s degree as a minimum requirement for applicants.;\n",
      ", Some studios offer short-term programs for people who want to learn more about VFX artistry without pursuing a college degree. Enrolling in these programs can be expensive as financial aid isn’t always offered, but they usually have the most cutting edge technology for you to learn from., Although you may create some hand sketches, the majority of your work will be completed on the computer using the most up-to-date programs. Stay informed about the newest software advances by following VFX blogs and taking online computer tutorials.For example, VFX artists are expected to be well-versed in graphics and animation programs, such as Adobe Creative Suite and JavaScript.Clearly list every program that you can work with on your resume.\n",
      " Hop onto YouTube or another video service and search for VFX clip reels or demonstrations. Some of these videos will focus on a particular skill set, such as shading, which you then can practice on your own. Challenge yourself to mimic some of the more difficult tasks, or even try to improve upon the models used., Take as many art and design classes as you can. Or, simply carry a sketch pad around with you to work on your basic animation skills. As you draw, consider factors such as lighting and framing. Even geometry skills can come in handy when creating a particular type of background or even a person’s face.Make a choice to become an observer of the world around you. Ask yourself: how could I capture the movement of the leaves? Or, in what situations do shadows appear?\n",
      "\n",
      ", Watch all of these creations with an eye for detail. Look for the techniques used and any original approaches that you see. Try to recreate any scenes that you find particularly interesting. Research the artists and see what their backgrounds are and contact them if you like., As you gain more experience, you’ll likely find yourself gravitating toward a certain aspect of design. This will become your “calling card” and directors and other professionals will seek you out for this type of work. To build your specialization, start choosing jobs with that emphasis and attend additional training seminars.For example, some VFX specialists focus on human character’s faces, animal figures, or city backgrounds.\n"
     ]
    }
   ],
   "source": [
    "print(\"Example text\", dataset['train'][2]['text'])"
   ]
  },
  {
   "cell_type": "code",
   "execution_count": 11,
   "id": "3f0ef218",
   "metadata": {},
   "outputs": [
    {
     "name": "stdout",
     "output_type": "stream",
     "text": [
      "example of summary:Keep related supplies in the same area.\n",
      "Make an effort to clean a dedicated workspace after every session.\n",
      "Place loose supplies in large, clearly visible containers.\n",
      "Use clotheslines and clips to hang sketches, photos, and reference material.\n",
      "Use every inch of the room for storage, especially vertical space.\n",
      "Use chalkboard paint to make space for drafting ideas right on the walls.\n",
      "Purchase a label maker to make your organization strategy semi-permanent.\n",
      "Make a habit of throwing out old, excess, or useless stuff each month.\n"
     ]
    }
   ],
   "source": [
    "print(\"example of summary:\" + dataset['train'][0]['headline'])"
   ]
  },
  {
   "cell_type": "code",
   "execution_count": 12,
   "id": "e6e2f657",
   "metadata": {},
   "outputs": [
    {
     "name": "stdout",
     "output_type": "stream",
     "text": [
      " Example of Title:  How to Be an Organized Artist1\n"
     ]
    }
   ],
   "source": [
    "print(\" Example of Title: \", dataset['train'][0]['title'])"
   ]
  },
  {
   "cell_type": "code",
   "execution_count": 13,
   "id": "4bbc7349",
   "metadata": {},
   "outputs": [],
   "source": [
    "#Estimating the average length of the text and the summary over a tiny dataset \n",
    "\n",
    "tiny_dataset = dataset['train'].select(list(range(0,100)))\n",
    "text_len = []\n",
    "summary_len = []"
   ]
  },
  {
   "cell_type": "code",
   "execution_count": 14,
   "id": "f552e50b",
   "metadata": {},
   "outputs": [
    {
     "data": {
      "text/plain": [
       "[]"
      ]
     },
     "execution_count": 14,
     "metadata": {},
     "output_type": "execute_result"
    }
   ],
   "source": [
    "text_len"
   ]
  },
  {
   "cell_type": "code",
   "execution_count": 15,
   "id": "52900bc6",
   "metadata": {},
   "outputs": [],
   "source": [
    "for i in range(len(tiny_dataset)):\n",
    "    example = tiny_dataset[i]\n",
    "    text_example = example['text']\n",
    "    text_example = text_example.replace('\\n','')\n",
    "    text_words = text_example.split()\n",
    "    text_len.append(len(text_words))\n",
    "    summary_example = example['headline']\n",
    "    summary_example = summary_example.replace('\\n', '')\n",
    "    summary_words = summary_example.split()\n",
    "    summary_len.append(len(summary_words))"
   ]
  },
  {
   "cell_type": "code",
   "execution_count": 16,
   "id": "bb4172a6",
   "metadata": {},
   "outputs": [
    {
     "data": {
      "image/png": "[encoded data removed]",
      "text/plain": [
       "<Figure size 432x288 with 1 Axes>"
      ]
     },
     "metadata": {
      "needs_background": "light"
     },
     "output_type": "display_data"
    }
   ],
   "source": [
    "import matplotlib.pyplot as plt \n",
    "%matplotlib inline \n",
    "plt.hist(text_len)\n",
    "plt.title('Text length Distribution - First 100')\n",
    "plt.show()"
   ]
  },
  {
   "cell_type": "code",
   "execution_count": 17,
   "id": "fe0a9630",
   "metadata": {},
   "outputs": [
    {
     "data": {
      "image/png": "[encoded data removed]",
      "text/plain": [
       "<Figure size 432x288 with 1 Axes>"
      ]
     },
     "metadata": {
      "needs_background": "light"
     },
     "output_type": "display_data"
    }
   ],
   "source": [
    "plt.hist(summary_len)\n",
    "plt.title('Summary length Distribution - First 100')\n",
    "plt.show()"
   ]
  },
  {
   "cell_type": "code",
   "execution_count": 18,
   "id": "597b61bf",
   "metadata": {},
   "outputs": [
    {
     "name": "stdout",
     "output_type": "stream",
     "text": [
      "662.69\n",
      "48.8\n"
     ]
    }
   ],
   "source": [
    "#Average length of the summary and text \n",
    "print(sum(text_len)/len(text_len))\n",
    "print(sum(summary_len)/len(summary_len))\n"
   ]
  },
  {
   "cell_type": "code",
   "execution_count": 19,
   "id": "f5ddf4a6",
   "metadata": {},
   "outputs": [],
   "source": [
    "#Define the model \n",
    "def set_seed(seed):\n",
    "    random.seed(seed)\n",
    "    np.random.seed(seed)\n",
    "    torch.manual_seed(seed)\n",
    "    if torch.cuda.is_available():\n",
    "        torch.cuda.manual_seed_all(seed)"
   ]
  },
  {
   "cell_type": "code",
   "execution_count": 20,
   "id": "daf0448e",
   "metadata": {},
   "outputs": [],
   "source": [
    "set_seed(42)"
   ]
  },
  {
   "cell_type": "code",
   "execution_count": 21,
   "id": "a2ce89bb",
   "metadata": {},
   "outputs": [],
   "source": [
    "class T5FineTuner(pl.LightningModule):\n",
    "    def __init__(self, hparams,*args):\n",
    "        super(T5FineTuner, self).__init__()\n",
    "        self.hparams.update(vars(hparams))\n",
    "        self.model = T5ForConditionalGeneration.from_pretrained(hparams.model_name_or_path)\n",
    "        self.tokenizer = T5Tokenizer.from_pretrained(hparams.tokenizer_name_or_path)\n",
    "        self.rouge_metric = load_metric('rouge') \n",
    "        \n",
    "        if self.hparams.freeze_embeds:\n",
    "            self.freeze_embeds()\n",
    "        if self.hparams.freeze_encoder:\n",
    "            self.freeze_params(self.model.get_encoder())\n",
    "            assert_all_frozen(self.model.get_encoder())\n",
    "            \n",
    "            \n",
    "        n_observations_per_split = {\n",
    "            \"train\": self.hparams.n_train,\n",
    "            \"validation\": self.hparams.n_val,\n",
    "            \"test\": self.hparams.n_test,\n",
    "        }\n",
    "        self.n_obs = {k: v if v >= 0 else None for k, v in n_observations_per_split.items()}\n",
    "        \n",
    "    \n",
    "    def freeze_params(self, model):\n",
    "        for par in model.parameters():\n",
    "            par.requires_grad = False\n",
    "            \n",
    "            \n",
    "    def freeze_embeds(self):\n",
    "        \"\"\"Freeze token embeddings and positional embeddings for bart, just token embeddings for t5.\"\"\"\n",
    "        try:\n",
    "            self.freeze_params(self.model.model.shared)\n",
    "            for d in [self.model.model.encoder, self.model.model.decoder]:\n",
    "                freeze_params(d.embed_positions)\n",
    "                freeze_params(d.embed_tokens)\n",
    "        except AttributeError:\n",
    "            self.freeze_params(self.model.shared)\n",
    "            for d in [self.model.encoder, self.model.decoder]:\n",
    "                self.freeze_params(d.embed_tokens)\n",
    "    \n",
    "    def lmap(self, f, x):\n",
    "        \"\"\"list(map(f, x))\"\"\"\n",
    "        return list(map(f, x))\n",
    "    \n",
    "\n",
    "    def is_logger(self):\n",
    "        return self.trainer.global_rank <= 0\n",
    "    \n",
    "    \n",
    "    def parse_score(self, result):\n",
    "        return {k: round(v.mid.fmeasure * 100, 4) for k, v in result.items()}\n",
    "        \n",
    "    def forward(\n",
    "      self, input_ids, attention_mask=None, decoder_input_ids=None, decoder_attention_mask=None,labels=None\n",
    "  ):\n",
    "        return self.model(\n",
    "            input_ids,\n",
    "            attention_mask=attention_mask,\n",
    "            decoder_input_ids=decoder_input_ids,\n",
    "            decoder_attention_mask=decoder_attention_mask,\n",
    "            labels=labels,\n",
    "    )\n",
    "\n",
    "    def _step(self, batch):\n",
    "        labels = batch[\"target_ids\"]\n",
    "        labels[labels[:, :] == self.tokenizer.pad_token_id] = -100\n",
    "\n",
    "        outputs = self(\n",
    "            input_ids=batch[\"source_ids\"],\n",
    "            attention_mask=batch[\"source_mask\"],\n",
    "            labels=labels,\n",
    "            decoder_attention_mask=batch['target_mask']\n",
    "        )\n",
    "\n",
    "        loss = outputs[0]\n",
    "\n",
    "        return loss\n",
    "    \n",
    "    \n",
    "    def ids_to_clean_text(self, generated_ids):\n",
    "        gen_text = self.tokenizer.batch_decode(\n",
    "            generated_ids, skip_special_tokens=True, clean_up_tokenization_spaces=True\n",
    "        )\n",
    "        return self.lmap(str.strip, gen_text)\n",
    "    \n",
    "    \n",
    "    def _generative_step(self, batch) :\n",
    "        \n",
    "        t0 = time.time()\n",
    "        \n",
    "        generated_ids = self.model.generate(\n",
    "            batch[\"source_ids\"],\n",
    "            attention_mask=batch[\"source_mask\"],\n",
    "            use_cache=True,\n",
    "            decoder_attention_mask=batch['target_mask'],\n",
    "            max_length=150, \n",
    "            num_beams=2,\n",
    "            repetition_penalty=2.5, \n",
    "            length_penalty=1.0, \n",
    "            early_stopping=True\n",
    "        )\n",
    "        preds = self.ids_to_clean_text(generated_ids)\n",
    "        target = self.ids_to_clean_text(batch[\"target_ids\"])\n",
    "            \n",
    "        gen_time = (time.time() - t0) / batch[\"source_ids\"].shape[0]  \n",
    "    \n",
    "        loss = self._step(batch)\n",
    "        base_metrics = {'val_loss': loss}\n",
    "#         rouge: Dict = self.calc_generative_metrics(preds, target)\n",
    "        summ_len = np.mean(self.lmap(len, generated_ids))\n",
    "        base_metrics.update(gen_time=gen_time, gen_len=summ_len, preds=preds, target=target)\n",
    "        self.rouge_metric.add_batch(preds, target)\n",
    "        \n",
    "#         rouge_results = self.rouge_metric.compute() \n",
    "#         rouge_dict = self.parse_score(rouge_results)\n",
    "#         base_metrics.update(rouge1=rouge_dict['rouge1'], rougeL=rouge_dict['rougeL'])\n",
    "        \n",
    "        return base_metrics\n",
    "    \n",
    "\n",
    "    def training_step(self, batch, batch_idx):\n",
    "        loss = self._step(batch)\n",
    "\n",
    "        tensorboard_logs = {\"train_loss\": loss}\n",
    "        return {\"loss\": loss, \"log\": tensorboard_logs}\n",
    "  \n",
    "    def training_epoch_end(self, outputs):\n",
    "        avg_train_loss = torch.stack([x[\"loss\"] for x in outputs]).mean()\n",
    "        tensorboard_logs = {\"avg_train_loss\": avg_train_loss}\n",
    "        return {\"avg_train_loss\": avg_train_loss, \"log\": tensorboard_logs, 'progress_bar': tensorboard_logs}\n",
    "\n",
    "    def validation_step(self, batch, batch_idx):\n",
    "        return self._generative_step(batch)\n",
    "    \n",
    "  \n",
    "    def validation_epoch_end(self, outputs):\n",
    "        \n",
    "        avg_loss = torch.stack([x[\"val_loss\"] for x in outputs]).mean()\n",
    "        tensorboard_logs = {\"val_loss\": avg_loss}\n",
    "        \n",
    "        rouge_results = self.rouge_metric.compute() \n",
    "        rouge_dict = self.parse_score(rouge_results)\n",
    "    \n",
    "        tensorboard_logs.update(rouge1=rouge_dict['rouge1'], rougeL=rouge_dict['rougeL'])\n",
    "        \n",
    "        ## Clear out the lists for next epoch\n",
    "        self.target_gen= []\n",
    "        self.prediction_gen=[]\n",
    "        return {\"avg_val_loss\": avg_loss, \n",
    "                \"rouge1\" : rouge_results['rouge1'],\n",
    "                \"rougeL\" : rouge_results['rougeL'],\n",
    "                \"log\": tensorboard_logs, 'progress_bar': tensorboard_logs}\n",
    "\n",
    "    def configure_optimizers(self):\n",
    "        \"Prepare optimizer and schedule (linear warmup and decay)\"\n",
    "\n",
    "        model = self.model\n",
    "        no_decay = [\"bias\", \"LayerNorm.weight\"]\n",
    "        optimizer_grouped_parameters = [\n",
    "            {\n",
    "                \"params\": [p for n, p in model.named_parameters() if not any(nd in n for nd in no_decay)],\n",
    "                \"weight_decay\": self.hparams.weight_decay,\n",
    "            },\n",
    "            {\n",
    "                \"params\": [p for n, p in model.named_parameters() if any(nd in n for nd in no_decay)],\n",
    "                \"weight_decay\": 0.0,\n",
    "            },\n",
    "        ]\n",
    "        optimizer = AdamW(optimizer_grouped_parameters, lr=self.hparams.learning_rate, eps=self.hparams.adam_epsilon)\n",
    "        self.opt = optimizer\n",
    "        return [optimizer]\n",
    "  \n",
    "    def optimizer_step(self, epoch, batch_idx, optimizer, optimizer_idx, second_order_closure=None, using_native_amp=False):\n",
    "        if self.trainer.use_tpu:\n",
    "            xm.optimizer_step(optimizer)\n",
    "        else:\n",
    "            optimizer.step()\n",
    "        optimizer.zero_grad()\n",
    "        self.lr_scheduler.step()\n",
    "  \n",
    "    def get_tqdm_dict(self):\n",
    "        tqdm_dict = {\"loss\": \"{:.3f}\".format(self.trainer.avg_loss), \"lr\": self.lr_scheduler.get_last_lr()[-1]}\n",
    "\n",
    "        return tqdm_dict\n",
    "    \n",
    "\n",
    "    def train_dataloader(self):   \n",
    "        n_samples = self.n_obs['train']\n",
    "        train_dataset = get_dataset(tokenizer=self.tokenizer, type_path=\"train\", num_samples=n_samples, args=self.hparams)\n",
    "        dataloader = DataLoader(train_dataset, batch_size=self.hparams.train_batch_size, drop_last=True, shuffle=True, num_workers=4)\n",
    "        t_total = (\n",
    "            (len(dataloader.dataset) // (self.hparams.train_batch_size * max(1, self.hparams.n_gpu)))\n",
    "            // self.hparams.gradient_accumulation_steps\n",
    "            * float(self.hparams.num_train_epochs)\n",
    "        )\n",
    "        scheduler = get_linear_schedule_with_warmup(\n",
    "            self.opt, num_warmup_steps=self.hparams.warmup_steps, num_training_steps=t_total\n",
    "        )\n",
    "        self.lr_scheduler = scheduler\n",
    "        return dataloader\n",
    "\n",
    "    def val_dataloader(self):\n",
    "        n_samples = self.n_obs['validation']\n",
    "        validation_dataset = get_dataset(tokenizer=self.tokenizer, type_path=\"validation\", num_samples=n_samples, args=self.hparams)\n",
    "        \n",
    "        return DataLoader(validation_dataset, batch_size=self.hparams.eval_batch_size, num_workers=4)\n",
    "    \n",
    "    \n",
    "    def test_dataloader(self):\n",
    "        n_samples = self.n_obs['test']\n",
    "        test_dataset = get_dataset(tokenizer=self.tokenizer, type_path=\"test\", num_samples=n_samples, args=self.hparams)\n",
    "        \n",
    "        return DataLoader(test_dataset, batch_size=self.hparams.eval_batch_size, num_workers=4)"
   ]
  },
  {
   "cell_type": "code",
   "execution_count": 22,
   "id": "808a1d0d",
   "metadata": {},
   "outputs": [],
   "source": [
    "logger = logging.getLogger(__name__)\n",
    "\n",
    "class LoggingCallback(pl.Callback):\n",
    "    def on_validation_end(self, trainer, pl_module):\n",
    "        logger.info(\"***** Validation results *****\")\n",
    "        if pl_module.is_logger():\n",
    "            metrics = trainer.callback_metrics\n",
    "            # Log results\n",
    "            for key in sorted(metrics):\n",
    "                if key not in [\"log\", \"progress_bar\"]:\n",
    "                    logger.info(\"{} = {}\\n\".format(key, str(metrics[key])))\n",
    "\n",
    "    def on_test_end(self, trainer, pl_module):\n",
    "        logger.info(\"***** Test results *****\")\n",
    "\n",
    "        if pl_module.is_logger():\n",
    "            metrics = trainer.callback_metrics\n",
    "\n",
    "            # Log and save results to file\n",
    "            output_test_results_file = os.path.join(pl_module.hparams.output_dir, \"test_results.txt\")\n",
    "            with open(output_test_results_file, \"w\") as writer:\n",
    "                for key in sorted(metrics):\n",
    "                    if key not in [\"log\", \"progress_bar\"]:\n",
    "                        logger.info(\"{} = {}\\n\".format(key, str(metrics[key])))\n",
    "                        writer.write(\"{} = {}\\n\".format(key, str(metrics[key])))"
   ]
  },
  {
   "cell_type": "code",
   "execution_count": 23,
   "id": "4c9a8791",
   "metadata": {},
   "outputs": [],
   "source": [
    "class wikihow(Dataset):\n",
    "    def __init__(self, tokenizer, type_path, num_samples, input_length, output_length, print_text=False):         \n",
    "        self.dataset =  load_dataset('wikihow', 'all', data_dir='data/', split=type_path)\n",
    "        if num_samples:\n",
    "            self.dataset = self.dataset.select(list(range(0, num_samples)))\n",
    "        self.input_length = input_length\n",
    "        self.tokenizer = tokenizer\n",
    "        self.output_length = output_length\n",
    "        self.print_text = print_text\n",
    "  \n",
    "    def __len__(self):\n",
    "        return self.dataset.shape[0]\n",
    "    \n",
    "    def clean_text(self, text):\n",
    "        text = text.replace('Example of text:', '')\n",
    "        text = text.replace('Example of Summary:', '')\n",
    "        text = text.replace('\\n','')\n",
    "        text = text.replace('``', '')\n",
    "        text = text.replace('\"', '')\n",
    "        \n",
    "        return text\n",
    "    \n",
    "    \n",
    "    def convert_to_features(self, example_batch):\n",
    "        # Tokenize contexts and questions (as pairs of inputs)\n",
    "        \n",
    "        if self.print_text:\n",
    "            print(\"Input Text: \", self.clean_text(example_batch['text']))\n",
    "#         input_ = self.clean_text(example_batch['text']) + \" </s>\"\n",
    "#         target_ = self.clean_text(example_batch['headline']) + \" </s>\"\n",
    "        \n",
    "        input_ = self.clean_text(example_batch['text'])\n",
    "        target_ = self.clean_text(example_batch['headline'])\n",
    "        \n",
    "        source = self.tokenizer.batch_encode_plus([input_], max_length=self.input_length, \n",
    "                                                     padding='max_length', truncation=True, return_tensors=\"pt\")\n",
    "        \n",
    "        targets = self.tokenizer.batch_encode_plus([target_], max_length=self.output_length, \n",
    "                                                     padding='max_length', truncation=True, return_tensors=\"pt\")\n",
    "    \n",
    "       \n",
    "        return source, targets\n",
    "  \n",
    "    def __getitem__(self, index):\n",
    "        source, targets = self.convert_to_features(self.dataset[index])\n",
    "        \n",
    "        source_ids = source[\"input_ids\"].squeeze()\n",
    "        target_ids = targets[\"input_ids\"].squeeze()\n",
    "\n",
    "        src_mask    = source[\"attention_mask\"].squeeze()\n",
    "        target_mask = targets[\"attention_mask\"].squeeze()\n",
    "\n",
    "        return {\"source_ids\": source_ids, \"source_mask\": src_mask, \"target_ids\": target_ids, \"target_mask\": target_mask}\n",
    "        "
   ]
  },
  {
   "cell_type": "code",
   "execution_count": 24,
   "id": "574b92e6",
   "metadata": {},
   "outputs": [
    {
     "data": {
      "text/plain": [
       "5599"
      ]
     },
     "execution_count": 24,
     "metadata": {},
     "output_type": "execute_result"
    }
   ],
   "source": [
    "tokenizer = T5Tokenizer.from_pretrained('t5-small')\n",
    "dataset = wikihow(tokenizer, 'validation', None, 512, 150, True)\n",
    "len(dataset)"
   ]
  },
  {
   "cell_type": "code",
   "execution_count": 25,
   "id": "caf03622",
   "metadata": {},
   "outputs": [
    {
     "name": "stdout",
     "output_type": "stream",
     "text": [
      "Input Text:  You can use a smaller size (3/4 inch is used here), but it won't be as strong.;, Be sure that the feet are headed in the same direction and the shape is as squared as you can get it. It is very easy to get turned around. You want it to shrink somewhat (like it would naturally) before you affix it to the frame.If you are going to be making a quilted bed, do what you need to, to get it ready. The soft part of this setup is a small velour blanket folded into quarters., You could use rivets, snaps, hooks, even Velcro. Keep in mind that you are going to have to clean it periodically.A particularly easy method is to sew the material around the sides, but you won't be able to glue the legs to the corner ends, completely.\n",
      "\n",
      "Shape of Tokenized Text:  torch.Size([512])\n",
      "\n",
      "Sanity check - Decode Text:  You can use a smaller size (3/4 inch is used here), but it won't be as strong.;, Be sure that the feet are headed in the same direction and the shape is as squared as you can get it. It is very easy to get turned around. You want it to shrink somewhat (like it would naturally) before you affix it to the frame.If you are going to be making a quilted bed, do what you need to, to get it ready. The soft part of this setup is a small velour blanket folded into quarters., You could use rivets, snaps, hooks, even Velcro. Keep in mind that you are going to have to clean it periodically.A particularly easy method is to sew the material around the sides, but you won't be able to glue the legs to the corner ends, completely.</s> <pad> <pad> <pad> <pad> <pad> <pad> <pad> <pad> <pad> <pad> <pad> <pad> <pad> <pad> <pad> <pad> <pad> <pad> <pad> <pad> <pad> <pad> <pad> <pad> <pad> <pad> <pad> <pad> <pad> <pad> <pad> <pad> <pad> <pad> <pad> <pad> <pad> <pad> <pad> <pad> <pad> <pad> <pad> <pad> <pad> <pad> <pad> <pad> <pad> <pad> <pad> <pad> <pad> <pad> <pad> <pad> <pad> <pad> <pad> <pad> <pad> <pad> <pad> <pad> <pad> <pad> <pad> <pad> <pad> <pad> <pad> <pad> <pad> <pad> <pad> <pad> <pad> <pad> <pad> <pad> <pad> <pad> <pad> <pad> <pad> <pad> <pad> <pad> <pad> <pad> <pad> <pad> <pad> <pad> <pad> <pad> <pad> <pad> <pad> <pad> <pad> <pad> <pad> <pad> <pad> <pad> <pad> <pad> <pad> <pad> <pad> <pad> <pad> <pad> <pad> <pad> <pad> <pad> <pad> <pad> <pad> <pad> <pad> <pad> <pad> <pad> <pad> <pad> <pad> <pad> <pad> <pad> <pad> <pad> <pad> <pad> <pad> <pad> <pad> <pad> <pad> <pad> <pad> <pad> <pad> <pad> <pad> <pad> <pad> <pad> <pad> <pad> <pad> <pad> <pad> <pad> <pad> <pad> <pad> <pad> <pad> <pad> <pad> <pad> <pad> <pad> <pad> <pad> <pad> <pad> <pad> <pad> <pad> <pad> <pad> <pad> <pad> <pad> <pad> <pad> <pad> <pad> <pad> <pad> <pad> <pad> <pad> <pad> <pad> <pad> <pad> <pad> <pad> <pad> <pad> <pad> <pad> <pad> <pad> <pad> <pad> <pad> <pad> <pad> <pad> <pad> <pad> <pad> <pad> <pad> <pad> <pad> <pad> <pad> <pad> <pad> <pad> <pad> <pad> <pad> <pad> <pad> <pad> <pad> <pad> <pad> <pad> <pad> <pad> <pad> <pad> <pad> <pad> <pad> <pad> <pad> <pad> <pad> <pad> <pad> <pad> <pad> <pad> <pad> <pad> <pad> <pad> <pad> <pad> <pad> <pad> <pad> <pad> <pad> <pad> <pad> <pad> <pad> <pad> <pad> <pad> <pad> <pad> <pad> <pad> <pad> <pad> <pad> <pad> <pad> <pad> <pad> <pad> <pad> <pad> <pad> <pad> <pad> <pad> <pad> <pad> <pad> <pad> <pad> <pad> <pad> <pad> <pad> <pad> <pad> <pad> <pad> <pad> <pad> <pad> <pad> <pad> <pad> <pad> <pad> <pad> <pad> <pad> <pad> <pad> <pad> <pad> <pad> <pad> <pad> <pad> <pad> <pad> <pad> <pad> <pad> <pad> <pad> <pad> <pad> <pad> <pad> <pad>\n",
      "====================================\n",
      "Sanity check - Decode Summary:  Get your PVC pieces all together.Start assembling them.If your cloth that you will be using is new, wash it.Take the larger sheet of material and wrap it around the sides of the bed.,Find some way of fastening them.Finished.</s> <pad> <pad> <pad> <pad> <pad> <pad> <pad> <pad> <pad> <pad> <pad> <pad> <pad> <pad> <pad> <pad> <pad> <pad> <pad> <pad> <pad> <pad> <pad> <pad> <pad> <pad> <pad> <pad> <pad> <pad> <pad> <pad> <pad> <pad> <pad> <pad> <pad> <pad> <pad> <pad> <pad> <pad> <pad> <pad> <pad> <pad> <pad> <pad> <pad> <pad> <pad> <pad> <pad> <pad> <pad> <pad> <pad> <pad> <pad> <pad> <pad> <pad> <pad> <pad> <pad> <pad> <pad> <pad> <pad> <pad> <pad> <pad> <pad> <pad> <pad> <pad> <pad> <pad> <pad> <pad> <pad> <pad> <pad> <pad> <pad> <pad> <pad> <pad> <pad> <pad> <pad> <pad>\n"
     ]
    }
   ],
   "source": [
    "data = dataset[50]\n",
    "print()\n",
    "print(\"Shape of Tokenized Text: \", data['source_ids'].shape)\n",
    "print()\n",
    "print(\"Sanity check - Decode Text: \", tokenizer.decode(data['source_ids']))\n",
    "print(\"====================================\")\n",
    "print(\"Sanity check - Decode Summary: \", tokenizer.decode(data['target_ids']))"
   ]
  },
  {
   "cell_type": "code",
   "execution_count": 26,
   "id": "09ed1567",
   "metadata": {},
   "outputs": [],
   "source": [
    "args_dict = dict(\n",
    "    output_dir=\"\", # path to save the checkpoints\n",
    "    model_name_or_path='t5-small',\n",
    "    tokenizer_name_or_path='t5-small',\n",
    "    max_input_length=512,\n",
    "    max_output_length=150,\n",
    "    freeze_encoder=False,\n",
    "    freeze_embeds=False,\n",
    "    learning_rate=3e-4,\n",
    "    weight_decay=0.0,\n",
    "    adam_epsilon=1e-8,\n",
    "    warmup_steps=0,\n",
    "    train_batch_size=4,\n",
    "    eval_batch_size=4,\n",
    "    num_train_epochs=2,\n",
    "    gradient_accumulation_steps=8,\n",
    "    n_gpu=1,\n",
    "    resume_from_checkpoint=None, \n",
    "    val_check_interval = 0.05, \n",
    "    n_val=1000,\n",
    "    n_train=-1,\n",
    "    n_test=-1,\n",
    "    early_stop_callback=False,\n",
    "    fp_16=False, # if you want to enable 16-bit training then install apex and set this to true\n",
    "    #opt_level='O1', # you can find out more on optimisation levels here https://nvidia.github.io/apex/amp.html#opt-levels-and-properties\n",
    "    max_grad_norm=1.0, # if you enable 16-bit training then set this to a sensible value, 0.5 is a good default\n",
    "    seed=42,\n",
    ")"
   ]
  },
  {
   "cell_type": "code",
   "execution_count": 27,
   "id": "e1350dfb",
   "metadata": {},
   "outputs": [
    {
     "name": "stdout",
     "output_type": "stream",
     "text": [
      "Namespace(adam_epsilon=1e-08, early_stop_callback=False, eval_batch_size=4, fp_16=False, freeze_embeds=False, freeze_encoder=False, gradient_accumulation_steps=8, learning_rate=0.0003, max_grad_norm=1.0, max_input_length=512, max_output_length=150, model_name_or_path='t5-small', n_gpu=1, n_test=-1, n_train=-1, n_val=1000, num_train_epochs=2, output_dir='t5_wikihow', resume_from_checkpoint=None, seed=42, tokenizer_name_or_path='t5-small', train_batch_size=4, val_check_interval=0.05, warmup_steps=0, weight_decay=0.0)\n"
     ]
    }
   ],
   "source": [
    "args_dict.update({'output_dir': 't5_wikihow', 'num_train_epochs':2,\n",
    "                 'train_batch_size': 4, 'eval_batch_size': 4})\n",
    "args = argparse.Namespace(**args_dict)\n",
    "#print(args_dict)\n",
    "print(args)"
   ]
  },
  {
   "cell_type": "code",
   "execution_count": 28,
   "id": "264ab302",
   "metadata": {},
   "outputs": [],
   "source": [
    "## Define Checkpoint function\n",
    "checkpoint_callback = pl.callbacks.ModelCheckpoint(\n",
    "    dirpath=args.output_dir, monitor=\"val_loss\", mode=\"min\", save_top_k=3\n",
    ")\n",
    "\n",
    "## If resuming from checkpoint, add an arg resume_from_checkpoint\n",
    "train_params = dict(\n",
    "    accumulate_grad_batches=args.gradient_accumulation_steps,\n",
    "    #pus=args.n_gpu,\n",
    "    max_epochs=args.num_train_epochs,\n",
    "    #arly_stop_callback=False,\n",
    "    precision= 16 if args.fp_16 else 32,\n",
    "   #amp_level=args.opt_level,\n",
    "    resume_from_checkpoint=args.resume_from_checkpoint,\n",
    "    gradient_clip_val=args.max_grad_norm,\n",
    "    checkpoint_callback=checkpoint_callback,\n",
    "    val_check_interval=args.val_check_interval,\n",
    "    logger=wandb_logger,\n",
    "    callbacks=[LoggingCallback()],\n",
    ")"
   ]
  },
  {
   "cell_type": "code",
   "execution_count": 29,
   "id": "e4e527e5",
   "metadata": {},
   "outputs": [],
   "source": [
    "def get_dataset(tokenizer, type_path, num_samples, args):\n",
    "      return wikihow(tokenizer=tokenizer, type_path=type_path, num_samples=num_samples,  input_length=args.max_input_length, \n",
    "                        output_length=args.max_output_length)"
   ]
  },
  {
   "cell_type": "code",
   "execution_count": 30,
   "id": "656b6e4f",
   "metadata": {},
   "outputs": [],
   "source": [
    "model = T5FineTuner(args)"
   ]
  },
  {
   "cell_type": "code",
   "execution_count": 31,
   "id": "8695412b",
   "metadata": {},
   "outputs": [
    {
     "name": "stderr",
     "output_type": "stream",
     "text": [
      "/home/divyansh/Divyansh/projects/TextSummarizer/packages/lib/python3.8/site-packages/pytorch_lightning/trainer/connectors/callback_connector.py:151: LightningDeprecationWarning: Setting `Trainer(checkpoint_callback=<pytorch_lightning.callbacks.model_checkpoint.ModelCheckpoint object at 0x7fbbbe203220>)` is deprecated in v1.5 and will be removed in v1.7. Please consider using `Trainer(enable_checkpointing=<pytorch_lightning.callbacks.model_checkpoint.ModelCheckpoint object at 0x7fbbbe203220>)`.\n",
      "  rank_zero_deprecation(\n",
      "GPU available: False, used: False\n",
      "TPU available: False, using: 0 TPU cores\n",
      "IPU available: False, using: 0 IPUs\n",
      "HPU available: False, using: 0 HPUs\n"
     ]
    }
   ],
   "source": [
    "trainer = pl.Trainer(**train_params)"
   ]
  },
  {
   "cell_type": "code",
   "execution_count": null,
   "id": "358856ac",
   "metadata": {},
   "outputs": [
    {
     "name": "stderr",
     "output_type": "stream",
     "text": [
      "/home/divyansh/Divyansh/projects/TextSummarizer/packages/lib/python3.8/site-packages/pytorch_lightning/trainer/configuration_validator.py:117: UserWarning: When using `Trainer(accumulate_grad_batches != 1)` and overriding `LightningModule.optimizer_{step,zero_grad}`, the hooks will not be called on every batch (rather, they are called on every optimization step).\n",
      "  rank_zero_warn(\n",
      "/home/divyansh/Divyansh/projects/TextSummarizer/packages/lib/python3.8/site-packages/transformers/optimization.py:306: FutureWarning: This implementation of AdamW is deprecated and will be removed in a future version. Use the PyTorch implementation torch.optim.AdamW instead, or set `no_deprecation_warning=True` to disable this warning\n",
      "  warnings.warn(\n",
      "\n",
      "  | Name  | Type                       | Params\n",
      "-----------------------------------------------------\n",
      "0 | model | T5ForConditionalGeneration | 60.5 M\n",
      "-----------------------------------------------------\n",
      "60.5 M    Trainable params\n",
      "0         Non-trainable params\n",
      "60.5 M    Total params\n",
      "242.026   Total estimated model params size (MB)\n"
     ]
    },
    {
     "data": {
      "application/vnd.jupyter.widget-view+json": {
       "model_id": "",
       "version_major": 2,
       "version_minor": 0
      },
      "text/plain": [
       "Sanity Checking: 0it [00:00, ?it/s]"
      ]
     },
     "metadata": {},
     "output_type": "display_data"
    },
    {
     "data": {
      "application/vnd.jupyter.widget-view+json": {
       "model_id": "23011d815804405a9e9176a391b48f3d",
       "version_major": 2,
       "version_minor": 0
      },
      "text/plain": [
       "Training: 0it [00:00, ?it/s]"
      ]
     },
     "metadata": {},
     "output_type": "display_data"
    }
   ],
   "source": [
    "    \n",
    "trainer.fit(model)"
   ]
  }
 ],
 "metadata": {
  "kernelspec": {
   "display_name": "Python 3 (ipykernel)",
   "language": "python",
   "name": "python3"
  },
  "language_info": {
   "codemirror_mode": {
    "name": "ipython",
    "version": 3
   },
   "file_extension": ".py",
   "mimetype": "text/x-python",
   "name": "python",
   "nbconvert_exporter": "python",
   "pygments_lexer": "ipython3",
   "version": "3.8.10"
  }
 },
 "nbformat": 4,
 "nbformat_minor": 5
}
